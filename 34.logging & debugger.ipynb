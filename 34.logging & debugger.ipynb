{
 "cells": [
  {
   "cell_type": "code",
   "execution_count": 2,
   "id": "52744221-f03a-448b-bcab-72c07d64884c",
   "metadata": {},
   "outputs": [
    {
     "name": "stdout",
     "output_type": "stream",
     "text": [
      "this is my print\n"
     ]
    }
   ],
   "source": [
    "print(\"this is my print\")"
   ]
  },
  {
   "cell_type": "code",
   "execution_count": 3,
   "id": "34139579-30a5-4f74-bbad-3395e202b9e7",
   "metadata": {},
   "outputs": [],
   "source": [
    "import logging"
   ]
  },
  {
   "cell_type": "code",
   "execution_count": 4,
   "id": "60c403dc-59cf-4418-bd15-20f042cc2c6a",
   "metadata": {},
   "outputs": [],
   "source": [
    "logging.basicConfig(filename=\"hello.txt\",level=logging.INFO)"
   ]
  },
  {
   "cell_type": "code",
   "execution_count": 5,
   "id": "8ed581ab-b4b3-44c5-95c7-a10ee19e9d93",
   "metadata": {},
   "outputs": [],
   "source": [
    "logging.info(\"log this is line of executation\")"
   ]
  },
  {
   "cell_type": "code",
   "execution_count": 6,
   "id": "0eda0794-8de6-4071-adcd-1e9b8505bcc1",
   "metadata": {},
   "outputs": [],
   "source": [
    "logging.info(\"this is my print\")"
   ]
  },
  {
   "cell_type": "code",
   "execution_count": 7,
   "id": "5c9f604f-a6fa-46b4-a551-6497e124c875",
   "metadata": {},
   "outputs": [],
   "source": [
    "logging.debug(\"this sis my msg\")"
   ]
  },
  {
   "cell_type": "code",
   "execution_count": 8,
   "id": "ba66a2a7-194c-4f64-9eb6-d028370108b2",
   "metadata": {},
   "outputs": [],
   "source": [
    "logging.warning(\"this is my warning msg\")"
   ]
  },
  {
   "cell_type": "code",
   "execution_count": 9,
   "id": "a532af37-c1d0-4c7e-83b1-2ece15e7964c",
   "metadata": {},
   "outputs": [],
   "source": [
    "logging.error(\"this is my error msg \")"
   ]
  },
  {
   "cell_type": "code",
   "execution_count": 4,
   "id": "ec4c3f49-c4bd-4691-928a-befc003b56f8",
   "metadata": {},
   "outputs": [],
   "source": [
    "import logging"
   ]
  },
  {
   "cell_type": "code",
   "execution_count": 5,
   "id": "113b1181-3ce3-4849-b17c-d5de8cb8e866",
   "metadata": {},
   "outputs": [],
   "source": [
    "logging.shutdown()"
   ]
  },
  {
   "cell_type": "markdown",
   "id": "eb7445b3-558b-440e-9a6e-911cbca01262",
   "metadata": {},
   "source": [
    "1. NOTSET\n",
    "2. DEBUG\n",
    "3. INFO\n",
    "4. WARNING\n",
    "5. ERROR\n",
    "6. CRITICAL"
   ]
  },
  {
   "cell_type": "code",
   "execution_count": 6,
   "id": "62cb48e4-49cc-456f-bfd1-e8a9b97b3826",
   "metadata": {},
   "outputs": [
    {
     "name": "stderr",
     "output_type": "stream",
     "text": [
      "CRITICAL:root:this is my critical msg\n"
     ]
    }
   ],
   "source": [
    "logging.critical(\"this is my critical msg\")"
   ]
  },
  {
   "cell_type": "code",
   "execution_count": 7,
   "id": "2a6dd979-a099-481a-81ba-da8b6b3a9384",
   "metadata": {},
   "outputs": [],
   "source": [
    "logging.basicConfig(filename=\"test1.log\", level = logging.DEBUG ,format =\"%(asctime)s %(message)s\" )"
   ]
  },
  {
   "cell_type": "code",
   "execution_count": 8,
   "id": "72d7a5c0-dc57-4619-b65f-9ed0157dfbbf",
   "metadata": {},
   "outputs": [
    {
     "name": "stderr",
     "output_type": "stream",
     "text": [
      "ERROR:root:this is my error msg\n",
      "CRITICAL:root:this is my critical\n"
     ]
    }
   ],
   "source": [
    "logging.info(\"this is my logging \")\n",
    "logging.error(\"this is my error msg\")\n",
    "logging.critical(\"this is my critical\")"
   ]
  },
  {
   "cell_type": "code",
   "execution_count": 9,
   "id": "76c5aa45-90d9-4cc9-83b0-da639f9e395d",
   "metadata": {},
   "outputs": [],
   "source": [
    "logging.shutdown()"
   ]
  },
  {
   "cell_type": "code",
   "execution_count": 10,
   "id": "bafc85db-fb48-4b55-a708-9b7d98291048",
   "metadata": {},
   "outputs": [],
   "source": [
    "logging.basicConfig(filename=\"test2.log\",level=logging.DEBUG , format= \"%(asctime)s %(name)s %(levelname)s %(message)s\")"
   ]
  },
  {
   "cell_type": "code",
   "execution_count": 11,
   "id": "7812627e-9866-4c11-8573-f9b2695bc1bd",
   "metadata": {},
   "outputs": [
    {
     "name": "stderr",
     "output_type": "stream",
     "text": [
      "ERROR:root:this is my error msg\n",
      "CRITICAL:root:this is my critical\n"
     ]
    }
   ],
   "source": [
    "logging.info(\"this is my logging \")\n",
    "logging.error(\"this is my error msg\")\n",
    "logging.critical(\"this is my critical\")"
   ]
  },
  {
   "cell_type": "code",
   "execution_count": 12,
   "id": "2ceb61fd-20ef-40fa-9e46-94ce9319d533",
   "metadata": {},
   "outputs": [],
   "source": [
    "l=[1,2,23,4,455,6,[22,33,44],\"hema\",\"mira\"]"
   ]
  },
  {
   "cell_type": "code",
   "execution_count": 16,
   "id": "d49e6709-92dd-4228-a1cc-7d0da5b3b3c6",
   "metadata": {},
   "outputs": [],
   "source": [
    "l1_int=[]\n",
    "l2_str=[]\n",
    "\n",
    "for i  in l:\n",
    "    logging.info(\"we are iterating through our list and our local var is i \")\n",
    "    if type(i)==list:\n",
    "        logging.info(\"i am inside tgis satatement and i am trying to check list type \")\n",
    "        for j in i :\n",
    "            logging.info(\"i am in anothe for loop for list inside list elementy\")\n",
    "            if type(j)==int:\n",
    "                logging.info(\"i am inside id statment \")\n",
    "                l1_int.append(j)\n",
    "    elif type(i)==int:\n",
    "        l1_int.append(i)\n",
    "    else:\n",
    "        if type(i)==str:\n",
    "            l2_str.append(i)"
   ]
  },
  {
   "cell_type": "code",
   "execution_count": 17,
   "id": "6532ee02-5206-4661-af46-282aa7127e77",
   "metadata": {},
   "outputs": [
    {
     "data": {
      "text/plain": [
       "[1, 2, 23, 4, 455, 6, 22, 33, 44]"
      ]
     },
     "execution_count": 17,
     "metadata": {},
     "output_type": "execute_result"
    }
   ],
   "source": [
    "l1_int"
   ]
  },
  {
   "cell_type": "code",
   "execution_count": 18,
   "id": "9af37a37-06ad-4bd2-9212-d7f8f73f3c1c",
   "metadata": {},
   "outputs": [
    {
     "data": {
      "text/plain": [
       "['hema', 'mira']"
      ]
     },
     "execution_count": 18,
     "metadata": {},
     "output_type": "execute_result"
    }
   ],
   "source": [
    "l2_str"
   ]
  },
  {
   "cell_type": "code",
   "execution_count": null,
   "id": "6f88a815-a788-4e6c-91a2-53c0e17475c2",
   "metadata": {},
   "outputs": [],
   "source": []
  },
  {
   "cell_type": "code",
   "execution_count": null,
   "id": "06360354-c43c-480e-a4ea-df963734d1df",
   "metadata": {},
   "outputs": [],
   "source": []
  }
 ],
 "metadata": {
  "kernelspec": {
   "display_name": "Python 3 (ipykernel)",
   "language": "python",
   "name": "python3"
  },
  "language_info": {
   "codemirror_mode": {
    "name": "ipython",
    "version": 3
   },
   "file_extension": ".py",
   "mimetype": "text/x-python",
   "name": "python",
   "nbconvert_exporter": "python",
   "pygments_lexer": "ipython3",
   "version": "3.10.8"
  }
 },
 "nbformat": 4,
 "nbformat_minor": 5
}
