{
 "cells": [
  {
   "cell_type": "code",
   "execution_count": 2,
   "id": "41c8a30b-9075-41d4-a419-dbf89ff283d5",
   "metadata": {},
   "outputs": [],
   "source": [
    "l = [1,2,3,4,5,6,7,8,9,10]"
   ]
  },
  {
   "cell_type": "code",
   "execution_count": 4,
   "id": "09e08547-3ea8-40ad-aff3-0f5d1b7a0c16",
   "metadata": {},
   "outputs": [],
   "source": [
    "def test(l):\n",
    "    l1 = []\n",
    "    for i in l:\n",
    "        l1.append(i**2)\n",
    "    return l1"
   ]
  },
  {
   "cell_type": "code",
   "execution_count": 5,
   "id": "5969b421-1b25-4b43-9258-658ea53307ae",
   "metadata": {},
   "outputs": [
    {
     "data": {
      "text/plain": [
       "[1, 4, 9, 16, 25, 36, 49, 64, 81, 100]"
      ]
     },
     "execution_count": 5,
     "metadata": {},
     "output_type": "execute_result"
    }
   ],
   "source": [
    "test(l)"
   ]
  },
  {
   "cell_type": "code",
   "execution_count": 8,
   "id": "49fa03cf-a1a8-4118-9588-fea7e648434f",
   "metadata": {},
   "outputs": [],
   "source": [
    "def sq(x):\n",
    "    return x**2"
   ]
  },
  {
   "cell_type": "code",
   "execution_count": 9,
   "id": "36810de2-678f-4ced-9619-c4c7ff5d843f",
   "metadata": {},
   "outputs": [
    {
     "data": {
      "text/plain": [
       "[1, 4, 9, 16, 25, 36, 49, 64, 81, 100]"
      ]
     },
     "execution_count": 9,
     "metadata": {},
     "output_type": "execute_result"
    }
   ],
   "source": [
    "list(map(sq , l))        # map take 2 parameter 1:= function  2 := iterable "
   ]
  },
  {
   "cell_type": "code",
   "execution_count": 10,
   "id": "ee12ef6e-62f1-42ee-85ea-11d95eff420c",
   "metadata": {},
   "outputs": [
    {
     "data": {
      "text/plain": [
       "[1, 4, 9, 16, 25, 36, 49, 64, 81, 100]"
      ]
     },
     "execution_count": 10,
     "metadata": {},
     "output_type": "execute_result"
    }
   ],
   "source": [
    "list (map (lambda x : x**2,l))"
   ]
  },
  {
   "cell_type": "code",
   "execution_count": 13,
   "id": "c0f1e8f0-bb86-4d8e-905c-bc85f3580adb",
   "metadata": {},
   "outputs": [
    {
     "data": {
      "text/plain": [
       "[7, 9, 11, 13, 15]"
      ]
     },
     "execution_count": 13,
     "metadata": {},
     "output_type": "execute_result"
    }
   ],
   "source": [
    "l1 = [1,2,3,4,5]\n",
    "l2 = [6,7,8,9,10]\n",
    "\n",
    "list (map (lambda x,y:x+y,l1,l2))"
   ]
  },
  {
   "cell_type": "code",
   "execution_count": 14,
   "id": "2b877592-2e6e-4130-94e9-7b5381941354",
   "metadata": {},
   "outputs": [],
   "source": [
    "def add(x,y):\n",
    "    return x+y"
   ]
  },
  {
   "cell_type": "code",
   "execution_count": 15,
   "id": "1fd0df2d-84d7-4525-b012-1f6c09407b9e",
   "metadata": {},
   "outputs": [
    {
     "data": {
      "text/plain": [
       "[7, 9, 11, 13, 15]"
      ]
     },
     "execution_count": 15,
     "metadata": {},
     "output_type": "execute_result"
    }
   ],
   "source": [
    "list (map(add,l1,l2))"
   ]
  },
  {
   "cell_type": "code",
   "execution_count": 1,
   "id": "df5c8932-66c6-4859-b4c2-ec7f6fd8e3ae",
   "metadata": {},
   "outputs": [
    {
     "data": {
      "text/plain": [
       "[' ', 'P', 'W', 'S', 'K', 'I', 'L', 'L', 'S', ' ']"
      ]
     },
     "execution_count": 1,
     "metadata": {},
     "output_type": "execute_result"
    }
   ],
   "source": [
    "s = \" pwskills \"\n",
    "list (map(lambda s : s.upper(),s))"
   ]
  },
  {
   "cell_type": "markdown",
   "id": "86e429b9-95e7-42e5-8ea6-064a37c9b710",
   "metadata": {},
   "source": [
    "###########################  reduce ########################"
   ]
  },
  {
   "cell_type": "code",
   "execution_count": 2,
   "id": "bb9c830e-706c-48e3-a70e-422b88332d84",
   "metadata": {},
   "outputs": [],
   "source": [
    "from functools import reduce"
   ]
  },
  {
   "cell_type": "code",
   "execution_count": 3,
   "id": "26d171a7-0248-4b43-b861-f5a4cfee5ec7",
   "metadata": {},
   "outputs": [],
   "source": [
    "l=[1,2,3,4,5,6,7,100]        ## reduce means pure ke pure list ko reduce karke ak simple intety nikal kr dega "
   ]
  },
  {
   "cell_type": "code",
   "execution_count": 4,
   "id": "0ba56d61-dea7-4db4-b404-d25f14489812",
   "metadata": {},
   "outputs": [
    {
     "data": {
      "text/plain": [
       "128"
      ]
     },
     "execution_count": 4,
     "metadata": {},
     "output_type": "execute_result"
    }
   ],
   "source": [
    "reduce (lambda x,y : x+y,l)"
   ]
  },
  {
   "cell_type": "code",
   "execution_count": 5,
   "id": "6a9cabda-5065-48b0-a9bb-6cf644b98c07",
   "metadata": {},
   "outputs": [
    {
     "ename": "TypeError",
     "evalue": "<lambda>() missing 1 required positional argument: 'z'",
     "output_type": "error",
     "traceback": [
      "\u001b[0;31m---------------------------------------------------------------------------\u001b[0m",
      "\u001b[0;31mTypeError\u001b[0m                                 Traceback (most recent call last)",
      "Cell \u001b[0;32mIn[5], line 1\u001b[0m\n\u001b[0;32m----> 1\u001b[0m \u001b[43mreduce\u001b[49m\u001b[43m \u001b[49m\u001b[43m(\u001b[49m\u001b[38;5;28;43;01mlambda\u001b[39;49;00m\u001b[43m \u001b[49m\u001b[43mx\u001b[49m\u001b[43m,\u001b[49m\u001b[43my\u001b[49m\u001b[43m,\u001b[49m\u001b[43mz\u001b[49m\u001b[43m \u001b[49m\u001b[43m:\u001b[49m\u001b[43m \u001b[49m\u001b[43mx\u001b[49m\u001b[38;5;241;43m+\u001b[39;49m\u001b[43my\u001b[49m\u001b[38;5;241;43m+\u001b[39;49m\u001b[43mz\u001b[49m\u001b[43m,\u001b[49m\u001b[43ml\u001b[49m\u001b[43m)\u001b[49m\n",
      "\u001b[0;31mTypeError\u001b[0m: <lambda>() missing 1 required positional argument: 'z'"
     ]
    }
   ],
   "source": [
    "reduce (lambda x,y,z : x+y+z,l)"
   ]
  },
  {
   "cell_type": "code",
   "execution_count": 6,
   "id": "5c4e2f59-67ae-4195-8a05-09d2beb674da",
   "metadata": {},
   "outputs": [
    {
     "ename": "TypeError",
     "evalue": "reduce() of empty iterable with no initial value",
     "output_type": "error",
     "traceback": [
      "\u001b[0;31m---------------------------------------------------------------------------\u001b[0m",
      "\u001b[0;31mTypeError\u001b[0m                                 Traceback (most recent call last)",
      "Cell \u001b[0;32mIn[6], line 1\u001b[0m\n\u001b[0;32m----> 1\u001b[0m \u001b[43mreduce\u001b[49m\u001b[43m \u001b[49m\u001b[43m(\u001b[49m\u001b[38;5;28;43;01mlambda\u001b[39;49;00m\u001b[43m \u001b[49m\u001b[43mx\u001b[49m\u001b[43m,\u001b[49m\u001b[43my\u001b[49m\u001b[43m \u001b[49m\u001b[43m:\u001b[49m\u001b[43m \u001b[49m\u001b[43mx\u001b[49m\u001b[38;5;241;43m+\u001b[39;49m\u001b[43my\u001b[49m\u001b[43m,\u001b[49m\u001b[43m[\u001b[49m\u001b[43m]\u001b[49m\u001b[43m)\u001b[49m\n",
      "\u001b[0;31mTypeError\u001b[0m: reduce() of empty iterable with no initial value"
     ]
    }
   ],
   "source": [
    "reduce (lambda x,y : x+y,[])"
   ]
  },
  {
   "cell_type": "code",
   "execution_count": 7,
   "id": "0bb67997-45a1-4a26-b818-8bd9b0bd8a72",
   "metadata": {},
   "outputs": [
    {
     "data": {
      "text/plain": [
       "1"
      ]
     },
     "execution_count": 7,
     "metadata": {},
     "output_type": "execute_result"
    }
   ],
   "source": [
    "reduce (lambda x,y : x+y,[1])"
   ]
  },
  {
   "cell_type": "code",
   "execution_count": 8,
   "id": "b0e72733-9263-4693-b147-92a8b2b632e7",
   "metadata": {},
   "outputs": [
    {
     "data": {
      "text/plain": [
       "504000"
      ]
     },
     "execution_count": 8,
     "metadata": {},
     "output_type": "execute_result"
    }
   ],
   "source": [
    "reduce (lambda x,y : x*y,l)"
   ]
  },
  {
   "cell_type": "code",
   "execution_count": 9,
   "id": "48a33dea-b6dc-4cf0-afed-d37676dddb1a",
   "metadata": {},
   "outputs": [
    {
     "data": {
      "text/plain": [
       "[1, 2, 3, 4, 5, 6, 7, 100]"
      ]
     },
     "execution_count": 9,
     "metadata": {},
     "output_type": "execute_result"
    }
   ],
   "source": [
    "l"
   ]
  },
  {
   "cell_type": "code",
   "execution_count": 10,
   "id": "202de4e3-59c1-4585-808b-9fa93f750e60",
   "metadata": {},
   "outputs": [
    {
     "data": {
      "text/plain": [
       "100"
      ]
     },
     "execution_count": 10,
     "metadata": {},
     "output_type": "execute_result"
    }
   ],
   "source": [
    "reduce (lambda x,y: x if x>y else y,l )"
   ]
  },
  {
   "cell_type": "code",
   "execution_count": 12,
   "id": "dedd7141-f613-42c7-822c-25b2108e73cf",
   "metadata": {},
   "outputs": [
    {
     "data": {
      "text/plain": [
       "1"
      ]
     },
     "execution_count": 12,
     "metadata": {},
     "output_type": "execute_result"
    }
   ],
   "source": [
    "reduce (lambda x,y: x if x<y else y,l )     ## reduce collape karta he   "
   ]
  },
  {
   "cell_type": "markdown",
   "id": "08d39252-1c44-4581-a388-efe9ce331309",
   "metadata": {},
   "source": [
    "################### FILTER ###############"
   ]
  },
  {
   "cell_type": "code",
   "execution_count": 16,
   "id": "8d9dadc8-e8fe-439a-bf23-6730f61b644c",
   "metadata": {},
   "outputs": [
    {
     "data": {
      "text/plain": [
       "[1, 2, 3, 4, 5, 6, 7, 100]"
      ]
     },
     "execution_count": 16,
     "metadata": {},
     "output_type": "execute_result"
    }
   ],
   "source": [
    "l"
   ]
  },
  {
   "cell_type": "code",
   "execution_count": 18,
   "id": "4b3d6b9f-f0b4-42ab-84ee-0103b4294e34",
   "metadata": {},
   "outputs": [
    {
     "data": {
      "text/plain": [
       "[2, 4, 6, 100]"
      ]
     },
     "execution_count": 18,
     "metadata": {},
     "output_type": "execute_result"
    }
   ],
   "source": [
    "list (filter(lambda x : x%2 == 0,l))"
   ]
  },
  {
   "cell_type": "code",
   "execution_count": 19,
   "id": "77683120-0f38-492e-947e-299d16f29087",
   "metadata": {},
   "outputs": [
    {
     "data": {
      "text/plain": [
       "[1, 3, 5, 7]"
      ]
     },
     "execution_count": 19,
     "metadata": {},
     "output_type": "execute_result"
    }
   ],
   "source": [
    "list (filter(lambda x : x%2 != 0,l))"
   ]
  },
  {
   "cell_type": "code",
   "execution_count": 20,
   "id": "134f89e2-0c4a-4d7b-916b-bc4419ed38d2",
   "metadata": {},
   "outputs": [],
   "source": [
    "l1=[1,-9,7,-67,-3,99,-333]"
   ]
  },
  {
   "cell_type": "code",
   "execution_count": 21,
   "id": "daace38e-4d8a-4618-b613-78e509d06654",
   "metadata": {},
   "outputs": [
    {
     "data": {
      "text/plain": [
       "[1, -9, 7, -67, -3, 99, -333]"
      ]
     },
     "execution_count": 21,
     "metadata": {},
     "output_type": "execute_result"
    }
   ],
   "source": [
    "l1"
   ]
  },
  {
   "cell_type": "code",
   "execution_count": 23,
   "id": "89021879-0b9c-40fe-badd-9b637941efe6",
   "metadata": {},
   "outputs": [
    {
     "data": {
      "text/plain": [
       "[-9, -67, -3, -333]"
      ]
     },
     "execution_count": 23,
     "metadata": {},
     "output_type": "execute_result"
    }
   ],
   "source": [
    "list (filter(lambda x : x<0,l1))"
   ]
  },
  {
   "cell_type": "code",
   "execution_count": 24,
   "id": "79e958d6-1375-4a9f-83d3-777cef091509",
   "metadata": {},
   "outputs": [
    {
     "data": {
      "text/plain": [
       "[1, 7, 99]"
      ]
     },
     "execution_count": 24,
     "metadata": {},
     "output_type": "execute_result"
    }
   ],
   "source": [
    "list (filter(lambda x : x>0,l1))"
   ]
  },
  {
   "cell_type": "code",
   "execution_count": 25,
   "id": "ed34810a-0afd-4c32-9e99-6c67fbb43c70",
   "metadata": {},
   "outputs": [],
   "source": [
    "l2 = [\"hema\",\"pwskills\",\"hello\",\"word\"]"
   ]
  },
  {
   "cell_type": "code",
   "execution_count": 26,
   "id": "c1a4ec52-8ffa-4d08-ac25-94266c9eb772",
   "metadata": {},
   "outputs": [
    {
     "data": {
      "text/plain": [
       "['hema', 'pwskills', 'hello', 'word']"
      ]
     },
     "execution_count": 26,
     "metadata": {},
     "output_type": "execute_result"
    }
   ],
   "source": [
    "l2"
   ]
  },
  {
   "cell_type": "code",
   "execution_count": 27,
   "id": "a1dbe563-b18e-48ed-8371-12e5a040fd3c",
   "metadata": {},
   "outputs": [
    {
     "data": {
      "text/plain": [
       "['hema', 'hello', 'word']"
      ]
     },
     "execution_count": 27,
     "metadata": {},
     "output_type": "execute_result"
    }
   ],
   "source": [
    "list (filter (lambda x : len(x) < 6,l2))"
   ]
  },
  {
   "cell_type": "code",
   "execution_count": null,
   "id": "82534921-9b47-4e0e-b595-b43b30d1ca08",
   "metadata": {},
   "outputs": [],
   "source": []
  }
 ],
 "metadata": {
  "kernelspec": {
   "display_name": "Python 3 (ipykernel)",
   "language": "python",
   "name": "python3"
  },
  "language_info": {
   "codemirror_mode": {
    "name": "ipython",
    "version": 3
   },
   "file_extension": ".py",
   "mimetype": "text/x-python",
   "name": "python",
   "nbconvert_exporter": "python",
   "pygments_lexer": "ipython3",
   "version": "3.10.8"
  }
 },
 "nbformat": 4,
 "nbformat_minor": 5
}
