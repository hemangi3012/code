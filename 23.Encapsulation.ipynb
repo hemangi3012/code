{
 "cells": [
  {
   "cell_type": "code",
   "execution_count": 4,
   "id": "30abc5eb-c7ec-4d75-986e-731c2ebe94c3",
   "metadata": {},
   "outputs": [],
   "source": [
    "class test:\n",
    "\n",
    "    \n",
    "    def __init__(self,a,b):          ## __init __ thi class ni under data pass kari skay \n",
    "        self.a=a                  ## varial show thy \n",
    "        self.b=b"
   ]
  },
  {
   "cell_type": "code",
   "execution_count": 5,
   "id": "f9b9fdb3-465c-4d58-a5e8-35d94accf9ae",
   "metadata": {},
   "outputs": [],
   "source": [
    "t=test(23,45)"
   ]
  },
  {
   "cell_type": "code",
   "execution_count": 6,
   "id": "0b6f56f4-d1fc-49fc-825f-5928311721d5",
   "metadata": {},
   "outputs": [],
   "source": [
    "t.a=6578449\n"
   ]
  },
  {
   "cell_type": "code",
   "execution_count": 7,
   "id": "0061db65-0d36-467b-82ba-500ee11d21a5",
   "metadata": {},
   "outputs": [
    {
     "data": {
      "text/plain": [
       "6578449"
      ]
     },
     "execution_count": 7,
     "metadata": {},
     "output_type": "execute_result"
    }
   ],
   "source": [
    "t.a           # press tab so you can show variable "
   ]
  },
  {
   "cell_type": "code",
   "execution_count": 2,
   "id": "db974b68-95ec-4b59-8b26-02ef19cebdcf",
   "metadata": {},
   "outputs": [],
   "source": [
    "class car:\n",
    "    def __init__(self,year,make,model,speed):\n",
    "        self.__year = year                      # __ thi variable ne hide kari skay  \n",
    "        self.__make=make\n",
    "        self.__model=model\n",
    "        self.__speed=0\n",
    "        \n",
    "    def set_speed(self,speed):\n",
    "        self.__speed =0 if speed<0 else speed\n",
    "    def get_speed(self):\n",
    "        return self.__speed"
   ]
  },
  {
   "cell_type": "code",
   "execution_count": 3,
   "id": "27b54719-61d1-4423-9f66-67266d1d18c9",
   "metadata": {},
   "outputs": [
    {
     "ename": "TypeError",
     "evalue": "car.__init__() missing 4 required positional arguments: 'year', 'make', 'model', and 'speed'",
     "output_type": "error",
     "traceback": [
      "\u001b[0;31m---------------------------------------------------------------------------\u001b[0m",
      "\u001b[0;31mTypeError\u001b[0m                                 Traceback (most recent call last)",
      "Cell \u001b[0;32mIn[3], line 1\u001b[0m\n\u001b[0;32m----> 1\u001b[0m c\u001b[38;5;241m=\u001b[39m\u001b[43mcar\u001b[49m\u001b[43m(\u001b[49m\u001b[43m)\u001b[49m\n",
      "\u001b[0;31mTypeError\u001b[0m: car.__init__() missing 4 required positional arguments: 'year', 'make', 'model', and 'speed'"
     ]
    }
   ],
   "source": [
    "c=car()"
   ]
  },
  {
   "cell_type": "code",
   "execution_count": 4,
   "id": "cd59fd0f-1d1a-4d74-b591-f3306463f031",
   "metadata": {},
   "outputs": [],
   "source": [
    "c=car(2021,\"toyata\",\"innova\",12)"
   ]
  },
  {
   "cell_type": "code",
   "execution_count": 5,
   "id": "f5705ff4-0a34-4acc-981c-b92e68b2ee54",
   "metadata": {},
   "outputs": [
    {
     "ename": "AttributeError",
     "evalue": "'car' object has no attribute 'year'",
     "output_type": "error",
     "traceback": [
      "\u001b[0;31m---------------------------------------------------------------------------\u001b[0m",
      "\u001b[0;31mAttributeError\u001b[0m                            Traceback (most recent call last)",
      "Cell \u001b[0;32mIn[5], line 1\u001b[0m\n\u001b[0;32m----> 1\u001b[0m \u001b[43mc\u001b[49m\u001b[38;5;241;43m.\u001b[39;49m\u001b[43myear\u001b[49m\n",
      "\u001b[0;31mAttributeError\u001b[0m: 'car' object has no attribute 'year'"
     ]
    }
   ],
   "source": [
    "c.year"
   ]
  },
  {
   "cell_type": "code",
   "execution_count": 14,
   "id": "65e0a32f-2989-4271-aef5-9a036aef8d5e",
   "metadata": {},
   "outputs": [
    {
     "ename": "AttributeError",
     "evalue": "'car' object has no attribute '__year'",
     "output_type": "error",
     "traceback": [
      "\u001b[0;31m---------------------------------------------------------------------------\u001b[0m",
      "\u001b[0;31mAttributeError\u001b[0m                            Traceback (most recent call last)",
      "Cell \u001b[0;32mIn[14], line 1\u001b[0m\n\u001b[0;32m----> 1\u001b[0m \u001b[43mc\u001b[49m\u001b[38;5;241;43m.\u001b[39;49m\u001b[43m__year\u001b[49m\n",
      "\u001b[0;31mAttributeError\u001b[0m: 'car' object has no attribute '__year'"
     ]
    }
   ],
   "source": [
    "c.__year"
   ]
  },
  {
   "cell_type": "code",
   "execution_count": 5,
   "id": "af38d3dc-7eac-4ee0-9cfc-c055e30e9e07",
   "metadata": {},
   "outputs": [
    {
     "data": {
      "text/plain": [
       "2021"
      ]
     },
     "execution_count": 5,
     "metadata": {},
     "output_type": "execute_result"
    }
   ],
   "source": [
    "c._car__year "
   ]
  },
  {
   "cell_type": "code",
   "execution_count": 6,
   "id": "e0185ff6-1b04-4386-9d1b-09ecc20be02d",
   "metadata": {},
   "outputs": [],
   "source": [
    "c.set_speed(-4554)"
   ]
  },
  {
   "cell_type": "code",
   "execution_count": 7,
   "id": "bff64113-2634-4489-b4e7-013b9a9e4dcd",
   "metadata": {},
   "outputs": [
    {
     "data": {
      "text/plain": [
       "0"
      ]
     },
     "execution_count": 7,
     "metadata": {},
     "output_type": "execute_result"
    }
   ],
   "source": [
    "c.get_speed()"
   ]
  },
  {
   "cell_type": "code",
   "execution_count": 8,
   "id": "281dc3cb-233f-4bc3-855c-d9bb0b82ae1b",
   "metadata": {},
   "outputs": [],
   "source": [
    "c.set_speed(30)"
   ]
  },
  {
   "cell_type": "code",
   "execution_count": 10,
   "id": "90dfccb5-0d94-4c38-9087-145008326ac7",
   "metadata": {},
   "outputs": [
    {
     "data": {
      "text/plain": [
       "30"
      ]
     },
     "execution_count": 10,
     "metadata": {},
     "output_type": "execute_result"
    }
   ],
   "source": [
    "c.get_speed()"
   ]
  },
  {
   "cell_type": "code",
   "execution_count": 11,
   "id": "422131eb-a815-4604-b698-b112d0aaa4d1",
   "metadata": {},
   "outputs": [],
   "source": [
    "class bank_ac :\n",
    "    def __init__ (self,balance):\n",
    "        self.__balance=balance\n",
    "        \n",
    "    def deposite(self,amount):\n",
    "        self.__balance=self.__balance+amount\n",
    "        \n",
    "    def withdraw(self,amount):\n",
    "        if self.__balance>=amount:\n",
    "            self.__balance=self.__balance-amount\n",
    "            return True\n",
    "        else:\n",
    "            return False\n",
    "    def get_balance(self):\n",
    "        return self.__balance\n",
    "    "
   ]
  },
  {
   "cell_type": "code",
   "execution_count": 12,
   "id": "086a1cbe-5d84-4ea3-ad2a-11ef2abf5632",
   "metadata": {},
   "outputs": [
    {
     "ename": "TypeError",
     "evalue": "bank_ac.__init__() missing 1 required positional argument: 'balance'",
     "output_type": "error",
     "traceback": [
      "\u001b[0;31m---------------------------------------------------------------------------\u001b[0m",
      "\u001b[0;31mTypeError\u001b[0m                                 Traceback (most recent call last)",
      "Cell \u001b[0;32mIn[12], line 1\u001b[0m\n\u001b[0;32m----> 1\u001b[0m hema\u001b[38;5;241m=\u001b[39m\u001b[43mbank_ac\u001b[49m\u001b[43m(\u001b[49m\u001b[43m)\u001b[49m\n",
      "\u001b[0;31mTypeError\u001b[0m: bank_ac.__init__() missing 1 required positional argument: 'balance'"
     ]
    }
   ],
   "source": [
    "hema=bank_ac()"
   ]
  },
  {
   "cell_type": "code",
   "execution_count": 13,
   "id": "21fbd5ae-0430-4d0f-8b6e-69485b26eec0",
   "metadata": {},
   "outputs": [],
   "source": [
    "hema=bank_ac(1000)"
   ]
  },
  {
   "cell_type": "code",
   "execution_count": 14,
   "id": "10d5748f-9b8c-403c-8c04-1c461f297682",
   "metadata": {},
   "outputs": [
    {
     "data": {
      "text/plain": [
       "1000"
      ]
     },
     "execution_count": 14,
     "metadata": {},
     "output_type": "execute_result"
    }
   ],
   "source": [
    "hema.get_balance()"
   ]
  },
  {
   "cell_type": "code",
   "execution_count": 15,
   "id": "675d5a67-bb87-4546-8767-e3c0467ead8c",
   "metadata": {},
   "outputs": [],
   "source": [
    "hema.deposite(5000)"
   ]
  },
  {
   "cell_type": "code",
   "execution_count": 16,
   "id": "e4e5a24e-bfd2-4f52-b79c-43363127704a",
   "metadata": {},
   "outputs": [
    {
     "data": {
      "text/plain": [
       "6000"
      ]
     },
     "execution_count": 16,
     "metadata": {},
     "output_type": "execute_result"
    }
   ],
   "source": [
    "hema.get_balance()"
   ]
  },
  {
   "cell_type": "code",
   "execution_count": 17,
   "id": "577e6f8d-821a-4d8d-b541-a374349c201f",
   "metadata": {},
   "outputs": [
    {
     "data": {
      "text/plain": [
       "True"
      ]
     },
     "execution_count": 17,
     "metadata": {},
     "output_type": "execute_result"
    }
   ],
   "source": [
    "hema.withdraw(1000)"
   ]
  },
  {
   "cell_type": "code",
   "execution_count": 18,
   "id": "7c6d920f-d2c5-4430-ba4f-f4594e06b2b7",
   "metadata": {},
   "outputs": [
    {
     "data": {
      "text/plain": [
       "5000"
      ]
     },
     "execution_count": 18,
     "metadata": {},
     "output_type": "execute_result"
    }
   ],
   "source": [
    "hema.get_balance()"
   ]
  },
  {
   "cell_type": "code",
   "execution_count": 19,
   "id": "6b82b090-d8f9-4429-bf34-d9a516cdf320",
   "metadata": {},
   "outputs": [
    {
     "data": {
      "text/plain": [
       "False"
      ]
     },
     "execution_count": 19,
     "metadata": {},
     "output_type": "execute_result"
    }
   ],
   "source": [
    "hema.withdraw(10000)"
   ]
  },
  {
   "cell_type": "code",
   "execution_count": 20,
   "id": "80207fcc-6064-4c12-9981-2e637e676cec",
   "metadata": {},
   "outputs": [
    {
     "data": {
      "text/plain": [
       "5000"
      ]
     },
     "execution_count": 20,
     "metadata": {},
     "output_type": "execute_result"
    }
   ],
   "source": [
    "hema.get_balance()"
   ]
  },
  {
   "cell_type": "code",
   "execution_count": 21,
   "id": "de4808a5-0371-4799-b884-2559abda2e4c",
   "metadata": {},
   "outputs": [
    {
     "data": {
      "text/plain": [
       "True"
      ]
     },
     "execution_count": 21,
     "metadata": {},
     "output_type": "execute_result"
    }
   ],
   "source": [
    "hema.withdraw(5000)"
   ]
  },
  {
   "cell_type": "code",
   "execution_count": 22,
   "id": "dd4237a6-a7df-4ff0-b67c-4d873799e966",
   "metadata": {},
   "outputs": [
    {
     "data": {
      "text/plain": [
       "0"
      ]
     },
     "execution_count": 22,
     "metadata": {},
     "output_type": "execute_result"
    }
   ],
   "source": [
    "hema.get_balance()"
   ]
  },
  {
   "cell_type": "code",
   "execution_count": null,
   "id": "360354ee-162c-42f2-af70-dc8e9510700d",
   "metadata": {},
   "outputs": [],
   "source": []
  }
 ],
 "metadata": {
  "kernelspec": {
   "display_name": "Python 3 (ipykernel)",
   "language": "python",
   "name": "python3"
  },
  "language_info": {
   "codemirror_mode": {
    "name": "ipython",
    "version": 3
   },
   "file_extension": ".py",
   "mimetype": "text/x-python",
   "name": "python",
   "nbconvert_exporter": "python",
   "pygments_lexer": "ipython3",
   "version": "3.10.8"
  }
 },
 "nbformat": 4,
 "nbformat_minor": 5
}
