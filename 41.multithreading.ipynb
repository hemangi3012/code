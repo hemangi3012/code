{
 "cells": [
  {
   "cell_type": "code",
   "execution_count": 3,
   "id": "62ff9031-277c-42a2-b7f6-e0c674f7b505",
   "metadata": {},
   "outputs": [],
   "source": [
    "import threading\n"
   ]
  },
  {
   "cell_type": "code",
   "execution_count": 4,
   "id": "ea0902e1-7d5e-48f8-bc13-487629a79287",
   "metadata": {},
   "outputs": [],
   "source": [
    "def test(id):\n",
    "    print(\"program start %d\" % id)"
   ]
  },
  {
   "cell_type": "code",
   "execution_count": 5,
   "id": "5801e028-687a-4eba-ac2d-2bd67c8dc111",
   "metadata": {},
   "outputs": [
    {
     "name": "stdout",
     "output_type": "stream",
     "text": [
      "program start 45\n"
     ]
    }
   ],
   "source": [
    "test(45)"
   ]
  },
  {
   "cell_type": "code",
   "execution_count": 6,
   "id": "a1b7d405-1307-46a8-a472-402e88a6c0c4",
   "metadata": {},
   "outputs": [],
   "source": [
    "thread= [ threading.Thread ( target=test, args=(i,) ) for i in range(10) ]"
   ]
  },
  {
   "cell_type": "code",
   "execution_count": 7,
   "id": "861db221-0e82-45b5-b940-39bd50ffee9d",
   "metadata": {},
   "outputs": [
    {
     "name": "stdout",
     "output_type": "stream",
     "text": [
      "program start 0\n",
      "program start 1\n",
      "program start 2\n",
      "program start 3\n",
      "program start 4\n",
      "program start 5\n",
      "program start 6\n",
      "program start 7\n",
      "program start 8\n",
      "program start 9\n"
     ]
    }
   ],
   "source": [
    "for t in thread:\n",
    "    t.start()"
   ]
  },
  {
   "cell_type": "code",
   "execution_count": 8,
   "id": "9c86450d-7b4e-4cc0-a41f-92ecc6ae0530",
   "metadata": {},
   "outputs": [
    {
     "data": {
      "text/plain": [
       "[0, 1, 2, 3, 4, 5, 6, 7, 8, 9]"
      ]
     },
     "execution_count": 8,
     "metadata": {},
     "output_type": "execute_result"
    }
   ],
   "source": [
    "list(range(10))"
   ]
  },
  {
   "cell_type": "code",
   "execution_count": 9,
   "id": "fc142a5d-c57e-4d1b-8e64-4483dffe3573",
   "metadata": {},
   "outputs": [
    {
     "data": {
      "text/plain": [
       "[<Thread(Thread-5 (test), stopped 140097664050752)>,\n",
       " <Thread(Thread-6 (test), stopped 140097664050752)>,\n",
       " <Thread(Thread-7 (test), stopped 140097664050752)>,\n",
       " <Thread(Thread-8 (test), stopped 140097664050752)>,\n",
       " <Thread(Thread-9 (test), stopped 140097664050752)>,\n",
       " <Thread(Thread-10 (test), stopped 140097664050752)>,\n",
       " <Thread(Thread-11 (test), stopped 140097664050752)>,\n",
       " <Thread(Thread-12 (test), stopped 140097655658048)>,\n",
       " <Thread(Thread-13 (test), stopped 140097655658048)>,\n",
       " <Thread(Thread-14 (test), stopped 140097655658048)>]"
      ]
     },
     "execution_count": 9,
     "metadata": {},
     "output_type": "execute_result"
    }
   ],
   "source": [
    "thread"
   ]
  },
  {
   "cell_type": "code",
   "execution_count": 10,
   "id": "81cc8cbc-38e2-4efe-8115-789e7f83c437",
   "metadata": {},
   "outputs": [
    {
     "data": {
      "text/plain": [
       "140098210153792"
      ]
     },
     "execution_count": 10,
     "metadata": {},
     "output_type": "execute_result"
    }
   ],
   "source": [
    "id(thread)"
   ]
  },
  {
   "cell_type": "code",
   "execution_count": 11,
   "id": "b0dcfb9f-c547-4a3e-8fb1-93ed5dfa9f9f",
   "metadata": {},
   "outputs": [],
   "source": [
    "import threading\n",
    "import urllib.request\n",
    "\n",
    "def file_download(url,filname):\n",
    "    urllib.request.urlretrieve(url,filname)"
   ]
  },
  {
   "cell_type": "code",
   "execution_count": 12,
   "id": "e6084453-b732-4e06-b49c-40ea1ce45de9",
   "metadata": {},
   "outputs": [],
   "source": [
    "import urllib.request"
   ]
  },
  {
   "cell_type": "code",
   "execution_count": 13,
   "id": "873b0757-0550-4c86-9fbd-119685de92d6",
   "metadata": {},
   "outputs": [],
   "source": [
    "file_download(\"https://github.com/hemangi3012/code/blob/main/test2.txt\",\"myone.txt\")"
   ]
  },
  {
   "cell_type": "code",
   "execution_count": 14,
   "id": "d548bbad-892f-441d-9399-9939c5f8a36d",
   "metadata": {},
   "outputs": [],
   "source": [
    "url_list=[\"https://github.com/hemangi3012/code/blob/main/test2.txt\"]"
   ]
  },
  {
   "cell_type": "code",
   "execution_count": 15,
   "id": "8c43c4d8-df6d-403d-ba0f-a87a25bc5e3f",
   "metadata": {},
   "outputs": [
    {
     "data": {
      "text/plain": [
       "['https://github.com/hemangi3012/code/blob/main/test2.txt']"
      ]
     },
     "execution_count": 15,
     "metadata": {},
     "output_type": "execute_result"
    }
   ],
   "source": [
    "url_list"
   ]
  },
  {
   "cell_type": "code",
   "execution_count": 16,
   "id": "1679c031-8a26-4df5-a983-8f8be469b6d3",
   "metadata": {},
   "outputs": [],
   "source": [
    "file_name_list=[\"data1.txt\"]"
   ]
  },
  {
   "cell_type": "code",
   "execution_count": 17,
   "id": "831abdfc-a010-42c5-9094-2712d7ef8bfd",
   "metadata": {},
   "outputs": [],
   "source": [
    "thread= [ threading.Thread ( target=file_download, args=(url_list[i],file_name_list[i]) ) for i in range(len(url_list)) ]"
   ]
  },
  {
   "cell_type": "code",
   "execution_count": 18,
   "id": "3fca12b2-395f-4ece-a0d9-073675646645",
   "metadata": {},
   "outputs": [
    {
     "data": {
      "text/plain": [
       "[<Thread(Thread-15 (file_download), initial)>]"
      ]
     },
     "execution_count": 18,
     "metadata": {},
     "output_type": "execute_result"
    }
   ],
   "source": [
    "thread"
   ]
  },
  {
   "cell_type": "code",
   "execution_count": 19,
   "id": "10af1cbb-3e9f-4bca-87a3-bae9842be324",
   "metadata": {},
   "outputs": [],
   "source": [
    "for t in thread :\n",
    "    t.start()"
   ]
  },
  {
   "cell_type": "code",
   "execution_count": 20,
   "id": "72416a43-2e11-42a1-aa48-8aee9a78c39b",
   "metadata": {},
   "outputs": [
    {
     "data": {
      "text/plain": [
       "[<Thread(Thread-15 (file_download), stopped 140097655658048)>]"
      ]
     },
     "execution_count": 20,
     "metadata": {},
     "output_type": "execute_result"
    }
   ],
   "source": [
    "thread"
   ]
  },
  {
   "cell_type": "code",
   "execution_count": 35,
   "id": "908c5866-3d75-49c7-989a-f1c0694c2efb",
   "metadata": {},
   "outputs": [],
   "source": [
    "import time"
   ]
  },
  {
   "cell_type": "code",
   "execution_count": 48,
   "id": "92f63b1d-0c24-4c7c-b921-c82fe9b9f069",
   "metadata": {},
   "outputs": [],
   "source": [
    "def test1(id):\n",
    "    for i in range(10):\n",
    "        print(\"test1 %d printing %d\" %(id,i))\n",
    "        time.sleep(1)"
   ]
  },
  {
   "cell_type": "code",
   "execution_count": 49,
   "id": "09bb71f7-b262-4fe1-9397-7dbc0b46b90d",
   "metadata": {},
   "outputs": [
    {
     "name": "stdout",
     "output_type": "stream",
     "text": [
      "test1 1 printing 0\n",
      "test1 1 printing 1\n",
      "test1 1 printing 2\n",
      "test1 1 printing 3\n",
      "test1 1 printing 4\n",
      "test1 1 printing 5\n",
      "test1 1 printing 6\n",
      "test1 1 printing 7\n",
      "test1 1 printing 8\n",
      "test1 1 printing 9\n"
     ]
    }
   ],
   "source": [
    "test1(1)"
   ]
  },
  {
   "cell_type": "code",
   "execution_count": 50,
   "id": "ec7b755c-12ec-4e11-a551-a110f2b9cebc",
   "metadata": {},
   "outputs": [],
   "source": [
    "thread1 = [ threading.Thread ( target=test1, args=(i,) ) for i in range(3) ]"
   ]
  },
  {
   "cell_type": "code",
   "execution_count": 51,
   "id": "7732dd8e-d500-4bbb-9448-a4362d075445",
   "metadata": {},
   "outputs": [
    {
     "name": "stdout",
     "output_type": "stream",
     "text": [
      "test1 0 printing 0\n",
      "test1 1 printing 0\n",
      "test1 2 printing 0\n",
      "test1 0 printing 1\n",
      "test1 1 printing 1\n",
      "test1 2 printing 1\n",
      "test1 0 printing 2\n",
      "test1 1 printing 2\n",
      "test1 2 printing 2\n",
      "test1 0 printing 3\n",
      "test1 1 printing 3\n",
      "test1 2 printing 3\n",
      "test1 0 printing 4\n",
      "test1 1 printing 4\n",
      "test1 2 printing 4\n",
      "test1 0 printing 5\n",
      "test1 1 printing 5\n",
      "test1 2 printing 5\n",
      "test1 0 printing 6\n",
      "test1 1 printing 6\n",
      "test1 2 printing 6\n",
      "test1 0 printing 7\n",
      "test1 1 printing 7\n",
      "test1 2 printing 7\n",
      "test1 0 printing 8\n",
      "test1 1 printing 8\n",
      "test1 2 printing 8\n",
      "test1 0 printing 9\n",
      "test1 1 printing 9\n",
      "test1 2 printing 9\n"
     ]
    }
   ],
   "source": [
    "for t in thread1:\n",
    "    t.start()"
   ]
  },
  {
   "cell_type": "code",
   "execution_count": 43,
   "id": "5393c6fb-e7a5-4eef-98a3-82267ee030d1",
   "metadata": {},
   "outputs": [
    {
     "name": "stdout",
     "output_type": "stream",
     "text": [
      "test1 0 printing 0\n",
      "test1 0 printing 1\n",
      "test1 0 printing 2\n",
      "test1 0 printing 3\n",
      "test1 0 printing 4\n",
      "test1 0 printing 5\n",
      "test1 0 printing 6\n",
      "test1 0 printing 7\n",
      "test1 0 printing 8\n",
      "test1 0 printing 9\n"
     ]
    }
   ],
   "source": [
    "test1(0)"
   ]
  },
  {
   "cell_type": "code",
   "execution_count": 59,
   "id": "72f4f0e3-e54b-40d9-ba28-44b390b3fd54",
   "metadata": {},
   "outputs": [],
   "source": [
    "def test1(id):\n",
    "    for i in range(10):\n",
    "        print(\"test1 %d printing %d\" %(id,i))\n",
    "        #time.sleep(1)"
   ]
  },
  {
   "cell_type": "code",
   "execution_count": 60,
   "id": "52b4ca73-0fdb-4b72-a369-5333ad663bef",
   "metadata": {},
   "outputs": [],
   "source": [
    "thread1 = [ threading.Thread ( target=test1, args=(i,) ) for i in range(3) ]"
   ]
  },
  {
   "cell_type": "code",
   "execution_count": 61,
   "id": "72a3cabf-68b4-4623-b589-1d81e675c663",
   "metadata": {},
   "outputs": [
    {
     "name": "stdout",
     "output_type": "stream",
     "text": [
      "test1 0 printing 0\n",
      "test1 0 printing 1\n",
      "test1 0 printing 2\n",
      "test1 0 printing 3\n",
      "test1 0 printing 4\n",
      "test1 0 printing 5\n",
      "test1 0 printing 6\n",
      "test1 0 printing 7\n",
      "test1 0 printing 8\n",
      "test1 0 printing 9\n",
      "test1 1 printing 0\n",
      "test1 1 printing 1\n",
      "test1 1 printing 2\n",
      "test1 1 printing 3\n",
      "test1 1 printing 4\n",
      "test1 1 printing 5\n",
      "test1 1 printing 6\n",
      "test1 1 printing 7\n",
      "test1 1 printing 8\n",
      "test1 1 printing 9\n",
      "test1 2 printing 0\n",
      "test1 2 printing 1\n",
      "test1 2 printing 2\n",
      "test1 2 printing 3\n",
      "test1 2 printing 4\n",
      "test1 2 printing 5\n",
      "test1 2 printing 6\n",
      "test1 2 printing 7\n",
      "test1 2 printing 8\n",
      "test1 2 printing 9\n"
     ]
    }
   ],
   "source": [
    "for t in thread1:\n",
    "    t.start()"
   ]
  },
  {
   "cell_type": "code",
   "execution_count": 62,
   "id": "8c835d5d-800a-44bf-ab5b-aa7bf5fed425",
   "metadata": {},
   "outputs": [],
   "source": [
    "def test1(id):\n",
    "    for i in range(10):\n",
    "        print(\"test1 %d printing %d %s\" %(id,i,time.ctime()))\n",
    "        #time.sleep(1)"
   ]
  },
  {
   "cell_type": "code",
   "execution_count": 63,
   "id": "07876391-158a-43a6-a86d-5e5773f1c8a3",
   "metadata": {},
   "outputs": [],
   "source": [
    "thread1 = [ threading.Thread ( target=test1, args=(i,) ) for i in range(3) ]"
   ]
  },
  {
   "cell_type": "code",
   "execution_count": 64,
   "id": "3e0a40af-72d6-4b4f-9828-358a4d116fd7",
   "metadata": {},
   "outputs": [
    {
     "name": "stdout",
     "output_type": "stream",
     "text": [
      "test1 0 printing 0 Tue Feb 14 15:42:52 2023\n",
      "test1 0 printing 1 Tue Feb 14 15:42:52 2023\n",
      "test1 0 printing 2 Tue Feb 14 15:42:52 2023\n",
      "test1 0 printing 3 Tue Feb 14 15:42:52 2023\n",
      "test1 0 printing 4 Tue Feb 14 15:42:52 2023\n",
      "test1 0 printing 5 Tue Feb 14 15:42:52 2023\n",
      "test1 0 printing 6 Tue Feb 14 15:42:52 2023\n",
      "test1 0 printing 7 Tue Feb 14 15:42:52 2023\n",
      "test1 0 printing 8 Tue Feb 14 15:42:52 2023\n",
      "test1 0 printing 9 Tue Feb 14 15:42:52 2023\n",
      "test1 1 printing 0 Tue Feb 14 15:42:52 2023\n",
      "test1 1 printing 1 Tue Feb 14 15:42:52 2023\n",
      "test1 1 printing 2 Tue Feb 14 15:42:52 2023\n",
      "test1 1 printing 3 Tue Feb 14 15:42:52 2023\n",
      "test1 1 printing 4 Tue Feb 14 15:42:52 2023\n",
      "test1 1 printing 5 Tue Feb 14 15:42:52 2023\n",
      "test1 1 printing 6 Tue Feb 14 15:42:52 2023\n",
      "test1 1 printing 7 Tue Feb 14 15:42:52 2023\n",
      "test1 1 printing 8 Tue Feb 14 15:42:52 2023\n",
      "test1 1 printing 9 Tue Feb 14 15:42:52 2023\n",
      "test1 2 printing 0 Tue Feb 14 15:42:52 2023\n",
      "test1 2 printing 1 Tue Feb 14 15:42:52 2023\n",
      "test1 2 printing 2 Tue Feb 14 15:42:52 2023\n",
      "test1 2 printing 3 Tue Feb 14 15:42:52 2023\n",
      "test1 2 printing 4 Tue Feb 14 15:42:52 2023\n",
      "test1 2 printing 5 Tue Feb 14 15:42:52 2023\n",
      "test1 2 printing 6 Tue Feb 14 15:42:52 2023\n",
      "test1 2 printing 7 Tue Feb 14 15:42:52 2023\n",
      "test1 2 printing 8 Tue Feb 14 15:42:52 2023\n",
      "test1 2 printing 9 Tue Feb 14 15:42:52 2023\n"
     ]
    }
   ],
   "source": [
    "for t in thread1:\n",
    "    t.start()"
   ]
  },
  {
   "cell_type": "code",
   "execution_count": 74,
   "id": "189bcf6c-ff7e-497d-8468-84c5ba1f7a08",
   "metadata": {},
   "outputs": [],
   "source": [
    "shared_var=0\n",
    "lock_var=threading.Lock()\n",
    "\n",
    "def test2(id):\n",
    "    global shared_var\n",
    "    with lock_var:\n",
    "        shared_var=shared_var+1\n",
    "        print(\"test2 id is %d has increased the shared var by %d \" %(id,shared_var))"
   ]
  },
  {
   "cell_type": "code",
   "execution_count": 75,
   "id": "9e6517d0-90fb-4e12-b173-5deb73949e11",
   "metadata": {},
   "outputs": [],
   "source": [
    "thread1 = [ threading.Thread ( target=test2, args=(i,) ) for i in range(3) ]"
   ]
  },
  {
   "cell_type": "code",
   "execution_count": 76,
   "id": "da4dbf3c-2394-46e1-8eaf-fd238037bcf8",
   "metadata": {},
   "outputs": [
    {
     "data": {
      "text/plain": [
       "[<Thread(Thread-63 (test2), initial)>,\n",
       " <Thread(Thread-64 (test2), initial)>,\n",
       " <Thread(Thread-65 (test2), initial)>]"
      ]
     },
     "execution_count": 76,
     "metadata": {},
     "output_type": "execute_result"
    }
   ],
   "source": [
    "thread1"
   ]
  },
  {
   "cell_type": "code",
   "execution_count": 77,
   "id": "5ad7d6c7-ea41-4223-86bc-72dce4abd6a3",
   "metadata": {},
   "outputs": [
    {
     "name": "stdout",
     "output_type": "stream",
     "text": [
      "test2 id is 0 has increased the shared var by 1 \n",
      "test2 id is 1 has increased the shared var by 2 \n",
      "test2 id is 2 has increased the shared var by 3 \n"
     ]
    }
   ],
   "source": [
    "for t in thread1:\n",
    "    t.start()"
   ]
  },
  {
   "cell_type": "code",
   "execution_count": null,
   "id": "d0693623-b151-4c81-836a-da53742f1d56",
   "metadata": {},
   "outputs": [],
   "source": []
  }
 ],
 "metadata": {
  "kernelspec": {
   "display_name": "Python 3 (ipykernel)",
   "language": "python",
   "name": "python3"
  },
  "language_info": {
   "codemirror_mode": {
    "name": "ipython",
    "version": 3
   },
   "file_extension": ".py",
   "mimetype": "text/x-python",
   "name": "python",
   "nbconvert_exporter": "python",
   "pygments_lexer": "ipython3",
   "version": "3.10.8"
  }
 },
 "nbformat": 4,
 "nbformat_minor": 5
}
