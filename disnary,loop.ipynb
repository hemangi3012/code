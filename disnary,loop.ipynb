{
 "cells": [
  {
   "cell_type": "code",
   "execution_count": 1,
   "id": "5a3bbbb5-cbff-4ccb-9d1d-e75ff8c81b18",
   "metadata": {},
   "outputs": [],
   "source": [
    "##########################  DICTIONARIES ##############################|"
   ]
  },
  {
   "cell_type": "code",
   "execution_count": 2,
   "id": "7a30c58f-b526-4f45-8a86-27b1f617b90e",
   "metadata": {},
   "outputs": [],
   "source": [
    "d = {}            # use curly brackets {}"
   ]
  },
  {
   "cell_type": "code",
   "execution_count": 3,
   "id": "55e2175e-7e80-47ae-adb6-2850beabed9f",
   "metadata": {},
   "outputs": [
    {
     "data": {
      "text/plain": [
       "dict"
      ]
     },
     "execution_count": 3,
     "metadata": {},
     "output_type": "execute_result"
    }
   ],
   "source": [
    "type(d)"
   ]
  },
  {
   "cell_type": "code",
   "execution_count": 4,
   "id": "32333b99-5cd7-4c3c-ba14-e7ab62541173",
   "metadata": {},
   "outputs": [],
   "source": [
    "d1 = {\"key\"  :  \"value\"}               ## key should always be unique  like word : meaning "
   ]
  },
  {
   "cell_type": "code",
   "execution_count": 5,
   "id": "dd2469c4-5b13-46ae-aacd-c126c6a58f15",
   "metadata": {},
   "outputs": [
    {
     "data": {
      "text/plain": [
       "{'key': 'value'}"
      ]
     },
     "execution_count": 5,
     "metadata": {},
     "output_type": "execute_result"
    }
   ],
   "source": [
    "d1"
   ]
  },
  {
   "cell_type": "code",
   "execution_count": 6,
   "id": "a9b2322b-cb2c-4bfa-a857-f88b548dd8c0",
   "metadata": {},
   "outputs": [],
   "source": [
    "d2={\"name\" : \"hemangi\" , \"email\" : \"vaghasiya@gamil.com\" , \"number\" : 96875546522}          ## store data in pair "
   ]
  },
  {
   "cell_type": "code",
   "execution_count": 7,
   "id": "e4acfbf9-8336-48e8-a91a-faf94d85989e",
   "metadata": {},
   "outputs": [
    {
     "data": {
      "text/plain": [
       "{'name': 'hemangi', 'email': 'vaghasiya@gamil.com', 'number': 96875546522}"
      ]
     },
     "execution_count": 7,
     "metadata": {},
     "output_type": "execute_result"
    }
   ],
   "source": [
    "d2"
   ]
  },
  {
   "cell_type": "code",
   "execution_count": 11,
   "id": "f049428f-3c1a-4baa-a7d9-2d3b2655fb90",
   "metadata": {},
   "outputs": [],
   "source": [
    "d3={234 : \"hello\" , \"_wer\" : \"hema\" , True : 6352}                 ## key ma koi pn numeric or string value lai skay  but special case \n",
    "                                                                                                   # (!@#$%^&*) no lai skay "
   ]
  },
  {
   "cell_type": "code",
   "execution_count": 12,
   "id": "2e38874c-e1a3-43dc-b50c-2aab379656d0",
   "metadata": {},
   "outputs": [
    {
     "data": {
      "text/plain": [
       "{234: 'hello', '_wer': 'hema', True: 6352}"
      ]
     },
     "execution_count": 12,
     "metadata": {},
     "output_type": "execute_result"
    }
   ],
   "source": [
    "d3"
   ]
  },
  {
   "cell_type": "code",
   "execution_count": 13,
   "id": "62600804-2a7d-43c9-907a-a5a2d6da006a",
   "metadata": {},
   "outputs": [],
   "source": [
    "##koi secific value ne nikalva mate index ni jagiyaye key no use karvo in distionary ."
   ]
  },
  {
   "cell_type": "code",
   "execution_count": 14,
   "id": "ca928a1a-1b27-4861-83d4-bdac8bafe41d",
   "metadata": {},
   "outputs": [
    {
     "data": {
      "text/plain": [
       "'hello'"
      ]
     },
     "execution_count": 14,
     "metadata": {},
     "output_type": "execute_result"
    }
   ],
   "source": [
    "d3[234]"
   ]
  },
  {
   "cell_type": "code",
   "execution_count": 15,
   "id": "957df45a-cc3c-489b-9a4f-c82305550e2d",
   "metadata": {},
   "outputs": [
    {
     "data": {
      "text/plain": [
       "'hema'"
      ]
     },
     "execution_count": 15,
     "metadata": {},
     "output_type": "execute_result"
    }
   ],
   "source": [
    "d3[\"_wer\"]"
   ]
  },
  {
   "cell_type": "code",
   "execution_count": 16,
   "id": "5494cca7-59b5-4e82-98f4-39c352e5702c",
   "metadata": {},
   "outputs": [
    {
     "data": {
      "text/plain": [
       "6352"
      ]
     },
     "execution_count": 16,
     "metadata": {},
     "output_type": "execute_result"
    }
   ],
   "source": [
    "d3[True]                 ## True means 1 so you can give key 1 ."
   ]
  },
  {
   "cell_type": "code",
   "execution_count": 17,
   "id": "22a375da-d586-4a60-86ec-c8c616719207",
   "metadata": {},
   "outputs": [
    {
     "data": {
      "text/plain": [
       "6352"
      ]
     },
     "execution_count": 17,
     "metadata": {},
     "output_type": "execute_result"
    }
   ],
   "source": [
    "d3[1]"
   ]
  },
  {
   "cell_type": "code",
   "execution_count": 18,
   "id": "1a8c145a-2f33-4238-82ad-6e3f59a0dfdb",
   "metadata": {},
   "outputs": [],
   "source": [
    "d4 = {\"name\" : \"hemnagi\" , \"mail\" : \"hemangi@gmail.com\" , \"name\" : \"vaghasiya\"}"
   ]
  },
  {
   "cell_type": "code",
   "execution_count": 20,
   "id": "7dcffd67-32e9-41c8-9d4a-506ce48cbf1a",
   "metadata": {},
   "outputs": [
    {
     "data": {
      "text/plain": [
       "'vaghasiya'"
      ]
     },
     "execution_count": 20,
     "metadata": {},
     "output_type": "execute_result"
    }
   ],
   "source": [
    "d4[\"name\"]            ## key is always unique jo unique no hoi to overwrite thy jay last value thi atle vaghasiya output aavu "
   ]
  },
  {
   "cell_type": "code",
   "execution_count": 21,
   "id": "29cff820-5723-4476-aca0-1d3a0d144061",
   "metadata": {},
   "outputs": [],
   "source": [
    "d5 = {\"company\" : \"pwskills\" , \"course\" : [\"web dev\" , \"data science\" , \"java with system design\"]}    ## value ma list , tuples,set  pn lai skay "
   ]
  },
  {
   "cell_type": "code",
   "execution_count": 22,
   "id": "c2e128f9-cef7-4787-ad07-bfabfc6eafeb",
   "metadata": {},
   "outputs": [
    {
     "data": {
      "text/plain": [
       "{'company': 'pwskills',\n",
       " 'course': ['web dev', 'data science', 'java with system design']}"
      ]
     },
     "execution_count": 22,
     "metadata": {},
     "output_type": "execute_result"
    }
   ],
   "source": [
    "d5"
   ]
  },
  {
   "cell_type": "code",
   "execution_count": 23,
   "id": "d1710e42-4e2a-4b79-b3c0-c0369096a397",
   "metadata": {},
   "outputs": [
    {
     "data": {
      "text/plain": [
       "['web dev', 'data science', 'java with system design']"
      ]
     },
     "execution_count": 23,
     "metadata": {},
     "output_type": "execute_result"
    }
   ],
   "source": [
    "d5[\"course\"]"
   ]
  },
  {
   "cell_type": "code",
   "execution_count": 24,
   "id": "2096a1c0-2a9c-4c4e-897b-ca17c381ba37",
   "metadata": {},
   "outputs": [
    {
     "data": {
      "text/plain": [
       "'java with system design'"
      ]
     },
     "execution_count": 24,
     "metadata": {},
     "output_type": "execute_result"
    }
   ],
   "source": [
    "d5[\"course\"][2]"
   ]
  },
  {
   "cell_type": "code",
   "execution_count": 25,
   "id": "d5c3aec4-615a-4994-aeb1-82b155013180",
   "metadata": {},
   "outputs": [],
   "source": [
    "d6 = {\"number\" : 963258741 , \"assignment\" : (1,2,3,4,5,6,7,8,9,10) , \"lunch_date\" : {28,12,14,16,6} ,\n",
    "      \"class_time\" : {\"web dev\" : 5 , \"data science\" : 8,\"ja with system\": 9}}   ## you can do distionary inside distionary"
   ]
  },
  {
   "cell_type": "code",
   "execution_count": 26,
   "id": "629b85a1-4251-44ae-b222-9bc83313c9eb",
   "metadata": {},
   "outputs": [
    {
     "data": {
      "text/plain": [
       "{'number': 963258741,\n",
       " 'assignment': (1, 2, 3, 4, 5, 6, 7, 8, 9, 10),\n",
       " 'lunch_date': {6, 12, 14, 16, 28},\n",
       " 'class_time': {'web dev': 5, 'data science': 8, 'ja with system': 9}}"
      ]
     },
     "execution_count": 26,
     "metadata": {},
     "output_type": "execute_result"
    }
   ],
   "source": [
    "d6"
   ]
  },
  {
   "cell_type": "code",
   "execution_count": 27,
   "id": "2a8fe6f0-5120-4aba-b238-d249606b9e4c",
   "metadata": {},
   "outputs": [],
   "source": [
    "d6 = {\"number\" : [2,34,567,99] , \"assignment\" : (1,2,3,4,5,6,7,8,9,10) , \"lunch_date\" : {28,12,14,16,6} ,\n",
    "      \"class_time\" : {\"web dev\" : 5 , \"data science\" : 8,\"ja with system\": 9}}   ## you can do distionary inside distionary"
   ]
  },
  {
   "cell_type": "code",
   "execution_count": 28,
   "id": "46236d6d-ddb1-4339-8ccd-50288fb6e059",
   "metadata": {},
   "outputs": [
    {
     "data": {
      "text/plain": [
       "{'number': [2, 34, 567, 99],\n",
       " 'assignment': (1, 2, 3, 4, 5, 6, 7, 8, 9, 10),\n",
       " 'lunch_date': {6, 12, 14, 16, 28},\n",
       " 'class_time': {'web dev': 5, 'data science': 8, 'ja with system': 9}}"
      ]
     },
     "execution_count": 28,
     "metadata": {},
     "output_type": "execute_result"
    }
   ],
   "source": [
    "d6"
   ]
  },
  {
   "cell_type": "code",
   "execution_count": 30,
   "id": "ab69c5b9-e945-4a99-9b29-0d3ff75e1eb1",
   "metadata": {},
   "outputs": [
    {
     "data": {
      "text/plain": [
       "{'web dev': 5, 'data science': 8, 'ja with system': 9}"
      ]
     },
     "execution_count": 30,
     "metadata": {},
     "output_type": "execute_result"
    }
   ],
   "source": [
    "d6[\"class_time\"]"
   ]
  },
  {
   "cell_type": "code",
   "execution_count": 31,
   "id": "8e111198-7e46-4ce3-b399-4fb50504f637",
   "metadata": {},
   "outputs": [
    {
     "data": {
      "text/plain": [
       "9"
      ]
     },
     "execution_count": 31,
     "metadata": {},
     "output_type": "execute_result"
    }
   ],
   "source": [
    "d6[\"class_time\"][\"ja with system\"]"
   ]
  },
  {
   "cell_type": "code",
   "execution_count": 32,
   "id": "1e1d705f-4f0c-461a-b37f-fbe0ccfdd67e",
   "metadata": {},
   "outputs": [
    {
     "data": {
      "text/plain": [
       "{'number': [2, 34, 567, 99],\n",
       " 'assignment': (1, 2, 3, 4, 5, 6, 7, 8, 9, 10),\n",
       " 'lunch_date': {6, 12, 14, 16, 28},\n",
       " 'class_time': {'web dev': 5, 'data science': 8, 'ja with system': 9}}"
      ]
     },
     "execution_count": 32,
     "metadata": {},
     "output_type": "execute_result"
    }
   ],
   "source": [
    "d6"
   ]
  },
  {
   "cell_type": "code",
   "execution_count": 33,
   "id": "8cd0dc10-dd41-4bbc-8ab6-5c5de1f93e79",
   "metadata": {},
   "outputs": [],
   "source": [
    "d6[\"mentor\"] = [\"sudhanshu\",\"krish\",\"anurag\",\"hayder\"]           ## jo key avaiable no hoi to add thy "
   ]
  },
  {
   "cell_type": "code",
   "execution_count": 34,
   "id": "5bc70ed5-d0da-4e29-8a91-26ca03186008",
   "metadata": {},
   "outputs": [
    {
     "data": {
      "text/plain": [
       "{'number': [2, 34, 567, 99],\n",
       " 'assignment': (1, 2, 3, 4, 5, 6, 7, 8, 9, 10),\n",
       " 'lunch_date': {6, 12, 14, 16, 28},\n",
       " 'class_time': {'web dev': 5, 'data science': 8, 'ja with system': 9},\n",
       " 'mentor': ['sudhanshu', 'krish', 'anurag', 'hayder']}"
      ]
     },
     "execution_count": 34,
     "metadata": {},
     "output_type": "execute_result"
    }
   ],
   "source": [
    "d6"
   ]
  },
  {
   "cell_type": "code",
   "execution_count": 35,
   "id": "b62b6e72-3662-4da1-a863-19c6ceb47b16",
   "metadata": {},
   "outputs": [],
   "source": [
    "d6[\"number\"]= [999,888,777,666]                ## jo key already avaiable hoi to update thy "
   ]
  },
  {
   "cell_type": "code",
   "execution_count": 36,
   "id": "2e98fe79-cdf7-494c-91b8-93c557c81fea",
   "metadata": {},
   "outputs": [
    {
     "data": {
      "text/plain": [
       "{'number': [999, 888, 777, 666],\n",
       " 'assignment': (1, 2, 3, 4, 5, 6, 7, 8, 9, 10),\n",
       " 'lunch_date': {6, 12, 14, 16, 28},\n",
       " 'class_time': {'web dev': 5, 'data science': 8, 'ja with system': 9},\n",
       " 'mentor': ['sudhanshu', 'krish', 'anurag', 'hayder']}"
      ]
     },
     "execution_count": 36,
     "metadata": {},
     "output_type": "execute_result"
    }
   ],
   "source": [
    "d6"
   ]
  },
  {
   "cell_type": "code",
   "execution_count": 37,
   "id": "58790049-4056-4d6f-9047-04372b5c5d21",
   "metadata": {},
   "outputs": [],
   "source": [
    "del d6[\"number\"]"
   ]
  },
  {
   "cell_type": "code",
   "execution_count": 38,
   "id": "aaf81701-b269-4247-a5d6-819452470c68",
   "metadata": {},
   "outputs": [
    {
     "data": {
      "text/plain": [
       "{'assignment': (1, 2, 3, 4, 5, 6, 7, 8, 9, 10),\n",
       " 'lunch_date': {6, 12, 14, 16, 28},\n",
       " 'class_time': {'web dev': 5, 'data science': 8, 'ja with system': 9},\n",
       " 'mentor': ['sudhanshu', 'krish', 'anurag', 'hayder']}"
      ]
     },
     "execution_count": 38,
     "metadata": {},
     "output_type": "execute_result"
    }
   ],
   "source": [
    "d6"
   ]
  },
  {
   "cell_type": "code",
   "execution_count": 39,
   "id": "b171652a-a169-41ad-8061-91061f733931",
   "metadata": {},
   "outputs": [
    {
     "data": {
      "text/plain": [
       "dict_keys(['assignment', 'lunch_date', 'class_time', 'mentor'])"
      ]
     },
     "execution_count": 39,
     "metadata": {},
     "output_type": "execute_result"
    }
   ],
   "source": [
    "d6.keys()"
   ]
  },
  {
   "cell_type": "code",
   "execution_count": 40,
   "id": "b3ef2da2-f8df-43ac-9ce1-dbcd489c0f63",
   "metadata": {},
   "outputs": [
    {
     "data": {
      "text/plain": [
       "['assignment', 'lunch_date', 'class_time', 'mentor']"
      ]
     },
     "execution_count": 40,
     "metadata": {},
     "output_type": "execute_result"
    }
   ],
   "source": [
    "list(d6.keys())"
   ]
  },
  {
   "cell_type": "code",
   "execution_count": 41,
   "id": "512f5904-60e7-4cbf-a214-00ee5c922545",
   "metadata": {},
   "outputs": [
    {
     "data": {
      "text/plain": [
       "dict_values([(1, 2, 3, 4, 5, 6, 7, 8, 9, 10), {16, 6, 12, 28, 14}, {'web dev': 5, 'data science': 8, 'ja with system': 9}, ['sudhanshu', 'krish', 'anurag', 'hayder']])"
      ]
     },
     "execution_count": 41,
     "metadata": {},
     "output_type": "execute_result"
    }
   ],
   "source": [
    "d6.values()"
   ]
  },
  {
   "cell_type": "code",
   "execution_count": 42,
   "id": "84c62f67-47ed-4cfb-a41f-d6330f59220c",
   "metadata": {},
   "outputs": [
    {
     "data": {
      "text/plain": [
       "[(1, 2, 3, 4, 5, 6, 7, 8, 9, 10),\n",
       " {6, 12, 14, 16, 28},\n",
       " {'web dev': 5, 'data science': 8, 'ja with system': 9},\n",
       " ['sudhanshu', 'krish', 'anurag', 'hayder']]"
      ]
     },
     "execution_count": 42,
     "metadata": {},
     "output_type": "execute_result"
    }
   ],
   "source": [
    "list(d6.values())"
   ]
  },
  {
   "cell_type": "code",
   "execution_count": 43,
   "id": "4655fa6f-cf7e-4bef-8c2d-7d020275b83a",
   "metadata": {},
   "outputs": [
    {
     "data": {
      "text/plain": [
       "[('assignment', (1, 2, 3, 4, 5, 6, 7, 8, 9, 10)),\n",
       " ('lunch_date', {6, 12, 14, 16, 28}),\n",
       " ('class_time', {'web dev': 5, 'data science': 8, 'ja with system': 9}),\n",
       " ('mentor', ['sudhanshu', 'krish', 'anurag', 'hayder'])]"
      ]
     },
     "execution_count": 43,
     "metadata": {},
     "output_type": "execute_result"
    }
   ],
   "source": [
    "list(d6.items())"
   ]
  },
  {
   "cell_type": "code",
   "execution_count": 44,
   "id": "2f52f611-41a3-4c7e-98e1-fd8414fce139",
   "metadata": {},
   "outputs": [
    {
     "data": {
      "text/plain": [
       "(1, 2, 3, 4, 5, 6, 7, 8, 9, 10)"
      ]
     },
     "execution_count": 44,
     "metadata": {},
     "output_type": "execute_result"
    }
   ],
   "source": [
    "d6.pop(\"assignment\")"
   ]
  },
  {
   "cell_type": "code",
   "execution_count": 45,
   "id": "96eef9a8-b5d9-476e-9c8d-42922afacad7",
   "metadata": {},
   "outputs": [
    {
     "data": {
      "text/plain": [
       "{'lunch_date': {6, 12, 14, 16, 28},\n",
       " 'class_time': {'web dev': 5, 'data science': 8, 'ja with system': 9},\n",
       " 'mentor': ['sudhanshu', 'krish', 'anurag', 'hayder']}"
      ]
     },
     "execution_count": 45,
     "metadata": {},
     "output_type": "execute_result"
    }
   ],
   "source": [
    "d6"
   ]
  },
  {
   "cell_type": "code",
   "execution_count": 46,
   "id": "d9a85ec3-ab51-4d6d-843b-519868d8eac2",
   "metadata": {},
   "outputs": [
    {
     "ename": "TypeError",
     "evalue": "pop expected at least 1 argument, got 0",
     "output_type": "error",
     "traceback": [
      "\u001b[0;31m---------------------------------------------------------------------------\u001b[0m",
      "\u001b[0;31mTypeError\u001b[0m                                 Traceback (most recent call last)",
      "Cell \u001b[0;32mIn[46], line 1\u001b[0m\n\u001b[0;32m----> 1\u001b[0m \u001b[43md6\u001b[49m\u001b[38;5;241;43m.\u001b[39;49m\u001b[43mpop\u001b[49m\u001b[43m(\u001b[49m\u001b[43m)\u001b[49m\n",
      "\u001b[0;31mTypeError\u001b[0m: pop expected at least 1 argument, got 0"
     ]
    }
   ],
   "source": [
    "d6.pop()"
   ]
  },
  {
   "cell_type": "code",
   "execution_count": 47,
   "id": "919a521b-24d5-4133-85c3-6b7785fb7e99",
   "metadata": {},
   "outputs": [],
   "source": [
    " ######################### CONTROL STATMENT , DISITION MEAKING STATEMENT (IF,ELIF,ELSE) ##########################"
   ]
  },
  {
   "cell_type": "code",
   "execution_count": 48,
   "id": "74fac82f-14b1-479e-9c8f-a0b7e8ef31a3",
   "metadata": {},
   "outputs": [
    {
     "name": "stdout",
     "output_type": "stream",
     "text": [
      "you will be a part of A1 batch\n"
     ]
    }
   ],
   "source": [
    "marks=70\n",
    "if marks>=80:                                        ## colon is must requies \n",
    "    print(\"you will be a part of A0 batch\")\n",
    "elif marks>= 60 and marks<80:\n",
    "    print(\"you will be a part of A1 batch\")\n",
    "elif marks>= 40 and marks<60:\n",
    "    print(\"you will be a part of A2 batch\")\n",
    "else:\n",
    "    print(\"you will be a part of A3 batch\")"
   ]
  },
  {
   "cell_type": "code",
   "execution_count": 49,
   "id": "4e3c12fd-a7cc-4420-ae9c-3900625b2a5c",
   "metadata": {},
   "outputs": [
    {
     "data": {
      "text/plain": [
       "False"
      ]
     },
     "execution_count": 49,
     "metadata": {},
     "output_type": "execute_result"
    }
   ],
   "source": [
    "10>=80"
   ]
  },
  {
   "cell_type": "code",
   "execution_count": 52,
   "id": "30ebb5b9-b4c6-4c24-8ba2-a19ca70d8c09",
   "metadata": {},
   "outputs": [
    {
     "name": "stdin",
     "output_type": "stream",
     "text": [
      "enter your marks :=  80\n"
     ]
    },
    {
     "name": "stdout",
     "output_type": "stream",
     "text": [
      "you will be a part of A0 batch\n"
     ]
    }
   ],
   "source": [
    "marks=int(input(\"enter your marks := \"))\n",
    "if marks>=80:                                        ## colon is must requies \n",
    "    print(\"you will be a part of A0 batch\")\n",
    "elif marks>= 60 and marks<80:\n",
    "    print(\"you will be a part of A1 batch\")\n",
    "elif marks>= 40 and marks<60:\n",
    "    print(\"you will be a part of A2 batch\")\n",
    "else:\n",
    "    print(\"you will be a part of A3 batch\")"
   ]
  },
  {
   "cell_type": "code",
   "execution_count": 53,
   "id": "5d9e0938-96e2-47c6-a3bb-b81ab8072667",
   "metadata": {},
   "outputs": [
    {
     "data": {
      "text/plain": [
       "80"
      ]
     },
     "execution_count": 53,
     "metadata": {},
     "output_type": "execute_result"
    }
   ],
   "source": [
    "marks"
   ]
  },
  {
   "cell_type": "code",
   "execution_count": 54,
   "id": "cd92537f-4603-46d0-aaa4-5aecd72faeed",
   "metadata": {},
   "outputs": [
    {
     "data": {
      "text/plain": [
       "int"
      ]
     },
     "execution_count": 54,
     "metadata": {},
     "output_type": "execute_result"
    }
   ],
   "source": [
    "type(marks)"
   ]
  },
  {
   "cell_type": "code",
   "execution_count": 55,
   "id": "7ca4ff5d-f3b1-4425-b6e6-b5977d2b8708",
   "metadata": {},
   "outputs": [
    {
     "name": "stdin",
     "output_type": "stream",
     "text": [
      "enter your marks :=  34\n"
     ]
    }
   ],
   "source": [
    "marks=input(\"enter your marks := \")"
   ]
  },
  {
   "cell_type": "code",
   "execution_count": 56,
   "id": "dff92a00-120b-4d9d-9437-bfeb8f5601cf",
   "metadata": {},
   "outputs": [
    {
     "data": {
      "text/plain": [
       "'34'"
      ]
     },
     "execution_count": 56,
     "metadata": {},
     "output_type": "execute_result"
    }
   ],
   "source": [
    "marks"
   ]
  },
  {
   "cell_type": "code",
   "execution_count": 57,
   "id": "46523b32-eb9c-4da1-a982-ccdba635e0e3",
   "metadata": {},
   "outputs": [
    {
     "data": {
      "text/plain": [
       "str"
      ]
     },
     "execution_count": 57,
     "metadata": {},
     "output_type": "execute_result"
    }
   ],
   "source": [
    "type(marks)"
   ]
  },
  {
   "cell_type": "code",
   "execution_count": 58,
   "id": "8c53684e-389c-4b4b-a0fe-c69f6ea67351",
   "metadata": {},
   "outputs": [
    {
     "name": "stdin",
     "output_type": "stream",
     "text": [
      "enter your price :=  3000\n"
     ]
    },
    {
     "name": "stdout",
     "output_type": "stream",
     "text": [
      "i will not purchase\n"
     ]
    }
   ],
   "source": [
    "price=int(input(\"enter your price := \"))\n",
    "if price > 1000:\n",
    "    print(\"i will not purchase\")\n",
    "else:\n",
    "    print(\"i will purchase\")"
   ]
  },
  {
   "cell_type": "code",
   "execution_count": 59,
   "id": "99ebc1a3-c3d7-4254-9376-56c0719b032a",
   "metadata": {},
   "outputs": [
    {
     "name": "stdin",
     "output_type": "stream",
     "text": [
      "enter your price :=  900\n"
     ]
    },
    {
     "name": "stdout",
     "output_type": "stream",
     "text": [
      "i will purchase\n"
     ]
    }
   ],
   "source": [
    "price=int(input(\"enter your price := \"))\n",
    "if price > 1000:\n",
    "    print(\"i will not purchase\")\n",
    "else:\n",
    "    print(\"i will purchase\")"
   ]
  },
  {
   "cell_type": "code",
   "execution_count": 60,
   "id": "32dd8e29-bbd6-476e-803a-cd0c45944e9f",
   "metadata": {},
   "outputs": [
    {
     "name": "stdin",
     "output_type": "stream",
     "text": [
      "enter your price :=  2000\n"
     ]
    },
    {
     "name": "stdout",
     "output_type": "stream",
     "text": [
      "i will not purchase\n"
     ]
    }
   ],
   "source": [
    "price=int(input(\"enter your price := \"))\n",
    "if price > 1000:\n",
    "    print(\"i will not purchase\")\n",
    "    if price >5000:\n",
    "        print(\"this is too much\")"
   ]
  },
  {
   "cell_type": "code",
   "execution_count": 61,
   "id": "95d42e9c-cd28-4837-97f6-d951ee14bd8c",
   "metadata": {},
   "outputs": [
    {
     "name": "stdin",
     "output_type": "stream",
     "text": [
      "enter your price :=  6000\n"
     ]
    },
    {
     "name": "stdout",
     "output_type": "stream",
     "text": [
      "i will not purchase\n",
      "this is too much\n"
     ]
    }
   ],
   "source": [
    "price=int(input(\"enter your price := \"))\n",
    "if price > 1000:\n",
    "    print(\"i will not purchase\")\n",
    "    if price >5000:\n",
    "        print(\"this is too much\")"
   ]
  },
  {
   "cell_type": "code",
   "execution_count": 63,
   "id": "34bf88a4-12e8-4e50-b8ba-e18a03c59483",
   "metadata": {},
   "outputs": [
    {
     "name": "stdin",
     "output_type": "stream",
     "text": [
      "enter your price :=  200\n"
     ]
    },
    {
     "name": "stdout",
     "output_type": "stream",
     "text": [
      "i will purchase\n"
     ]
    }
   ],
   "source": [
    "price=int(input(\"enter your price := \"))\n",
    "if price > 1000:\n",
    "    print(\"i will not purchase\")\n",
    "    if price >5000:\n",
    "        print(\"this is too much\")\n",
    "    elif price < 2000:\n",
    "        print(\"it's ohk\")\n",
    "elif price <1000:\n",
    "    print(\"i will purchase\")\n",
    "else:\n",
    "    print(\"not interested\")"
   ]
  },
  {
   "cell_type": "code",
   "execution_count": 64,
   "id": "6b835130-cee2-461b-8401-8cecd7420548",
   "metadata": {},
   "outputs": [],
   "source": [
    "###################################  LOOP (for/while) #######################"
   ]
  },
  {
   "cell_type": "code",
   "execution_count": 65,
   "id": "f8890df5-bac0-4321-a86e-8b2e88e1ce2f",
   "metadata": {},
   "outputs": [],
   "source": [
    "l=[1,2,3,4,5,6,7,8,9,10]"
   ]
  },
  {
   "cell_type": "code",
   "execution_count": 67,
   "id": "2f6b16ee-3e88-45da-860c-a0382777f98f",
   "metadata": {},
   "outputs": [
    {
     "data": {
      "text/plain": [
       "2"
      ]
     },
     "execution_count": 67,
     "metadata": {},
     "output_type": "execute_result"
    }
   ],
   "source": [
    "l[0]+1"
   ]
  },
  {
   "cell_type": "code",
   "execution_count": 68,
   "id": "1db7b6bd-fc47-4c61-9c18-9920bf671345",
   "metadata": {},
   "outputs": [],
   "source": [
    "l1 = []"
   ]
  },
  {
   "cell_type": "code",
   "execution_count": 69,
   "id": "9d2ef6ac-591f-44d0-ad39-41b0783573bd",
   "metadata": {},
   "outputs": [],
   "source": [
    "l1.append(l[0]+1)"
   ]
  },
  {
   "cell_type": "code",
   "execution_count": 70,
   "id": "56040f58-b173-40d2-b196-5f716bab2184",
   "metadata": {},
   "outputs": [
    {
     "data": {
      "text/plain": [
       "[2]"
      ]
     },
     "execution_count": 70,
     "metadata": {},
     "output_type": "execute_result"
    }
   ],
   "source": [
    "l1"
   ]
  },
  {
   "cell_type": "code",
   "execution_count": 71,
   "id": "6d04e6d2-889b-4115-9bff-4e0d71a853cd",
   "metadata": {},
   "outputs": [
    {
     "data": {
      "text/plain": [
       "[1, 2, 3, 4, 5, 6, 7, 8, 9, 10]"
      ]
     },
     "execution_count": 71,
     "metadata": {},
     "output_type": "execute_result"
    }
   ],
   "source": [
    "l"
   ]
  },
  {
   "cell_type": "code",
   "execution_count": 72,
   "id": "a7495943-119e-4bba-83fb-3c33ce11179a",
   "metadata": {},
   "outputs": [
    {
     "name": "stdout",
     "output_type": "stream",
     "text": [
      "1\n",
      "2\n",
      "3\n",
      "4\n",
      "5\n",
      "6\n",
      "7\n",
      "8\n",
      "9\n",
      "10\n"
     ]
    }
   ],
   "source": [
    "for i in l:\n",
    "    print(i)"
   ]
  },
  {
   "cell_type": "code",
   "execution_count": 73,
   "id": "1c8a650b-9939-49ac-821d-2c885157f594",
   "metadata": {},
   "outputs": [],
   "source": [
    "l=[1,2,3,4,5,6,7,8,9,10]"
   ]
  },
  {
   "cell_type": "code",
   "execution_count": 74,
   "id": "2066b6bc-a7b7-4127-9e07-8797efc78638",
   "metadata": {},
   "outputs": [
    {
     "name": "stdout",
     "output_type": "stream",
     "text": [
      "2\n",
      "3\n",
      "4\n",
      "5\n",
      "6\n",
      "7\n",
      "8\n",
      "9\n",
      "10\n",
      "11\n"
     ]
    }
   ],
   "source": [
    "for i in l :\n",
    "    print(i+1)"
   ]
  },
  {
   "cell_type": "code",
   "execution_count": 77,
   "id": "113cbe9f-b8bb-432d-aaf0-ecb63480c555",
   "metadata": {},
   "outputs": [
    {
     "name": "stdout",
     "output_type": "stream",
     "text": [
      "2\n",
      "3\n",
      "4\n",
      "5\n",
      "6\n",
      "7\n",
      "8\n",
      "9\n",
      "10\n",
      "11\n"
     ]
    },
    {
     "data": {
      "text/plain": [
       "[2, 3, 4, 5, 6, 7, 8, 9, 10, 11]"
      ]
     },
     "execution_count": 77,
     "metadata": {},
     "output_type": "execute_result"
    }
   ],
   "source": [
    "l1= []\n",
    "for i in l :\n",
    "    print(i+1)\n",
    "    l1.append(i+1)\n",
    "l1"
   ]
  },
  {
   "cell_type": "code",
   "execution_count": 78,
   "id": "64e28ca1-5d25-45d7-b69f-4fb4df8378dc",
   "metadata": {},
   "outputs": [
    {
     "data": {
      "text/plain": [
       "[1, 2, 3, 4, 5, 6, 7, 8, 9, 10]"
      ]
     },
     "execution_count": 78,
     "metadata": {},
     "output_type": "execute_result"
    }
   ],
   "source": [
    "l"
   ]
  },
  {
   "cell_type": "code",
   "execution_count": 79,
   "id": "02eda518-6ded-4dda-904a-b57c5515895c",
   "metadata": {},
   "outputs": [],
   "source": [
    "l = [\"sudh\" ,\"heman\" ,\"pwskills\",\"hemangi\",\"vaghasiya\"]"
   ]
  },
  {
   "cell_type": "code",
   "execution_count": 80,
   "id": "9798ef7b-3848-4ddc-bf4a-5c5dac46c988",
   "metadata": {},
   "outputs": [
    {
     "data": {
      "text/plain": [
       "['sudh', 'heman', 'pwskills', 'hemangi', 'vaghasiya']"
      ]
     },
     "execution_count": 80,
     "metadata": {},
     "output_type": "execute_result"
    }
   ],
   "source": [
    "l"
   ]
  },
  {
   "cell_type": "code",
   "execution_count": 82,
   "id": "261a6c07-2682-4f4b-b2d9-b140933f5dce",
   "metadata": {},
   "outputs": [
    {
     "name": "stdout",
     "output_type": "stream",
     "text": [
      "sudh\n",
      "heman\n",
      "pwskills\n",
      "hemangi\n",
      "vaghasiya\n"
     ]
    }
   ],
   "source": [
    "l1=[]\n",
    "for i in l:\n",
    "    print(i)"
   ]
  },
  {
   "cell_type": "code",
   "execution_count": 83,
   "id": "df111770-0e70-45be-98d0-d368e91db25b",
   "metadata": {},
   "outputs": [
    {
     "name": "stdout",
     "output_type": "stream",
     "text": [
      "sudh\n",
      "heman\n",
      "pwskills\n",
      "hemangi\n",
      "vaghasiya\n"
     ]
    }
   ],
   "source": [
    "l1=[]\n",
    "for i in l:\n",
    "    print(i)\n",
    "    l1.append(i.upper())"
   ]
  },
  {
   "cell_type": "code",
   "execution_count": 84,
   "id": "c703c58f-6f15-4a5c-9cf6-65928d67316e",
   "metadata": {},
   "outputs": [
    {
     "data": {
      "text/plain": [
       "['SUDH', 'HEMAN', 'PWSKILLS', 'HEMANGI', 'VAGHASIYA']"
      ]
     },
     "execution_count": 84,
     "metadata": {},
     "output_type": "execute_result"
    }
   ],
   "source": [
    "l1"
   ]
  },
  {
   "cell_type": "code",
   "execution_count": 85,
   "id": "3803952f-a4c0-4599-af02-807bd1e92dc9",
   "metadata": {},
   "outputs": [],
   "source": [
    "l= {1,2,3,4,556,\"hemna\",3465,63.42,\"hello\", \"mr.patel\"}"
   ]
  },
  {
   "cell_type": "code",
   "execution_count": 86,
   "id": "ce53d9f0-20f7-4178-9af7-2e912f439a71",
   "metadata": {},
   "outputs": [
    {
     "data": {
      "text/plain": [
       "{1, 2, 3, 3465, 4, 556, 63.42, 'hello', 'hemna', 'mr.patel'}"
      ]
     },
     "execution_count": 86,
     "metadata": {},
     "output_type": "execute_result"
    }
   ],
   "source": [
    "l"
   ]
  },
  {
   "cell_type": "code",
   "execution_count": 89,
   "id": "e2f4fa42-87e4-4a44-9101-55034772a8ea",
   "metadata": {},
   "outputs": [],
   "source": [
    "l1_num =[]\n",
    "l2_str =[]\n",
    "for i in l:\n",
    "    if type(i) == int or type(i) == float:\n",
    "        l1_num.append(i)\n",
    "    else:\n",
    "        l2_str.append(i)"
   ]
  },
  {
   "cell_type": "code",
   "execution_count": 90,
   "id": "934294fa-ae79-473f-b151-334b69850c80",
   "metadata": {},
   "outputs": [
    {
     "data": {
      "text/plain": [
       "[1, 2, 3, 4, 3465, 556, 63.42]"
      ]
     },
     "execution_count": 90,
     "metadata": {},
     "output_type": "execute_result"
    }
   ],
   "source": [
    "l1_num"
   ]
  },
  {
   "cell_type": "code",
   "execution_count": 91,
   "id": "27cef611-b63c-4929-845d-51b1e8b34302",
   "metadata": {},
   "outputs": [
    {
     "data": {
      "text/plain": [
       "['hemna', 'mr.patel', 'hello']"
      ]
     },
     "execution_count": 91,
     "metadata": {},
     "output_type": "execute_result"
    }
   ],
   "source": [
    "l2_str"
   ]
  },
  {
   "cell_type": "code",
   "execution_count": null,
   "id": "8f8464bd-05c5-4982-9ec7-5bd87e290aa6",
   "metadata": {},
   "outputs": [],
   "source": []
  }
 ],
 "metadata": {
  "kernelspec": {
   "display_name": "Python 3 (ipykernel)",
   "language": "python",
   "name": "python3"
  },
  "language_info": {
   "codemirror_mode": {
    "name": "ipython",
    "version": 3
   },
   "file_extension": ".py",
   "mimetype": "text/x-python",
   "name": "python",
   "nbconvert_exporter": "python",
   "pygments_lexer": "ipython3",
   "version": "3.10.8"
  }
 },
 "nbformat": 4,
 "nbformat_minor": 5
}
