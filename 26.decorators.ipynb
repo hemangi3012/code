{
 "cells": [
  {
   "cell_type": "code",
   "execution_count": 3,
   "id": "cbb36ef9-a16b-4c6a-a6a6-12a2b9899385",
   "metadata": {},
   "outputs": [],
   "source": [
    "def test():\n",
    "    print(\"this is the start of my fyn \")\n",
    "    print(\"this is my fun to test\")\n",
    "    print(9+6)\n",
    "    print(\"this is the end of my fun \")"
   ]
  },
  {
   "cell_type": "code",
   "execution_count": 4,
   "id": "8e3ec046-8fc5-41e1-958d-e944f3760182",
   "metadata": {},
   "outputs": [
    {
     "name": "stdout",
     "output_type": "stream",
     "text": [
      "this is the start of my fyn \n",
      "this is my fun to test\n",
      "15\n",
      "this is the end of my fun \n"
     ]
    }
   ],
   "source": [
    "test()"
   ]
  },
  {
   "cell_type": "code",
   "execution_count": 6,
   "id": "3f7f5583-2d8d-4339-a861-52d882701667",
   "metadata": {},
   "outputs": [],
   "source": [
    "def deco(func):\n",
    "    def inner_dec():\n",
    "        print(\"this is the start of my fyn \")\n",
    "        func()\n",
    "        print(\"this is the end of my fun\")\n",
    "    return inner_dec"
   ]
  },
  {
   "cell_type": "code",
   "execution_count": 9,
   "id": "be7f2250-c204-4902-8d59-e94b21e5f3e6",
   "metadata": {},
   "outputs": [],
   "source": [
    "@deco          ## test1 ko pass kr do deco funcation me \n",
    "def test1():\n",
    "    print(6+3)"
   ]
  },
  {
   "cell_type": "code",
   "execution_count": 10,
   "id": "1c083ff2-04fb-4ae8-ba82-9fd713fcfab1",
   "metadata": {},
   "outputs": [
    {
     "name": "stdout",
     "output_type": "stream",
     "text": [
      "this is the start of my fyn \n",
      "9\n",
      "this is the end of my fun\n"
     ]
    }
   ],
   "source": [
    "test1()"
   ]
  },
  {
   "cell_type": "code",
   "execution_count": 2,
   "id": "b1308180-56ea-4ec5-9ed8-81099651b266",
   "metadata": {},
   "outputs": [],
   "source": [
    "import time\n",
    "\n",
    "def timer_test(func):\n",
    "    def timer_test_inner():\n",
    "        start=time.time()\n",
    "        func()\n",
    "        end=time.time()\n",
    "        print(end-start)\n",
    "    return timer_test_inner"
   ]
  },
  {
   "cell_type": "code",
   "execution_count": 3,
   "id": "305817fd-6654-4514-9dd5-63650d321bfd",
   "metadata": {},
   "outputs": [],
   "source": [
    "def test2():\n",
    "    print(12+78)"
   ]
  },
  {
   "cell_type": "code",
   "execution_count": 4,
   "id": "9a92373f-1faf-4c63-8f85-cb9efecdc230",
   "metadata": {},
   "outputs": [
    {
     "name": "stdout",
     "output_type": "stream",
     "text": [
      "90\n"
     ]
    }
   ],
   "source": [
    "test2()"
   ]
  },
  {
   "cell_type": "code",
   "execution_count": 5,
   "id": "43c661f3-1e39-451e-a1ce-14d770eb1ba5",
   "metadata": {},
   "outputs": [],
   "source": [
    "@timer_test\n",
    "def test2():\n",
    "    print(12+78)"
   ]
  },
  {
   "cell_type": "code",
   "execution_count": 6,
   "id": "e685abd5-258b-4810-9cc7-445045460cff",
   "metadata": {},
   "outputs": [
    {
     "name": "stdout",
     "output_type": "stream",
     "text": [
      "90\n",
      "6.604194641113281e-05\n"
     ]
    }
   ],
   "source": [
    "test2()"
   ]
  },
  {
   "cell_type": "code",
   "execution_count": 7,
   "id": "f2071112-a726-4311-8547-ddddecbfb00f",
   "metadata": {},
   "outputs": [],
   "source": [
    "@timer_test\n",
    "def test3():\n",
    "    for i in range(100000000):\n",
    "        pass"
   ]
  },
  {
   "cell_type": "code",
   "execution_count": 8,
   "id": "374669e1-3765-4782-9a77-5db7c57550d7",
   "metadata": {},
   "outputs": [
    {
     "name": "stdout",
     "output_type": "stream",
     "text": [
      "2.118664026260376\n"
     ]
    }
   ],
   "source": [
    "test3()"
   ]
  },
  {
   "cell_type": "code",
   "execution_count": null,
   "id": "16ff1bd6-5559-4cd0-96ad-411fbb667d73",
   "metadata": {},
   "outputs": [],
   "source": []
  }
 ],
 "metadata": {
  "kernelspec": {
   "display_name": "Python 3 (ipykernel)",
   "language": "python",
   "name": "python3"
  },
  "language_info": {
   "codemirror_mode": {
    "name": "ipython",
    "version": 3
   },
   "file_extension": ".py",
   "mimetype": "text/x-python",
   "name": "python",
   "nbconvert_exporter": "python",
   "pygments_lexer": "ipython3",
   "version": "3.10.8"
  }
 },
 "nbformat": 4,
 "nbformat_minor": 5
}
