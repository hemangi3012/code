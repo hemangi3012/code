{
 "cells": [
  {
   "cell_type": "code",
   "execution_count": 1,
   "id": "f481f995-7c22-4572-9981-b1be42545939",
   "metadata": {},
   "outputs": [],
   "source": [
    "class test:\n",
    "    \n",
    "    def test_meth(self):\n",
    "        return \"this is my first class \""
   ]
  },
  {
   "cell_type": "code",
   "execution_count": 2,
   "id": "9afdbd85-d247-49c0-bdf2-1e2d38bb89fa",
   "metadata": {},
   "outputs": [],
   "source": [
    "class child_test(test):\n",
    "    pass"
   ]
  },
  {
   "cell_type": "code",
   "execution_count": 3,
   "id": "65e98ecb-b0cb-4e39-8b8e-083c729952ab",
   "metadata": {},
   "outputs": [],
   "source": [
    "child_test_obj = child_test()"
   ]
  },
  {
   "cell_type": "code",
   "execution_count": 4,
   "id": "8af9b547-5d22-476a-9e88-0d185d46e274",
   "metadata": {},
   "outputs": [
    {
     "data": {
      "text/plain": [
       "'this is my first class '"
      ]
     },
     "execution_count": 4,
     "metadata": {},
     "output_type": "execute_result"
    }
   ],
   "source": [
    "child_test_obj.test_meth()"
   ]
  },
  {
   "cell_type": "code",
   "execution_count": 9,
   "id": "60665c0f-f7be-4138-b3e2-a2900fffdbca",
   "metadata": {},
   "outputs": [],
   "source": [
    "class class1:\n",
    "    \n",
    "    def test_class1(self):\n",
    "        return \"this is a method from class1\""
   ]
  },
  {
   "cell_type": "code",
   "execution_count": 10,
   "id": "d89e17a7-b3df-48bf-91e4-ea75e09b02f5",
   "metadata": {},
   "outputs": [],
   "source": [
    "class class2(class1):\n",
    "    def test_class2(self):\n",
    "        return \"this is meth from class2\""
   ]
  },
  {
   "cell_type": "code",
   "execution_count": 15,
   "id": "ec10c3b5-d66c-45e2-853b-1f5a31464fa8",
   "metadata": {},
   "outputs": [],
   "source": [
    "class class3(class2):\n",
    "    \n",
    "    pass"
   ]
  },
  {
   "cell_type": "code",
   "execution_count": 16,
   "id": "6910a2ea-58bc-40db-af06-5c47e1b5ff5f",
   "metadata": {},
   "outputs": [],
   "source": [
    "obj_class3= class3()"
   ]
  },
  {
   "cell_type": "code",
   "execution_count": 17,
   "id": "503f02e2-e222-457d-95e2-c69243542f1a",
   "metadata": {},
   "outputs": [
    {
     "data": {
      "text/plain": [
       "'this is a method from class1'"
      ]
     },
     "execution_count": 17,
     "metadata": {},
     "output_type": "execute_result"
    }
   ],
   "source": [
    "obj_class3.test_class1()"
   ]
  },
  {
   "cell_type": "code",
   "execution_count": 18,
   "id": "0ddabc03-095d-4990-8b5b-e8eb09ad6a3d",
   "metadata": {},
   "outputs": [
    {
     "data": {
      "text/plain": [
       "'this is meth from class2'"
      ]
     },
     "execution_count": 18,
     "metadata": {},
     "output_type": "execute_result"
    }
   ],
   "source": [
    "obj_class3.test_class2()"
   ]
  },
  {
   "cell_type": "code",
   "execution_count": 19,
   "id": "6cc9912d-af4d-491c-b1aa-c0af1be5c57a",
   "metadata": {},
   "outputs": [],
   "source": [
    "class class1:\n",
    "    def test_class1(self):\n",
    "        return \"this is a class1\""
   ]
  },
  {
   "cell_type": "code",
   "execution_count": 20,
   "id": "4bd2ba68-0238-4f50-899b-c0ef4640e90c",
   "metadata": {},
   "outputs": [],
   "source": [
    "class class2:\n",
    "    def test_class2(self):\n",
    "        return \"this is class2\""
   ]
  },
  {
   "cell_type": "code",
   "execution_count": 23,
   "id": "7670b9a9-00da-4a74-957f-062b981ee23e",
   "metadata": {},
   "outputs": [],
   "source": [
    "class class3(class1,class2):\n",
    "    pass                                 ## multiple inheritance "
   ]
  },
  {
   "cell_type": "code",
   "execution_count": 24,
   "id": "87199a47-1e8f-49e0-9aec-b7acc1f20791",
   "metadata": {},
   "outputs": [],
   "source": [
    "obj_class3=class3()"
   ]
  },
  {
   "cell_type": "code",
   "execution_count": 25,
   "id": "4b9e0ce9-258b-4126-8f22-dbc81d7ab2f0",
   "metadata": {},
   "outputs": [
    {
     "data": {
      "text/plain": [
       "'this is a class1'"
      ]
     },
     "execution_count": 25,
     "metadata": {},
     "output_type": "execute_result"
    }
   ],
   "source": [
    "obj_class3.test_class1()"
   ]
  },
  {
   "cell_type": "code",
   "execution_count": 26,
   "id": "52fdf10a-f589-498a-a200-d3ef9a1211fc",
   "metadata": {},
   "outputs": [
    {
     "data": {
      "text/plain": [
       "'this is class2'"
      ]
     },
     "execution_count": 26,
     "metadata": {},
     "output_type": "execute_result"
    }
   ],
   "source": [
    "obj_class3.test_class2()"
   ]
  },
  {
   "cell_type": "code",
   "execution_count": null,
   "id": "3376a861-0793-4417-a22a-0b7f5be9be0e",
   "metadata": {},
   "outputs": [],
   "source": []
  }
 ],
 "metadata": {
  "kernelspec": {
   "display_name": "Python 3 (ipykernel)",
   "language": "python",
   "name": "python3"
  },
  "language_info": {
   "codemirror_mode": {
    "name": "ipython",
    "version": 3
   },
   "file_extension": ".py",
   "mimetype": "text/x-python",
   "name": "python",
   "nbconvert_exporter": "python",
   "pygments_lexer": "ipython3",
   "version": "3.10.8"
  }
 },
 "nbformat": 4,
 "nbformat_minor": 5
}
