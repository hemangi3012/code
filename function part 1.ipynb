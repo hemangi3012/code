{
 "cells": [
  {
   "cell_type": "markdown",
   "id": "0e7f4d72-4987-423b-9eb0-cdf0bd68a9a5",
   "metadata": {},
   "source": [
    "###################### in-built function [print(),type(),min(),max(),] ############"
   ]
  },
  {
   "cell_type": "code",
   "execution_count": 1,
   "id": "84aa6cc6-df7a-45ac-ae43-4eae8db192ba",
   "metadata": {},
   "outputs": [
    {
     "name": "stdout",
     "output_type": "stream",
     "text": [
      "hello my name is hemangi\n"
     ]
    }
   ],
   "source": [
    "print(\"hello my name is hemangi\")"
   ]
  },
  {
   "cell_type": "code",
   "execution_count": 2,
   "id": "374e66f7-7d73-493a-8739-20a68a78bd70",
   "metadata": {},
   "outputs": [],
   "source": [
    "l=[1,2,3,4,5,6,6,7,8,8,34,9,999]"
   ]
  },
  {
   "cell_type": "code",
   "execution_count": 3,
   "id": "7135da74-2715-495e-b6ad-c07ce02c06c5",
   "metadata": {},
   "outputs": [
    {
     "data": {
      "text/plain": [
       "13"
      ]
     },
     "execution_count": 3,
     "metadata": {},
     "output_type": "execute_result"
    }
   ],
   "source": [
    "len(l)"
   ]
  },
  {
   "cell_type": "code",
   "execution_count": 4,
   "id": "9c98405c-a2ab-4a04-996e-bda38f00dbd8",
   "metadata": {},
   "outputs": [
    {
     "data": {
      "text/plain": [
       "list"
      ]
     },
     "execution_count": 4,
     "metadata": {},
     "output_type": "execute_result"
    }
   ],
   "source": [
    "type(l)                            ## function reuseability ko use karta heee "
   ]
  },
  {
   "cell_type": "code",
   "execution_count": 5,
   "id": "5480eb58-2d66-45b2-b8e2-5d2d7f0926eb",
   "metadata": {},
   "outputs": [],
   "source": [
    "def test():\n",
    "    pass"
   ]
  },
  {
   "cell_type": "code",
   "execution_count": 6,
   "id": "6179473a-2d5c-4a21-82a1-6457d0a052d6",
   "metadata": {},
   "outputs": [],
   "source": [
    "def test1():\n",
    "    print(\"this is my very very fisrt function\")"
   ]
  },
  {
   "cell_type": "code",
   "execution_count": 7,
   "id": "33b704cf-ca9f-4055-9835-1ee3f6c4b8d2",
   "metadata": {},
   "outputs": [
    {
     "data": {
      "text/plain": [
       "<function __main__.test1()>"
      ]
     },
     "execution_count": 7,
     "metadata": {},
     "output_type": "execute_result"
    }
   ],
   "source": [
    "test1           ## () must requier "
   ]
  },
  {
   "cell_type": "code",
   "execution_count": 8,
   "id": "bb492eec-040a-4a7a-aa98-edbc1e384a23",
   "metadata": {},
   "outputs": [],
   "source": [
    "test()"
   ]
  },
  {
   "cell_type": "code",
   "execution_count": 9,
   "id": "7009fd04-0f5f-489d-acd3-c797d52bd565",
   "metadata": {},
   "outputs": [
    {
     "name": "stdout",
     "output_type": "stream",
     "text": [
      "this is my very very fisrt function\n"
     ]
    }
   ],
   "source": [
    "test1() "
   ]
  },
  {
   "cell_type": "code",
   "execution_count": 11,
   "id": "cc9145a8-d97c-4604-8916-670aa5096e2c",
   "metadata": {},
   "outputs": [
    {
     "ename": "TypeError",
     "evalue": "unsupported operand type(s) for +: 'NoneType' and 'str'",
     "output_type": "error",
     "traceback": [
      "\u001b[0;31m---------------------------------------------------------------------------\u001b[0m",
      "\u001b[0;31mTypeError\u001b[0m                                 Traceback (most recent call last)",
      "Cell \u001b[0;32mIn[11], line 1\u001b[0m\n\u001b[0;32m----> 1\u001b[0m \u001b[43mtest\u001b[49m\u001b[43m(\u001b[49m\u001b[43m)\u001b[49m\u001b[43m \u001b[49m\u001b[38;5;241;43m+\u001b[39;49m\u001b[43m \u001b[49m\u001b[38;5;124;43m\"\u001b[39;49m\u001b[38;5;124;43mhema\u001b[39;49m\u001b[38;5;124;43m\"\u001b[39;49m        \u001b[38;5;66;03m## print data type wise nontype return karta he , so nontype ke sath string ka concate nahi kr sakte \u001b[39;00m\n",
      "\u001b[0;31mTypeError\u001b[0m: unsupported operand type(s) for +: 'NoneType' and 'str'"
     ]
    }
   ],
   "source": [
    "test() + \"hema\"        ## print data type wise nontype return karta he , so nontype ke sath string ka concate nahi kr sakte "
   ]
  },
  {
   "cell_type": "code",
   "execution_count": 15,
   "id": "3c50e335-c2f8-4685-95f2-1e9114bcf17a",
   "metadata": {},
   "outputs": [],
   "source": [
    "def test2():\n",
    "    return \"this is my very first return \""
   ]
  },
  {
   "cell_type": "code",
   "execution_count": 16,
   "id": "8ec03584-b098-44c0-9bb7-1f45c59aab91",
   "metadata": {},
   "outputs": [
    {
     "data": {
      "text/plain": [
       "'this is my very first return '"
      ]
     },
     "execution_count": 16,
     "metadata": {},
     "output_type": "execute_result"
    }
   ],
   "source": [
    "test2()"
   ]
  },
  {
   "cell_type": "code",
   "execution_count": 17,
   "id": "2b63f153-42e3-4ec8-869b-b81cbe042eff",
   "metadata": {},
   "outputs": [
    {
     "data": {
      "text/plain": [
       "'this is my very first return hemangi'"
      ]
     },
     "execution_count": 17,
     "metadata": {},
     "output_type": "execute_result"
    }
   ],
   "source": [
    "test2() + \"hemangi\""
   ]
  },
  {
   "cell_type": "code",
   "execution_count": 18,
   "id": "22d4311e-1258-4d3a-a660-2200fb48fdd5",
   "metadata": {},
   "outputs": [],
   "source": [
    "def test3() :\n",
    "    return \"hemangi\" ,332 ,63.258,[1,2,3,4,5,67,8,9]"
   ]
  },
  {
   "cell_type": "code",
   "execution_count": 19,
   "id": "5a9290cd-1e05-439a-88bf-8fe076574854",
   "metadata": {},
   "outputs": [
    {
     "data": {
      "text/plain": [
       "('hemangi', 332, 63.258, [1, 2, 3, 4, 5, 67, 8, 9])"
      ]
     },
     "execution_count": 19,
     "metadata": {},
     "output_type": "execute_result"
    }
   ],
   "source": [
    "test3()"
   ]
  },
  {
   "cell_type": "code",
   "execution_count": 20,
   "id": "5aa09bbb-2844-437d-8590-e458a80291fa",
   "metadata": {},
   "outputs": [],
   "source": [
    "a,s,d,v = test3()"
   ]
  },
  {
   "cell_type": "code",
   "execution_count": 21,
   "id": "8dfa122c-c953-4bf9-8b13-7e3768cceb17",
   "metadata": {},
   "outputs": [
    {
     "data": {
      "text/plain": [
       "'hemangi'"
      ]
     },
     "execution_count": 21,
     "metadata": {},
     "output_type": "execute_result"
    }
   ],
   "source": [
    "a"
   ]
  },
  {
   "cell_type": "code",
   "execution_count": 22,
   "id": "80dcef70-d337-4327-b712-8e10152bc354",
   "metadata": {},
   "outputs": [
    {
     "data": {
      "text/plain": [
       "332"
      ]
     },
     "execution_count": 22,
     "metadata": {},
     "output_type": "execute_result"
    }
   ],
   "source": [
    "s"
   ]
  },
  {
   "cell_type": "code",
   "execution_count": 23,
   "id": "6ad9b5f5-4f1a-49be-a392-4fd54316b9a6",
   "metadata": {},
   "outputs": [
    {
     "data": {
      "text/plain": [
       "63.258"
      ]
     },
     "execution_count": 23,
     "metadata": {},
     "output_type": "execute_result"
    }
   ],
   "source": [
    "d"
   ]
  },
  {
   "cell_type": "code",
   "execution_count": 24,
   "id": "cda5d0de-eb18-4716-a38d-20a768df5179",
   "metadata": {},
   "outputs": [
    {
     "data": {
      "text/plain": [
       "[1, 2, 3, 4, 5, 67, 8, 9]"
      ]
     },
     "execution_count": 24,
     "metadata": {},
     "output_type": "execute_result"
    }
   ],
   "source": [
    "v"
   ]
  },
  {
   "cell_type": "code",
   "execution_count": 25,
   "id": "5fe61a27-dc0b-4a33-a220-9790d1d04763",
   "metadata": {},
   "outputs": [],
   "source": [
    "a=1\n",
    "b=10"
   ]
  },
  {
   "cell_type": "code",
   "execution_count": 26,
   "id": "2c68de65-2c7d-4379-9352-62be8a2faad1",
   "metadata": {},
   "outputs": [],
   "source": [
    "a,b=1,10         ## same "
   ]
  },
  {
   "cell_type": "code",
   "execution_count": 27,
   "id": "b8da7e14-3b09-418f-afa6-257514fdfb57",
   "metadata": {},
   "outputs": [],
   "source": [
    "def test4():\n",
    "    a = 5+6/7\n",
    "    return a"
   ]
  },
  {
   "cell_type": "code",
   "execution_count": 28,
   "id": "3bc1f65d-ade5-40e7-a7b4-433f1f6eee7c",
   "metadata": {},
   "outputs": [
    {
     "data": {
      "text/plain": [
       "5.857142857142857"
      ]
     },
     "execution_count": 28,
     "metadata": {},
     "output_type": "execute_result"
    }
   ],
   "source": [
    "test4()"
   ]
  },
  {
   "cell_type": "code",
   "execution_count": 29,
   "id": "d47bb5c9-b151-479f-80f1-ccd841eb7e0b",
   "metadata": {},
   "outputs": [],
   "source": [
    "def test5(a,b,c):             ## with argument with return \n",
    "    d=a+b/c\n",
    "    return d\n",
    "    "
   ]
  },
  {
   "cell_type": "code",
   "execution_count": 30,
   "id": "1704eb95-ef4c-4776-b022-4882dad39c83",
   "metadata": {},
   "outputs": [
    {
     "ename": "TypeError",
     "evalue": "test5() missing 3 required positional arguments: 'a', 'b', and 'c'",
     "output_type": "error",
     "traceback": [
      "\u001b[0;31m---------------------------------------------------------------------------\u001b[0m",
      "\u001b[0;31mTypeError\u001b[0m                                 Traceback (most recent call last)",
      "Cell \u001b[0;32mIn[30], line 1\u001b[0m\n\u001b[0;32m----> 1\u001b[0m \u001b[43mtest5\u001b[49m\u001b[43m(\u001b[49m\u001b[43m)\u001b[49m\n",
      "\u001b[0;31mTypeError\u001b[0m: test5() missing 3 required positional arguments: 'a', 'b', and 'c'"
     ]
    }
   ],
   "source": [
    "test5()"
   ]
  },
  {
   "cell_type": "code",
   "execution_count": 31,
   "id": "5e094822-c034-415a-a913-e08fed1630ad",
   "metadata": {},
   "outputs": [
    {
     "data": {
      "text/plain": [
       "17.0"
      ]
     },
     "execution_count": 31,
     "metadata": {},
     "output_type": "execute_result"
    }
   ],
   "source": [
    "test5(12,10,2)"
   ]
  },
  {
   "cell_type": "code",
   "execution_count": 32,
   "id": "da62b17b-ae7c-4efe-880d-54a4ccd17f37",
   "metadata": {},
   "outputs": [],
   "source": [
    "def test6(a,b):\n",
    "    return a+b"
   ]
  },
  {
   "cell_type": "code",
   "execution_count": 33,
   "id": "49c7c55d-5a2e-482d-96d5-e1d437977944",
   "metadata": {},
   "outputs": [
    {
     "data": {
      "text/plain": [
       "44"
      ]
     },
     "execution_count": 33,
     "metadata": {},
     "output_type": "execute_result"
    }
   ],
   "source": [
    "test6(10,34)"
   ]
  },
  {
   "cell_type": "code",
   "execution_count": 35,
   "id": "240af3cf-81ad-402b-bcd5-c25776739878",
   "metadata": {},
   "outputs": [
    {
     "data": {
      "text/plain": [
       "' hemangi  hello '"
      ]
     },
     "execution_count": 35,
     "metadata": {},
     "output_type": "execute_result"
    }
   ],
   "source": [
    "test6(\" hemangi \",\" hello \")"
   ]
  },
  {
   "cell_type": "code",
   "execution_count": 36,
   "id": "1925563d-2b36-4ae5-bcd7-f0a37df825a6",
   "metadata": {},
   "outputs": [
    {
     "data": {
      "text/plain": [
       "[1, 2, 3, 4, 33, 55, 77, 88]"
      ]
     },
     "execution_count": 36,
     "metadata": {},
     "output_type": "execute_result"
    }
   ],
   "source": [
    "test6([1,2,3,4] , [33,55,77,88])"
   ]
  },
  {
   "cell_type": "code",
   "execution_count": 1,
   "id": "32ee2e17-1085-4b3c-86a7-95a5cd5e6805",
   "metadata": {},
   "outputs": [],
   "source": [
    "l = [1,2,3,4,\"sudhanshu\",\"kumar\",[1,2,3,4,5,67,8,9]]"
   ]
  },
  {
   "cell_type": "code",
   "execution_count": 2,
   "id": "c6e6790d-8ad1-4a32-ab5f-83dbb7189f62",
   "metadata": {},
   "outputs": [
    {
     "data": {
      "text/plain": [
       "[1, 2, 3, 4, 'sudhanshu', 'kumar', [1, 2, 3, 4, 5, 67, 8, 9]]"
      ]
     },
     "execution_count": 2,
     "metadata": {},
     "output_type": "execute_result"
    }
   ],
   "source": [
    "l"
   ]
  },
  {
   "cell_type": "code",
   "execution_count": 3,
   "id": "e7c85a56-f887-4aa7-be18-de7bd057f450",
   "metadata": {},
   "outputs": [
    {
     "data": {
      "text/plain": [
       "[1, 2, 3, 4]"
      ]
     },
     "execution_count": 3,
     "metadata": {},
     "output_type": "execute_result"
    }
   ],
   "source": [
    "l1 =[]\n",
    "for i in l:\n",
    "    if type(i)==int or type(i) == float:\n",
    "        l1.append(i)\n",
    "l1"
   ]
  },
  {
   "cell_type": "code",
   "execution_count": 9,
   "id": "3544e470-4dce-496a-acbc-6142e68e727c",
   "metadata": {},
   "outputs": [],
   "source": [
    "def test7(l):\n",
    "    l1 =[]\n",
    "    for i in l:\n",
    "        if type(i) == int or type(i) == float:\n",
    "            l1.append(i)\n",
    "        return l1"
   ]
  },
  {
   "cell_type": "code",
   "execution_count": 10,
   "id": "11fbd499-1149-4937-88b7-b5766c659ef4",
   "metadata": {},
   "outputs": [
    {
     "data": {
      "text/plain": [
       "[1]"
      ]
     },
     "execution_count": 10,
     "metadata": {},
     "output_type": "execute_result"
    }
   ],
   "source": [
    "test7(l)"
   ]
  },
  {
   "cell_type": "code",
   "execution_count": 11,
   "id": "3a2659d4-8c1f-40a3-89a4-21db3629b910",
   "metadata": {},
   "outputs": [
    {
     "data": {
      "text/plain": [
       "[1, 2, 3, 4, 'sudhanshu', 'kumar', [1, 2, 3, 4, 5, 67, 8, 9]]"
      ]
     },
     "execution_count": 11,
     "metadata": {},
     "output_type": "execute_result"
    }
   ],
   "source": [
    "l"
   ]
  },
  {
   "cell_type": "code",
   "execution_count": 12,
   "id": "7401745b-a188-4f59-ba0a-5983d5705973",
   "metadata": {},
   "outputs": [],
   "source": [
    "l = [1,2,3,4,\"sudhanshu\",\"kumar\",[1,2,3,4,5,67,8,9]]"
   ]
  },
  {
   "cell_type": "code",
   "execution_count": 13,
   "id": "4565ec6d-aa2d-46f0-97ec-3c629c9e5e50",
   "metadata": {},
   "outputs": [
    {
     "data": {
      "text/plain": [
       "[1, 2, 3, 4, 'sudhanshu', 'kumar', [1, 2, 3, 4, 5, 67, 8, 9]]"
      ]
     },
     "execution_count": 13,
     "metadata": {},
     "output_type": "execute_result"
    }
   ],
   "source": [
    "l"
   ]
  },
  {
   "cell_type": "code",
   "execution_count": 14,
   "id": "2ad849ef-70b8-42fe-9473-ff7c42d8de10",
   "metadata": {},
   "outputs": [],
   "source": [
    "def test8(a):\n",
    "    l=[]\n",
    "    for i in a :\n",
    "        if type(i) == list :\n",
    "            for j in i:\n",
    "                l.append(j)\n",
    "        else:\n",
    "            if type(i) == int or type(i) ==float:\n",
    "                l.append(i)\n",
    "    return l"
   ]
  },
  {
   "cell_type": "code",
   "execution_count": 15,
   "id": "01d1937a-9cc5-4c94-b404-59b09295bab0",
   "metadata": {},
   "outputs": [
    {
     "data": {
      "text/plain": [
       "[1, 2, 3, 4, 1, 2, 3, 4, 5, 67, 8, 9]"
      ]
     },
     "execution_count": 15,
     "metadata": {},
     "output_type": "execute_result"
    }
   ],
   "source": [
    "test8(l)"
   ]
  },
  {
   "cell_type": "code",
   "execution_count": 17,
   "id": "ca49a30f-1fb6-4083-8f9a-0f904466a158",
   "metadata": {},
   "outputs": [],
   "source": [
    "def test9(a):\n",
    "    \"\"\" this is my function to extract num data form list \"\"\" # docstring \n",
    "    l=[]\n",
    "    for i in a :\n",
    "        if type(i) == list :\n",
    "            for j in i:\n",
    "                l.append(j)\n",
    "        else:\n",
    "            if type(i) == int or type(i) ==float:\n",
    "                l.append(i)\n",
    "    return l"
   ]
  },
  {
   "cell_type": "code",
   "execution_count": 18,
   "id": "99fdd4cd-d4b7-4021-9ad9-6eb6b2158ee1",
   "metadata": {},
   "outputs": [
    {
     "ename": "TypeError",
     "evalue": "test9() missing 1 required positional argument: 'a'",
     "output_type": "error",
     "traceback": [
      "\u001b[0;31m---------------------------------------------------------------------------\u001b[0m",
      "\u001b[0;31mTypeError\u001b[0m                                 Traceback (most recent call last)",
      "Cell \u001b[0;32mIn[18], line 1\u001b[0m\n\u001b[0;32m----> 1\u001b[0m \u001b[43mtest9\u001b[49m\u001b[43m(\u001b[49m\u001b[43m)\u001b[49m\n",
      "\u001b[0;31mTypeError\u001b[0m: test9() missing 1 required positional argument: 'a'"
     ]
    }
   ],
   "source": [
    "test9()"
   ]
  },
  {
   "cell_type": "code",
   "execution_count": 19,
   "id": "db8bc0af-a977-40e3-a5d6-453392dbf1a3",
   "metadata": {},
   "outputs": [],
   "source": [
    "def test10(a,b):\n",
    "    return a+b"
   ]
  },
  {
   "cell_type": "code",
   "execution_count": 20,
   "id": "d92a25e5-d507-47a4-85d5-d9826496be11",
   "metadata": {},
   "outputs": [
    {
     "data": {
      "text/plain": [
       "121"
      ]
     },
     "execution_count": 20,
     "metadata": {},
     "output_type": "execute_result"
    }
   ],
   "source": [
    "test10(111,10)"
   ]
  },
  {
   "cell_type": "code",
   "execution_count": 22,
   "id": "feee1b64-ee5f-445d-8312-93d460c70c50",
   "metadata": {},
   "outputs": [],
   "source": [
    "def test11(*args):   ## astrick means n no . of argument you can pass in a function    \n",
    "    return args"
   ]
  },
  {
   "cell_type": "code",
   "execution_count": 23,
   "id": "69543e01-81c3-4410-9fa9-ecac6775a6d1",
   "metadata": {},
   "outputs": [
    {
     "data": {
      "text/plain": [
       "tuple"
      ]
     },
     "execution_count": 23,
     "metadata": {},
     "output_type": "execute_result"
    }
   ],
   "source": [
    "type(test11())"
   ]
  },
  {
   "cell_type": "code",
   "execution_count": 24,
   "id": "d8558121-f01a-4b0e-9532-6adf79ddd8b1",
   "metadata": {},
   "outputs": [
    {
     "data": {
      "text/plain": [
       "(1, 2, 3, 4, 5)"
      ]
     },
     "execution_count": 24,
     "metadata": {},
     "output_type": "execute_result"
    }
   ],
   "source": [
    "test11(1,2,3,4,5)"
   ]
  },
  {
   "cell_type": "code",
   "execution_count": 25,
   "id": "65c431f8-8d8c-437b-a18e-11b4167d8ac8",
   "metadata": {},
   "outputs": [
    {
     "data": {
      "text/plain": [
       "(1, 2, 34, 'heman', 'helo', [1, 2, 44])"
      ]
     },
     "execution_count": 25,
     "metadata": {},
     "output_type": "execute_result"
    }
   ],
   "source": [
    "test11(1,2,34,\"heman\",\"helo\",[1,2,44])"
   ]
  },
  {
   "cell_type": "code",
   "execution_count": 28,
   "id": "fb4587f4-f6f4-4705-8e60-5d4c04c2a770",
   "metadata": {},
   "outputs": [],
   "source": [
    "def test12(*hema):   ## astrick means n no . of argument you can pass in a function   (args) koi key nahi he kai pn lai skay .... \n",
    "    return hema "
   ]
  },
  {
   "cell_type": "code",
   "execution_count": 29,
   "id": "08b9f523-e07d-4693-bac9-13e8baf2b405",
   "metadata": {},
   "outputs": [
    {
     "data": {
      "text/plain": [
       "(1, 2, 4, 'hello', 'female')"
      ]
     },
     "execution_count": 29,
     "metadata": {},
     "output_type": "execute_result"
    }
   ],
   "source": [
    "test12(1,2,4,\"hello\",\"female\")"
   ]
  },
  {
   "cell_type": "code",
   "execution_count": 30,
   "id": "1651dc01-22b3-4ce7-9598-e8fe6e6f93f7",
   "metadata": {},
   "outputs": [],
   "source": [
    "def test13(*args,a):\n",
    "    return args , a"
   ]
  },
  {
   "cell_type": "code",
   "execution_count": 31,
   "id": "0cdabe61-ba91-43a4-8ae4-3ff2ec9c1815",
   "metadata": {},
   "outputs": [
    {
     "ename": "TypeError",
     "evalue": "test13() missing 1 required keyword-only argument: 'a'",
     "output_type": "error",
     "traceback": [
      "\u001b[0;31m---------------------------------------------------------------------------\u001b[0m",
      "\u001b[0;31mTypeError\u001b[0m                                 Traceback (most recent call last)",
      "Cell \u001b[0;32mIn[31], line 1\u001b[0m\n\u001b[0;32m----> 1\u001b[0m \u001b[43mtest13\u001b[49m\u001b[43m(\u001b[49m\u001b[38;5;241;43m1\u001b[39;49m\u001b[43m,\u001b[49m\u001b[38;5;241;43m2\u001b[39;49m\u001b[43m,\u001b[49m\u001b[38;5;241;43m3\u001b[39;49m\u001b[43m,\u001b[49m\u001b[38;5;241;43m4\u001b[39;49m\u001b[43m,\u001b[49m\u001b[38;5;241;43m5\u001b[39;49m\u001b[43m,\u001b[49m\u001b[38;5;241;43m66\u001b[39;49m\u001b[43m)\u001b[49m\n",
      "\u001b[0;31mTypeError\u001b[0m: test13() missing 1 required keyword-only argument: 'a'"
     ]
    }
   ],
   "source": [
    "test13(1,2,3,4,5,66)"
   ]
  },
  {
   "cell_type": "code",
   "execution_count": 32,
   "id": "41b3a55e-e0ec-4f53-b4ab-e3c5b29ab661",
   "metadata": {},
   "outputs": [
    {
     "data": {
      "text/plain": [
       "((1, 2, 3, 4, 5, 66), 999)"
      ]
     },
     "execution_count": 32,
     "metadata": {},
     "output_type": "execute_result"
    }
   ],
   "source": [
    "test13(1,2,3,4,5,66,a=999)"
   ]
  },
  {
   "cell_type": "code",
   "execution_count": 33,
   "id": "d1938a44-9f99-49a7-a5f9-87f1f0323568",
   "metadata": {},
   "outputs": [
    {
     "ename": "SyntaxError",
     "evalue": "non-default argument follows default argument (867418063.py, line 1)",
     "output_type": "error",
     "traceback": [
      "\u001b[0;36m  Cell \u001b[0;32mIn[33], line 1\u001b[0;36m\u001b[0m\n\u001b[0;31m    def test14(a=23,b=1,c,d):\u001b[0m\n\u001b[0m                        ^\u001b[0m\n\u001b[0;31mSyntaxError\u001b[0m\u001b[0;31m:\u001b[0m non-default argument follows default argument\n"
     ]
    }
   ],
   "source": [
    "def test14(a=23,b=1,c,d):\n",
    "    return a,b,c,d"
   ]
  },
  {
   "cell_type": "code",
   "execution_count": 34,
   "id": "2103f483-22f9-4c09-82c8-d00fb9f482be",
   "metadata": {},
   "outputs": [],
   "source": [
    "def test14(c,d,a=23,b=1):\n",
    "    return a,b,c,d"
   ]
  },
  {
   "cell_type": "code",
   "execution_count": 35,
   "id": "bd1af9cb-390b-4cc8-974a-c5af3831dd43",
   "metadata": {},
   "outputs": [
    {
     "ename": "TypeError",
     "evalue": "test14() missing 2 required positional arguments: 'c' and 'd'",
     "output_type": "error",
     "traceback": [
      "\u001b[0;31m---------------------------------------------------------------------------\u001b[0m",
      "\u001b[0;31mTypeError\u001b[0m                                 Traceback (most recent call last)",
      "Cell \u001b[0;32mIn[35], line 1\u001b[0m\n\u001b[0;32m----> 1\u001b[0m \u001b[43mtest14\u001b[49m\u001b[43m(\u001b[49m\u001b[43m)\u001b[49m\n",
      "\u001b[0;31mTypeError\u001b[0m: test14() missing 2 required positional arguments: 'c' and 'd'"
     ]
    }
   ],
   "source": [
    "test14()"
   ]
  },
  {
   "cell_type": "code",
   "execution_count": 37,
   "id": "ba6bb80f-6a5c-429e-813e-cefec7526d5a",
   "metadata": {},
   "outputs": [
    {
     "data": {
      "text/plain": [
       "(23, 1, 12, 45)"
      ]
     },
     "execution_count": 37,
     "metadata": {},
     "output_type": "execute_result"
    }
   ],
   "source": [
    "test14(12,45)        # valure of c and d "
   ]
  },
  {
   "cell_type": "code",
   "execution_count": 39,
   "id": "10acfe49-ba49-4c69-b68a-b7a663f37c36",
   "metadata": {},
   "outputs": [
    {
     "data": {
      "text/plain": [
       "(65748, 1, 2, 5)"
      ]
     },
     "execution_count": 39,
     "metadata": {},
     "output_type": "execute_result"
    }
   ],
   "source": [
    "test14(2,5,a=65748)  ## a ni value change kri skay jo default hoi tyare parameter ni value le "
   ]
  },
  {
   "cell_type": "code",
   "execution_count": 40,
   "id": "4e967429-4e0b-4886-b642-40bb89e77440",
   "metadata": {},
   "outputs": [],
   "source": [
    "def test15(**kwargs):\n",
    "    return kwargs"
   ]
  },
  {
   "cell_type": "code",
   "execution_count": 41,
   "id": "ee6620ea-c6f4-497f-8be6-d7f23fcf6765",
   "metadata": {},
   "outputs": [
    {
     "data": {
      "text/plain": [
       "{}"
      ]
     },
     "execution_count": 41,
     "metadata": {},
     "output_type": "execute_result"
    }
   ],
   "source": [
    "test15()"
   ]
  },
  {
   "cell_type": "code",
   "execution_count": 42,
   "id": "29c14bb2-ac5f-4061-b630-f43836aa6285",
   "metadata": {},
   "outputs": [
    {
     "data": {
      "text/plain": [
       "dict"
      ]
     },
     "execution_count": 42,
     "metadata": {},
     "output_type": "execute_result"
    }
   ],
   "source": [
    "type(test15())"
   ]
  },
  {
   "cell_type": "code",
   "execution_count": 43,
   "id": "d306a231-717b-40dc-a243-736165cf1104",
   "metadata": {},
   "outputs": [
    {
     "data": {
      "text/plain": [
       "{'a': [1, 2, 3, 4, 5], 'b': 'hema', 'c': 23.45}"
      ]
     },
     "execution_count": 43,
     "metadata": {},
     "output_type": "execute_result"
    }
   ],
   "source": [
    "test15(a=[1,2,3,4,5],b=\"hema\",c=23.45)"
   ]
  },
  {
   "cell_type": "code",
   "execution_count": null,
   "id": "e6ad1e2c-6472-402d-8f1e-056702f394e5",
   "metadata": {},
   "outputs": [],
   "source": [
    " aa"
   ]
  }
 ],
 "metadata": {
  "kernelspec": {
   "display_name": "Python 3 (ipykernel)",
   "language": "python",
   "name": "python3"
  },
  "language_info": {
   "codemirror_mode": {
    "name": "ipython",
    "version": 3
   },
   "file_extension": ".py",
   "mimetype": "text/x-python",
   "name": "python",
   "nbconvert_exporter": "python",
   "pygments_lexer": "ipython3",
   "version": "3.10.8"
  }
 },
 "nbformat": 4,
 "nbformat_minor": 5
}
