{
 "cells": [
  {
   "cell_type": "code",
   "execution_count": 6,
   "id": "3098d645-c89d-48bc-9cf5-040d164c8a73",
   "metadata": {},
   "outputs": [],
   "source": [
    "class pwskill:\n",
    "    def __init__ (self,name,email):\n",
    "        self.name=name\n",
    "        self.email=email\n",
    "    def students_details(self):\n",
    "        print(self.name,self.email)"
   ]
  },
  {
   "cell_type": "code",
   "execution_count": 7,
   "id": "51c00bcb-31ed-4cdf-b085-b69c71fc28a4",
   "metadata": {},
   "outputs": [],
   "source": [
    "pw=pwskill(\"hema\",\"vaghasiya@123gmail.com\")"
   ]
  },
  {
   "cell_type": "code",
   "execution_count": 8,
   "id": "7de7dc97-1879-4d68-b18c-445a3f1d9c21",
   "metadata": {},
   "outputs": [
    {
     "data": {
      "text/plain": [
       "'hema'"
      ]
     },
     "execution_count": 8,
     "metadata": {},
     "output_type": "execute_result"
    }
   ],
   "source": [
    "pw.name"
   ]
  },
  {
   "cell_type": "code",
   "execution_count": 9,
   "id": "df1db107-0885-4d7c-a19a-011b2b32b351",
   "metadata": {},
   "outputs": [
    {
     "data": {
      "text/plain": [
       "'vaghasiya@123gmail.com'"
      ]
     },
     "execution_count": 9,
     "metadata": {},
     "output_type": "execute_result"
    }
   ],
   "source": [
    "pw.email"
   ]
  },
  {
   "cell_type": "code",
   "execution_count": 10,
   "id": "f651e2a8-63bb-4c55-98ec-0f9e9894667b",
   "metadata": {},
   "outputs": [
    {
     "name": "stdout",
     "output_type": "stream",
     "text": [
      "hema vaghasiya@123gmail.com\n"
     ]
    }
   ],
   "source": [
    "pw.students_details()"
   ]
  },
  {
   "cell_type": "code",
   "execution_count": 45,
   "id": "99eebed9-60df-4a5b-a945-11c16473e8e9",
   "metadata": {},
   "outputs": [],
   "source": [
    "class pwskill1:\n",
    "    def __init__ (self,name,email):\n",
    "        self.name=name\n",
    "        self.email=email\n",
    "    @classmethod   \n",
    "    def details(cls,name,email):\n",
    "        return cls(name,email)\n",
    "    def students_details(self):\n",
    "        print(self.name,self.email)"
   ]
  },
  {
   "cell_type": "code",
   "execution_count": 46,
   "id": "e16ad28e-c187-4612-8611-20c15e7b1313",
   "metadata": {},
   "outputs": [
    {
     "ename": "TypeError",
     "evalue": "pwskill1.details() missing 2 required positional arguments: 'name' and 'email'",
     "output_type": "error",
     "traceback": [
      "\u001b[0;31m---------------------------------------------------------------------------\u001b[0m",
      "\u001b[0;31mTypeError\u001b[0m                                 Traceback (most recent call last)",
      "Cell \u001b[0;32mIn[46], line 1\u001b[0m\n\u001b[0;32m----> 1\u001b[0m \u001b[43mpwskill1\u001b[49m\u001b[38;5;241;43m.\u001b[39;49m\u001b[43mdetails\u001b[49m\u001b[43m(\u001b[49m\u001b[43m)\u001b[49m\n",
      "\u001b[0;31mTypeError\u001b[0m: pwskill1.details() missing 2 required positional arguments: 'name' and 'email'"
     ]
    }
   ],
   "source": [
    "pwskill1.details()"
   ]
  },
  {
   "cell_type": "code",
   "execution_count": 47,
   "id": "24a7bff0-351f-411d-921b-7cee4f7585b9",
   "metadata": {},
   "outputs": [
    {
     "data": {
      "text/plain": [
       "<__main__.pwskill1 at 0x7fa268434ca0>"
      ]
     },
     "execution_count": 47,
     "metadata": {},
     "output_type": "execute_result"
    }
   ],
   "source": [
    "pwskill1.details(\"hema\",\"ghgdckSJsdhL\")"
   ]
  },
  {
   "cell_type": "code",
   "execution_count": 48,
   "id": "3e713079-eddc-4374-8366-e9a5915552bd",
   "metadata": {},
   "outputs": [],
   "source": [
    "pw1=pwskill1.details(\"hema\",\"ghgdckSJsdhL\")"
   ]
  },
  {
   "cell_type": "code",
   "execution_count": 49,
   "id": "cd6c9928-14b7-4391-9d0a-e7ccd49aab38",
   "metadata": {},
   "outputs": [
    {
     "data": {
      "text/plain": [
       "'hema'"
      ]
     },
     "execution_count": 49,
     "metadata": {},
     "output_type": "execute_result"
    }
   ],
   "source": [
    "pw1.name"
   ]
  },
  {
   "cell_type": "code",
   "execution_count": 50,
   "id": "8ad78d4f-ac26-4730-89fd-696f266b75c6",
   "metadata": {},
   "outputs": [
    {
     "data": {
      "text/plain": [
       "'ghgdckSJsdhL'"
      ]
     },
     "execution_count": 50,
     "metadata": {},
     "output_type": "execute_result"
    }
   ],
   "source": [
    "pw1.email"
   ]
  },
  {
   "cell_type": "code",
   "execution_count": 57,
   "id": "4d61539f-8058-4d47-9155-0a354974cd6b",
   "metadata": {},
   "outputs": [],
   "source": [
    "class pwskill2:\n",
    "    \n",
    "    mo_no=6353115351\n",
    "    \n",
    "    def __init__ (self,name,email):\n",
    "        self.name=name\n",
    "        self.email=email\n",
    "        \n",
    "        \n",
    "    @classmethod    \n",
    "    def change_mo_no(cls,mobile):\n",
    "        pwskill2.mo_no=mobile\n",
    "        \n",
    "    @classmethod   \n",
    "    def details(cls,name,email):\n",
    "        return cls(name,email)\n",
    "    \n",
    "    def students_details(self):\n",
    "        print(self.name,self.email,pwskill2.mo_no)"
   ]
  },
  {
   "cell_type": "code",
   "execution_count": 58,
   "id": "6f4a2368-00bc-4714-a71a-7558f03c64cb",
   "metadata": {},
   "outputs": [
    {
     "data": {
      "text/plain": [
       "6353115351"
      ]
     },
     "execution_count": 58,
     "metadata": {},
     "output_type": "execute_result"
    }
   ],
   "source": [
    "pwskill2.mo_no"
   ]
  },
  {
   "cell_type": "code",
   "execution_count": 59,
   "id": "7d6ba843-875a-49e6-90b4-9f46f9580c90",
   "metadata": {},
   "outputs": [],
   "source": [
    "pwskill2.change_mo_no(96857432145)"
   ]
  },
  {
   "cell_type": "code",
   "execution_count": 60,
   "id": "610c35e6-8e72-48d7-8ae7-6114823a7703",
   "metadata": {},
   "outputs": [
    {
     "data": {
      "text/plain": [
       "96857432145"
      ]
     },
     "execution_count": 60,
     "metadata": {},
     "output_type": "execute_result"
    }
   ],
   "source": [
    "pwskill2.mo_no"
   ]
  },
  {
   "cell_type": "code",
   "execution_count": 61,
   "id": "1433cb9b-4432-4f91-92c3-f8a28653f5c2",
   "metadata": {},
   "outputs": [],
   "source": [
    "pw_obj=pwskill2(\"heman\",\"hjgkusadhl\")"
   ]
  },
  {
   "cell_type": "code",
   "execution_count": 62,
   "id": "2f7eb766-2534-42d4-a6c5-c5f7b80e509e",
   "metadata": {},
   "outputs": [
    {
     "name": "stdout",
     "output_type": "stream",
     "text": [
      "heman hjgkusadhl 96857432145\n"
     ]
    }
   ],
   "source": [
    "pw_obj.students_details()"
   ]
  },
  {
   "cell_type": "code",
   "execution_count": 63,
   "id": "957f22e2-0a68-45ad-9502-cb8976175199",
   "metadata": {},
   "outputs": [],
   "source": [
    "pw=pwskill2.details(\"rohan\",\"ueyoweip\")"
   ]
  },
  {
   "cell_type": "code",
   "execution_count": 64,
   "id": "228c3160-ad7a-4e4e-b4b3-39388d2f3dd9",
   "metadata": {},
   "outputs": [
    {
     "name": "stdout",
     "output_type": "stream",
     "text": [
      "rohan ueyoweip 96857432145\n"
     ]
    }
   ],
   "source": [
    "pw.students_details()"
   ]
  },
  {
   "cell_type": "code",
   "execution_count": 75,
   "id": "510e4c06-2a99-4fd3-86d0-6bbafec59cf5",
   "metadata": {},
   "outputs": [],
   "source": [
    "class pwskill3:\n",
    "    \n",
    "    mo_no=6353115351\n",
    "    \n",
    "    def __init__ (self,name,email):\n",
    "        self.name=name\n",
    "        self.email=email\n",
    "        \n",
    "        \n",
    "    @classmethod    \n",
    "    def change_mo_no(cls,mobile):\n",
    "        pwskill2.mo_no=mobile\n",
    "        \n",
    "    @classmethod   \n",
    "    def details(cls,name,email):\n",
    "        return cls(name,email)\n",
    "    \n",
    "    def students_details(self):\n",
    "        print(self.name,self.email,pwskill2.mo_no)"
   ]
  },
  {
   "cell_type": "code",
   "execution_count": 76,
   "id": "c02cb91a-6d94-4a80-810b-90c2b2594460",
   "metadata": {},
   "outputs": [],
   "source": [
    "def course_details(cls,course_name):\n",
    "    print(\"course name is \",course_name)"
   ]
  },
  {
   "cell_type": "code",
   "execution_count": 77,
   "id": "6a7a5823-83f0-40e2-89fd-bc8c0b7c4b08",
   "metadata": {},
   "outputs": [],
   "source": [
    "pwskill3.course_details=classmethod(course_details)"
   ]
  },
  {
   "cell_type": "code",
   "execution_count": 78,
   "id": "4fddae27-a69e-4bf8-96c9-0f4886e03dbb",
   "metadata": {},
   "outputs": [
    {
     "name": "stdout",
     "output_type": "stream",
     "text": [
      "course name is  data science master\n"
     ]
    }
   ],
   "source": [
    "pwskill3.course_details(\"data science master\")"
   ]
  },
  {
   "cell_type": "code",
   "execution_count": 81,
   "id": "c8581dd2-56aa-4f31-b359-2c89a17e13ab",
   "metadata": {},
   "outputs": [],
   "source": [
    "def mentor(cls,list_of_mentors):\n",
    "    print(list_of_mentors)"
   ]
  },
  {
   "cell_type": "code",
   "execution_count": 82,
   "id": "ce51fedb-0675-4678-b370-0dd139d2069d",
   "metadata": {},
   "outputs": [],
   "source": [
    "pwskill3.mentor=classmethod(mentor)"
   ]
  },
  {
   "cell_type": "code",
   "execution_count": 84,
   "id": "7066f6ed-1b9b-4dfa-94c4-9bb1a284192f",
   "metadata": {},
   "outputs": [
    {
     "name": "stdout",
     "output_type": "stream",
     "text": [
      "['sudhansu', 'krish']\n"
     ]
    }
   ],
   "source": [
    "pwskill3.mentor([\"sudhansu\",\"krish\"])"
   ]
  },
  {
   "cell_type": "code",
   "execution_count": 99,
   "id": "27ed0c64-591e-443f-bffd-31d83d1dc37f",
   "metadata": {},
   "outputs": [],
   "source": [
    "class pwskill4:\n",
    "    \n",
    "    mo_no=6353115351\n",
    "    \n",
    "    def __init__ (self,name,email):\n",
    "        self.name=name\n",
    "        self.email=email\n",
    "        \n",
    "        \n",
    "    @classmethod    \n",
    "    def change_mo_no(cls,mobile):\n",
    "        pwskill2.mo_no=mobile\n",
    "        \n",
    "    @classmethod   \n",
    "    def details(cls,name,email):\n",
    "        return cls(name,email)\n",
    "    \n",
    "    def students_details(self):\n",
    "        print(self.name,self.email,pwskill2.mo_no)"
   ]
  },
  {
   "cell_type": "code",
   "execution_count": 100,
   "id": "9ec2d7e7-3de9-426e-92bc-2c509911a537",
   "metadata": {},
   "outputs": [],
   "source": [
    "del pwskill4.change_mo_no"
   ]
  },
  {
   "cell_type": "code",
   "execution_count": 101,
   "id": "cb0863ab-2d1a-4253-b446-2a56114a53c3",
   "metadata": {},
   "outputs": [
    {
     "ename": "AttributeError",
     "evalue": "type object 'pwskill4' has no attribute 'change_mo_no'",
     "output_type": "error",
     "traceback": [
      "\u001b[0;31m---------------------------------------------------------------------------\u001b[0m",
      "\u001b[0;31mAttributeError\u001b[0m                            Traceback (most recent call last)",
      "Cell \u001b[0;32mIn[101], line 1\u001b[0m\n\u001b[0;32m----> 1\u001b[0m \u001b[43mpwskill4\u001b[49m\u001b[38;5;241;43m.\u001b[39;49m\u001b[43mchange_mo_no\u001b[49m(\u001b[38;5;241m96857423654565\u001b[39m)\n",
      "\u001b[0;31mAttributeError\u001b[0m: type object 'pwskill4' has no attribute 'change_mo_no'"
     ]
    }
   ],
   "source": [
    "pwskill4.change_mo_no(96857423654565)"
   ]
  },
  {
   "cell_type": "code",
   "execution_count": 102,
   "id": "217124fa-eab7-47fe-824f-6eb0cd764f1c",
   "metadata": {},
   "outputs": [],
   "source": [
    "delattr(pwskill4,\"details\")"
   ]
  },
  {
   "cell_type": "code",
   "execution_count": 103,
   "id": "db1e90c0-80e0-4f4d-8b87-8b8f317e69e5",
   "metadata": {},
   "outputs": [],
   "source": [
    "delattr(pwskill4,\"students_details\")"
   ]
  },
  {
   "cell_type": "code",
   "execution_count": 104,
   "id": "9828fac7-7afc-497e-a9ef-946805f7a44b",
   "metadata": {},
   "outputs": [],
   "source": [
    "delattr(pwskill4,\"mo_no\")"
   ]
  },
  {
   "cell_type": "code",
   "execution_count": null,
   "id": "a39795bd-d71b-4401-81c4-b15d1a1072a9",
   "metadata": {},
   "outputs": [],
   "source": []
  }
 ],
 "metadata": {
  "kernelspec": {
   "display_name": "Python 3 (ipykernel)",
   "language": "python",
   "name": "python3"
  },
  "language_info": {
   "codemirror_mode": {
    "name": "ipython",
    "version": 3
   },
   "file_extension": ".py",
   "mimetype": "text/x-python",
   "name": "python",
   "nbconvert_exporter": "python",
   "pygments_lexer": "ipython3",
   "version": "3.10.8"
  }
 },
 "nbformat": 4,
 "nbformat_minor": 5
}
