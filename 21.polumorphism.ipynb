{
 "cells": [
  {
   "cell_type": "markdown",
   "id": "4bc8ba8a-9944-4f63-8394-e881b0afbed8",
   "metadata": {},
   "source": [
    "polymorphism := multipal behavious or difffernt different kind of behavious in a different different stuation."
   ]
  },
  {
   "cell_type": "code",
   "execution_count": 1,
   "id": "de3e7fcf-0c02-4ef3-8b5b-b985b3440d81",
   "metadata": {},
   "outputs": [],
   "source": [
    "def test(a,b):\n",
    "    return a+b"
   ]
  },
  {
   "cell_type": "code",
   "execution_count": 3,
   "id": "f3db8489-d343-4c80-b819-98b17873dfb9",
   "metadata": {},
   "outputs": [
    {
     "data": {
      "text/plain": [
       "198"
      ]
     },
     "execution_count": 3,
     "metadata": {},
     "output_type": "execute_result"
    }
   ],
   "source": [
    "test(99,99)"
   ]
  },
  {
   "cell_type": "code",
   "execution_count": 6,
   "id": "80d994f0-d448-4186-a94f-2f501ce614ee",
   "metadata": {},
   "outputs": [
    {
     "data": {
      "text/plain": [
       "'hema hello'"
      ]
     },
     "execution_count": 6,
     "metadata": {},
     "output_type": "execute_result"
    }
   ],
   "source": [
    "test(\"hema \",\"hello\")   # change the behavious (concatinet thy string ma and int ma + thy )"
   ]
  },
  {
   "cell_type": "code",
   "execution_count": 7,
   "id": "ef495de8-6aa3-43ef-9eec-b6b70ffae429",
   "metadata": {},
   "outputs": [
    {
     "data": {
      "text/plain": [
       "[1, 2, 3, 1, 2, 3]"
      ]
     },
     "execution_count": 7,
     "metadata": {},
     "output_type": "execute_result"
    }
   ],
   "source": [
    "test([1,2,3],[1,2,3])"
   ]
  },
  {
   "cell_type": "code",
   "execution_count": 8,
   "id": "4656687a-2097-4d09-99fa-64f6267692bb",
   "metadata": {},
   "outputs": [],
   "source": [
    "class data_science:\n",
    "    def syllabus(self):\n",
    "        print(\"this is my syllabus for data science master \")"
   ]
  },
  {
   "cell_type": "code",
   "execution_count": 9,
   "id": "da1dd67d-8e21-4509-9517-79aec0d52921",
   "metadata": {},
   "outputs": [],
   "source": [
    "class web_dev:\n",
    "    def syllabus(self):\n",
    "        print(\"this is my sullabus for web dev \")"
   ]
  },
  {
   "cell_type": "code",
   "execution_count": 10,
   "id": "df0f27dd-6b62-4679-915a-330883889360",
   "metadata": {},
   "outputs": [],
   "source": [
    "def class_parcer(class_obj):\n",
    "    for i in class_obj:\n",
    "        i.syllabus()"
   ]
  },
  {
   "cell_type": "code",
   "execution_count": 11,
   "id": "cf848a34-d545-4426-9c82-94b2ed0efe89",
   "metadata": {},
   "outputs": [],
   "source": [
    "data_science=data_science()"
   ]
  },
  {
   "cell_type": "code",
   "execution_count": 12,
   "id": "d13a4b20-ad03-4c5b-9a4c-3d52da4a1cd9",
   "metadata": {},
   "outputs": [],
   "source": [
    "web_dev=web_dev()"
   ]
  },
  {
   "cell_type": "code",
   "execution_count": 13,
   "id": "6dd3643a-5ce5-4ab9-b244-55d3a1047c86",
   "metadata": {},
   "outputs": [],
   "source": [
    "class_obj=[data_science,web_dev]"
   ]
  },
  {
   "cell_type": "code",
   "execution_count": 14,
   "id": "e55c334b-3058-490f-9d13-40250fe9e071",
   "metadata": {},
   "outputs": [
    {
     "name": "stdout",
     "output_type": "stream",
     "text": [
      "this is my syllabus for data science master \n",
      "this is my sullabus for web dev \n"
     ]
    }
   ],
   "source": [
    "class_parcer(class_obj)"
   ]
  },
  {
   "cell_type": "code",
   "execution_count": null,
   "id": "670bd220-9760-4202-904f-9db4b2d21de2",
   "metadata": {},
   "outputs": [],
   "source": []
  }
 ],
 "metadata": {
  "kernelspec": {
   "display_name": "Python 3 (ipykernel)",
   "language": "python",
   "name": "python3"
  },
  "language_info": {
   "codemirror_mode": {
    "name": "ipython",
    "version": 3
   },
   "file_extension": ".py",
   "mimetype": "text/x-python",
   "name": "python",
   "nbconvert_exporter": "python",
   "pygments_lexer": "ipython3",
   "version": "3.10.8"
  }
 },
 "nbformat": 4,
 "nbformat_minor": 5
}
