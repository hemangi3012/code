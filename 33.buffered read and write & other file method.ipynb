{
 "cells": [
  {
   "cell_type": "code",
   "execution_count": 5,
   "id": "7343a25c-1935-489d-bd38-86b41a48fa7d",
   "metadata": {},
   "outputs": [],
   "source": [
    "import io"
   ]
  },
  {
   "cell_type": "code",
   "execution_count": 8,
   "id": "795b2e38-0f00-457d-ae11-cfc2c16c9401",
   "metadata": {},
   "outputs": [],
   "source": [
    "with open (\"test1.txt\",\"wb\") as f:\n",
    "    file=io.BufferedWriter(f)\n",
    "    \n",
    "    file.write(b\"this is my first line \\n  \")\n",
    "    file.write(b\"this is my second line \\n \")\n",
    "    file.write(b\" Data Science Masters course is highly curated and uniquely designed according to the latest industry standards. This program instills students the skills essential to knowledge discovery efforts to identify standard, novel, and truly differentiated solutions and decision-making, including skills in managing, querying, analyzing, visualizing, and extracting meaning from extremely large data sets. This trending program provides students with the statistical, mathematical and computational skills needed to meet the large-scale data science challenges of today's professional world. You will learn all the stack required to work in data science industry including cloud infrastructure and real-time industry projects.\\n \")\n",
    "    file.flush()"
   ]
  },
  {
   "cell_type": "code",
   "execution_count": 13,
   "id": "595491d2-779c-4a33-8c65-2903de3cf3f5",
   "metadata": {},
   "outputs": [
    {
     "name": "stdout",
     "output_type": "stream",
     "text": [
      "b\"this is my first line \\n  this is my second line \\n  Data Science Masters course is highly curated and uniquely designed according to the latest industry standards. This program instills students the skills essential to knowledge discovery efforts to identify standard, novel, and truly differentiated solutions and decision-making, including skills in managing, querying, analyzing, visualizing, and extracting meaning from extremely large data sets. This trending program provides students with the statistical, mathematical and computational skills needed to meet the large-scale data science challenges of today's professional world. You will learn all the stack required to work in data science industry including cloud infrastructure and real-time industry projects.\\n \"\n"
     ]
    }
   ],
   "source": [
    "with open (\"test1.txt\",\"rb\") as f:\n",
    "    file= io.BufferedReader(f)\n",
    "    \n",
    "    data= file.read(1000)\n",
    "    print(data)"
   ]
  },
  {
   "cell_type": "code",
   "execution_count": null,
   "id": "9e2213d6-3e01-4a2d-896c-7879d2e561cc",
   "metadata": {},
   "outputs": [],
   "source": []
  }
 ],
 "metadata": {
  "kernelspec": {
   "display_name": "Python 3 (ipykernel)",
   "language": "python",
   "name": "python3"
  },
  "language_info": {
   "codemirror_mode": {
    "name": "ipython",
    "version": 3
   },
   "file_extension": ".py",
   "mimetype": "text/x-python",
   "name": "python",
   "nbconvert_exporter": "python",
   "pygments_lexer": "ipython3",
   "version": "3.10.8"
  }
 },
 "nbformat": 4,
 "nbformat_minor": 5
}
