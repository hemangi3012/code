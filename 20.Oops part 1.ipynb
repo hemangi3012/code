{
 "cells": [
  {
   "cell_type": "markdown",
   "id": "6190be3f-8cb9-48f6-95ae-a601cad13bd3",
   "metadata": {},
   "source": [
    "\"Oops\" stands for object-Oriented programming System "
   ]
  },
  {
   "cell_type": "code",
   "execution_count": 6,
   "id": "6a98315b-3230-4eeb-8eb7-06e7ed0a512d",
   "metadata": {},
   "outputs": [],
   "source": [
    "a=1               # object (variable, instent)stands for  real word intity      # class is just of classification "
   ]
  },
  {
   "cell_type": "code",
   "execution_count": 7,
   "id": "ae070ee7-1365-41ba-98ea-9bc4ff7cd7bf",
   "metadata": {},
   "outputs": [
    {
     "name": "stdout",
     "output_type": "stream",
     "text": [
      "1\n"
     ]
    }
   ],
   "source": [
    "print(a)"
   ]
  },
  {
   "cell_type": "code",
   "execution_count": 8,
   "id": "c618767f-9997-4efc-a98e-f7ec3409c2ce",
   "metadata": {},
   "outputs": [
    {
     "name": "stdout",
     "output_type": "stream",
     "text": [
      "<class 'int'>\n"
     ]
    }
   ],
   "source": [
    "print(type(a))"
   ]
  },
  {
   "cell_type": "code",
   "execution_count": 9,
   "id": "2dd9b648-0954-4adb-ac68-fef7c44027a9",
   "metadata": {},
   "outputs": [
    {
     "name": "stdout",
     "output_type": "stream",
     "text": [
      "<class 'str'>\n"
     ]
    }
   ],
   "source": [
    "print(type(\"pwskills\"))"
   ]
  },
  {
   "cell_type": "markdown",
   "id": "94f75bab-c59b-4cf8-a0b8-82dfccb4bbfe",
   "metadata": {},
   "source": [
    "############# create clss ###########"
   ]
  },
  {
   "cell_type": "code",
   "execution_count": 10,
   "id": "707724a1-c838-4cd5-90f9-eaca44a11fba",
   "metadata": {},
   "outputs": [
    {
     "ename": "SyntaxError",
     "evalue": "incomplete input (3527747674.py, line 1)",
     "output_type": "error",
     "traceback": [
      "\u001b[0;36m  Cell \u001b[0;32mIn[10], line 1\u001b[0;36m\u001b[0m\n\u001b[0;31m    class test:\u001b[0m\n\u001b[0m               ^\u001b[0m\n\u001b[0;31mSyntaxError\u001b[0m\u001b[0;31m:\u001b[0m incomplete input\n"
     ]
    }
   ],
   "source": [
    "class test:"
   ]
  },
  {
   "cell_type": "code",
   "execution_count": 11,
   "id": "85688d5f-fb1c-4cd9-a256-177e35e737aa",
   "metadata": {},
   "outputs": [],
   "source": [
    "class test:\n",
    "    pass           # class sa mate create kari chhi ? == modiual nu classification rakhe "
   ]
  },
  {
   "cell_type": "code",
   "execution_count": 12,
   "id": "8a58acc2-0a26-491e-9d38-0195abcd0966",
   "metadata": {},
   "outputs": [],
   "source": [
    "a= test()"
   ]
  },
  {
   "cell_type": "code",
   "execution_count": 13,
   "id": "60285e60-eb19-452a-bf03-4b3d7080946f",
   "metadata": {},
   "outputs": [
    {
     "data": {
      "text/plain": [
       "__main__.test"
      ]
     },
     "execution_count": 13,
     "metadata": {},
     "output_type": "execute_result"
    }
   ],
   "source": [
    "type(a)"
   ]
  },
  {
   "cell_type": "code",
   "execution_count": 18,
   "id": "58a85c06-4825-4d47-b2a1-a29eeb290acb",
   "metadata": {},
   "outputs": [],
   "source": [
    "class pwskills:\n",
    "    def welcome_msg(self):\n",
    "        print(\"wecome to pwskills\")"
   ]
  },
  {
   "cell_type": "code",
   "execution_count": 19,
   "id": "9e6fb515-6712-4135-86d4-b3cb3551aa68",
   "metadata": {},
   "outputs": [],
   "source": [
    "rohan = pwskills()"
   ]
  },
  {
   "cell_type": "code",
   "execution_count": 20,
   "id": "8338bad0-e522-4064-b32d-f26dcf593e96",
   "metadata": {},
   "outputs": [
    {
     "name": "stdout",
     "output_type": "stream",
     "text": [
      "<class '__main__.pwskills'>\n"
     ]
    }
   ],
   "source": [
    "print(type(rohan))"
   ]
  },
  {
   "cell_type": "code",
   "execution_count": 21,
   "id": "683a7a4a-fb75-418f-b7f3-132c4d567738",
   "metadata": {},
   "outputs": [
    {
     "name": "stdout",
     "output_type": "stream",
     "text": [
      "wecome to pwskills\n"
     ]
    }
   ],
   "source": [
    "rohan.welcome_msg()"
   ]
  },
  {
   "cell_type": "code",
   "execution_count": 22,
   "id": "c127955c-66e3-4d5d-8150-2d8f4b8f932f",
   "metadata": {},
   "outputs": [],
   "source": [
    "hema=pwskills()"
   ]
  },
  {
   "cell_type": "code",
   "execution_count": 23,
   "id": "c0b49685-37fb-4ded-b1cb-912a3ce76ca6",
   "metadata": {},
   "outputs": [
    {
     "name": "stdout",
     "output_type": "stream",
     "text": [
      "wecome to pwskills\n"
     ]
    }
   ],
   "source": [
    "hema.welcome_msg()"
   ]
  },
  {
   "cell_type": "code",
   "execution_count": 27,
   "id": "5cdf5b03-da19-43bb-90d6-7f6e6014e091",
   "metadata": {},
   "outputs": [],
   "source": [
    "class pwskills1:\n",
    "    def __init__(self,phone_number,email_id,student_id):            # __init__ is conscracator \n",
    "        self.phone_number=phone_number\n",
    "        self.email_id=email_id\n",
    "        self.student_id=student_id\n",
    "    \n",
    "    def return_student_details(self):\n",
    "        return self.student_id,self.phone_number,self.email_id"
   ]
  },
  {
   "cell_type": "code",
   "execution_count": 31,
   "id": "a1d30f4c-1245-47b9-802c-60d61bad08a7",
   "metadata": {},
   "outputs": [
    {
     "ename": "TypeError",
     "evalue": "pwskills1.__init__() missing 3 required positional arguments: 'phone_number', 'email_id', and 'student_id'",
     "output_type": "error",
     "traceback": [
      "\u001b[0;31m---------------------------------------------------------------------------\u001b[0m",
      "\u001b[0;31mTypeError\u001b[0m                                 Traceback (most recent call last)",
      "Cell \u001b[0;32mIn[31], line 1\u001b[0m\n\u001b[0;32m----> 1\u001b[0m rohan\u001b[38;5;241m=\u001b[39m\u001b[43mpwskills1\u001b[49m\u001b[43m(\u001b[49m\u001b[43m)\u001b[49m\n",
      "\u001b[0;31mTypeError\u001b[0m: pwskills1.__init__() missing 3 required positional arguments: 'phone_number', 'email_id', and 'student_id'"
     ]
    }
   ],
   "source": [
    "rohan=pwskills1()"
   ]
  },
  {
   "cell_type": "code",
   "execution_count": 33,
   "id": "3abcbd87-4082-454c-b142-e958b606ab92",
   "metadata": {},
   "outputs": [],
   "source": [
    "rohal = pwskills1(425136985,\"rohan@gmail.com\",99)"
   ]
  },
  {
   "cell_type": "code",
   "execution_count": 34,
   "id": "ade94069-7e01-43ca-b6c5-a48d356d2ddb",
   "metadata": {},
   "outputs": [
    {
     "data": {
      "text/plain": [
       "(99, 425136985, 'rohan@gmail.com')"
      ]
     },
     "execution_count": 34,
     "metadata": {},
     "output_type": "execute_result"
    }
   ],
   "source": [
    "rohal.return_student_details()"
   ]
  },
  {
   "cell_type": "code",
   "execution_count": 49,
   "id": "513ca953-7375-45b5-9951-2ec4e5ac028c",
   "metadata": {},
   "outputs": [
    {
     "data": {
      "text/plain": [
       "425136985"
      ]
     },
     "execution_count": 49,
     "metadata": {},
     "output_type": "execute_result"
    }
   ],
   "source": [
    "rohal.phone_number"
   ]
  },
  {
   "cell_type": "code",
   "execution_count": 51,
   "id": "ddc8db77-608b-43f7-8acd-87ce140c3e77",
   "metadata": {},
   "outputs": [
    {
     "data": {
      "text/plain": [
       "'rohan@gmail.com'"
      ]
     },
     "execution_count": 51,
     "metadata": {},
     "output_type": "execute_result"
    }
   ],
   "source": [
    "rohal.email_id"
   ]
  },
  {
   "cell_type": "code",
   "execution_count": 38,
   "id": "7de91030-d897-4fc7-a90b-1d1eade46d28",
   "metadata": {},
   "outputs": [],
   "source": [
    "hema=pwskills1(524169658841,\"heman@gmail.com\",999)"
   ]
  },
  {
   "cell_type": "code",
   "execution_count": 39,
   "id": "e4fdb15e-184a-448d-863c-06453be7956b",
   "metadata": {},
   "outputs": [
    {
     "data": {
      "text/plain": [
       "(999, 524169658841, 'heman@gmail.com')"
      ]
     },
     "execution_count": 39,
     "metadata": {},
     "output_type": "execute_result"
    }
   ],
   "source": [
    "hema.return_student_details()"
   ]
  },
  {
   "cell_type": "code",
   "execution_count": 63,
   "id": "ed13a27a-fa98-4cdf-800b-110820163106",
   "metadata": {},
   "outputs": [],
   "source": [
    "class pwskills2:\n",
    "    def __init__(self,phone_number,email_id,student_id):\n",
    "        self.phone_number1=phone_number\n",
    "        self.email_id1=email_id\n",
    "        self.student_id1=student_id\n",
    "    \n",
    "    def return_student_details(self):\n",
    "        return self.student_id1,self.phone_number1,self.email_id1"
   ]
  },
  {
   "cell_type": "code",
   "execution_count": 64,
   "id": "decd91f7-adec-48e3-ad43-7d71b8435070",
   "metadata": {},
   "outputs": [],
   "source": [
    "sudha=pwskills2(52634125,\"sdArQWERTQEGRF\",101)"
   ]
  },
  {
   "cell_type": "code",
   "execution_count": 65,
   "id": "9f3668c2-7086-4d22-90fe-7a6d51efafb9",
   "metadata": {},
   "outputs": [
    {
     "data": {
      "text/plain": [
       "52634125"
      ]
     },
     "execution_count": 65,
     "metadata": {},
     "output_type": "execute_result"
    }
   ],
   "source": [
    "sudha.phone_number1"
   ]
  },
  {
   "cell_type": "code",
   "execution_count": 66,
   "id": "508132b3-0685-4e6b-9ca9-f3eeb1e85423",
   "metadata": {},
   "outputs": [
    {
     "data": {
      "text/plain": [
       "'sdArQWERTQEGRF'"
      ]
     },
     "execution_count": 66,
     "metadata": {},
     "output_type": "execute_result"
    }
   ],
   "source": [
    "sudha.email_id1"
   ]
  },
  {
   "cell_type": "code",
   "execution_count": 67,
   "id": "10af981d-ad4a-44e5-8782-030b9923654d",
   "metadata": {},
   "outputs": [
    {
     "data": {
      "text/plain": [
       "(101, 52634125, 'sdArQWERTQEGRF')"
      ]
     },
     "execution_count": 67,
     "metadata": {},
     "output_type": "execute_result"
    }
   ],
   "source": [
    "sudha.return_student_details()"
   ]
  },
  {
   "cell_type": "code",
   "execution_count": 68,
   "id": "680fbc13-51e8-4846-b281-d49532c04e10",
   "metadata": {},
   "outputs": [
    {
     "data": {
      "text/plain": [
       "(101, 52634125, 'sdArQWERTQEGRF')"
      ]
     },
     "execution_count": 68,
     "metadata": {},
     "output_type": "execute_result"
    }
   ],
   "source": [
    "sudha.return_student_details()"
   ]
  },
  {
   "cell_type": "code",
   "execution_count": 69,
   "id": "fde6cbbf-faef-4fce-aacc-0d0116f4b60a",
   "metadata": {},
   "outputs": [],
   "source": [
    "class pwskills2:\n",
    "    def __init__(hello,phone_number,email_id,student_id):\n",
    "        hello.phone_number1=phone_number\n",
    "        hello.email_id1=email_id\n",
    "        hello.student_id1=student_id\n",
    "    \n",
    "    def return_student_details(hello):\n",
    "        return self.student_id1,self.phone_number1,self.email_id1"
   ]
  },
  {
   "cell_type": "code",
   "execution_count": 75,
   "id": "ea4f21fb-ca24-4024-9f03-3fc2abc45d72",
   "metadata": {},
   "outputs": [],
   "source": [
    "hemangi=pwskills2(1223456786,\"hemangi@gmail.com\",110)"
   ]
  },
  {
   "cell_type": "code",
   "execution_count": 77,
   "id": "1c581737-a3dd-400e-ac56-cd8d928fff7c",
   "metadata": {},
   "outputs": [
    {
     "data": {
      "text/plain": [
       "1223456786"
      ]
     },
     "execution_count": 77,
     "metadata": {},
     "output_type": "execute_result"
    }
   ],
   "source": [
    "hemangi.phone_number1"
   ]
  },
  {
   "cell_type": "code",
   "execution_count": null,
   "id": "8890fc4a-c69d-442c-a8f7-43e535afc1b0",
   "metadata": {},
   "outputs": [],
   "source": []
  }
 ],
 "metadata": {
  "kernelspec": {
   "display_name": "Python 3 (ipykernel)",
   "language": "python",
   "name": "python3"
  },
  "language_info": {
   "codemirror_mode": {
    "name": "ipython",
    "version": 3
   },
   "file_extension": ".py",
   "mimetype": "text/x-python",
   "name": "python",
   "nbconvert_exporter": "python",
   "pygments_lexer": "ipython3",
   "version": "3.10.8"
  }
 },
 "nbformat": 4,
 "nbformat_minor": 5
}
