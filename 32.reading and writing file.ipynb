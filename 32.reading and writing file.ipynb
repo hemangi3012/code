{
 "cells": [
  {
   "cell_type": "code",
   "execution_count": 3,
   "id": "a3cd9ec3-5838-4c81-8b8e-b8b839ea70c9",
   "metadata": {},
   "outputs": [],
   "source": [
    "data={\n",
    "    \"name\" : \"hemna\",\n",
    "    \"mail_id\" : \"hemangi@123.com\",\n",
    "    \"phone_no\" : 9685741233,\n",
    "    \"subject\" : [\"data science\",\"php\",\"big data\",\"data analytics\"]\n",
    "}"
   ]
  },
  {
   "cell_type": "code",
   "execution_count": 4,
   "id": "7b792c21-39cc-4180-9035-6d87f357fc8f",
   "metadata": {},
   "outputs": [],
   "source": [
    "import json"
   ]
  },
  {
   "cell_type": "code",
   "execution_count": 5,
   "id": "99aae513-1c73-4e96-9d66-6349b1fd0c32",
   "metadata": {},
   "outputs": [],
   "source": [
    "with open (\"data.json\",\"w\") as f :      ## dump method data ne write karva ma help kre\n",
    "    json.dump(data,f)"
   ]
  },
  {
   "cell_type": "code",
   "execution_count": 6,
   "id": "8748991d-7a25-4616-974f-ddac278632a6",
   "metadata": {},
   "outputs": [],
   "source": [
    "with open (\"data.json\",\"r\") as f :\n",
    "    data1= json.load(f)"
   ]
  },
  {
   "cell_type": "code",
   "execution_count": 7,
   "id": "364762c3-f342-42d9-8605-8381585dac28",
   "metadata": {},
   "outputs": [
    {
     "data": {
      "text/plain": [
       "{'name': 'hemna',\n",
       " 'mail_id': 'hemangi@123.com',\n",
       " 'phone_no': 9685741233,\n",
       " 'subject': ['data science', 'php', 'big data', 'data analytics']}"
      ]
     },
     "execution_count": 7,
     "metadata": {},
     "output_type": "execute_result"
    }
   ],
   "source": [
    "data1"
   ]
  },
  {
   "cell_type": "code",
   "execution_count": 10,
   "id": "f7887bac-f9a0-48ed-91ff-63031ba98713",
   "metadata": {},
   "outputs": [
    {
     "data": {
      "text/plain": [
       "['data science', 'php', 'big data', 'data analytics']"
      ]
     },
     "execution_count": 10,
     "metadata": {},
     "output_type": "execute_result"
    }
   ],
   "source": [
    "data1[\"subject\"]"
   ]
  },
  {
   "cell_type": "code",
   "execution_count": 11,
   "id": "66c1308e-4ee9-4534-8546-885b4943e5b1",
   "metadata": {},
   "outputs": [
    {
     "data": {
      "text/plain": [
       "'php'"
      ]
     },
     "execution_count": 11,
     "metadata": {},
     "output_type": "execute_result"
    }
   ],
   "source": [
    "data1[\"subject\"][1]"
   ]
  },
  {
   "cell_type": "code",
   "execution_count": 12,
   "id": "af27bace-75c0-4451-8751-330af46692a9",
   "metadata": {},
   "outputs": [],
   "source": [
    " ############ coma sepereted value #############"
   ]
  },
  {
   "cell_type": "code",
   "execution_count": 13,
   "id": "b4c00d0c-71e4-4efb-b37b-5c600926a9f4",
   "metadata": {},
   "outputs": [],
   "source": [
    "import csv "
   ]
  },
  {
   "cell_type": "code",
   "execution_count": 14,
   "id": "69c0a734-c926-4595-bde4-dc9b9c89f34e",
   "metadata": {},
   "outputs": [],
   "source": [
    "data =[\n",
    "    [\"name\",\"email_id\",\"phone_number\"],\n",
    "    [\"hemangi\",\"hemangi@123.com\",968574123],\n",
    "    [\"mira\",\"mira@123.com\",362524112]\n",
    "      ]"
   ]
  },
  {
   "cell_type": "code",
   "execution_count": 15,
   "id": "d0eb3a6e-cc22-4c4f-bd65-2bc71b14cb8f",
   "metadata": {},
   "outputs": [],
   "source": [
    "with open (\"data.csv\",\"w\") as f :\n",
    "    writer=csv.writer(f)\n",
    "    \n",
    "    for i in data:\n",
    "        writer.writerow(i)"
   ]
  },
  {
   "cell_type": "code",
   "execution_count": 16,
   "id": "39f4678c-5edb-46ab-b99d-4c0dbd513490",
   "metadata": {},
   "outputs": [
    {
     "name": "stdout",
     "output_type": "stream",
     "text": [
      "['name', 'email_id', 'phone_number']\n",
      "['hemangi', 'hemangi@123.com', '968574123']\n",
      "['mira', 'mira@123.com', '362524112']\n"
     ]
    }
   ],
   "source": [
    "with open (\"data.csv\",\"r\") as f:\n",
    "    read_data= csv.reader(f)\n",
    "    \n",
    "    for i in read_data:\n",
    "        print(i)"
   ]
  },
  {
   "cell_type": "code",
   "execution_count": 18,
   "id": "851d0c0f-a8ac-414f-bbb9-1f19049696a6",
   "metadata": {},
   "outputs": [],
   "source": [
    "with open (\"test3.bin\",\"wb\") as f:\n",
    "    f.write(b\"\\x01\\x02\\x03\\96857412235599\")"
   ]
  },
  {
   "cell_type": "code",
   "execution_count": 19,
   "id": "b27d08e5-f0ed-4c7b-88bf-3f821066e56c",
   "metadata": {},
   "outputs": [
    {
     "name": "stdout",
     "output_type": "stream",
     "text": [
      "b'\\x01\\x02\\x03\\\\96857412235599'\n"
     ]
    }
   ],
   "source": [
    "with open (\"test3.bin\",\"rb\") as f:\n",
    "    print(f.read())"
   ]
  },
  {
   "cell_type": "code",
   "execution_count": null,
   "id": "4472ef28-6078-4774-b996-7710af5d9f9e",
   "metadata": {},
   "outputs": [],
   "source": []
  }
 ],
 "metadata": {
  "kernelspec": {
   "display_name": "Python 3 (ipykernel)",
   "language": "python",
   "name": "python3"
  },
  "language_info": {
   "codemirror_mode": {
    "name": "ipython",
    "version": 3
   },
   "file_extension": ".py",
   "mimetype": "text/x-python",
   "name": "python",
   "nbconvert_exporter": "python",
   "pygments_lexer": "ipython3",
   "version": "3.10.8"
  }
 },
 "nbformat": 4,
 "nbformat_minor": 5
}
