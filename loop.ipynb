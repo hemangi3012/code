{
 "cells": [
  {
   "cell_type": "code",
   "execution_count": 1,
   "id": "caa10a29-b547-4022-8ba4-f4b0a92cc781",
   "metadata": {},
   "outputs": [],
   "source": [
    "#######################  LOOP ########################### "
   ]
  },
  {
   "cell_type": "code",
   "execution_count": 2,
   "id": "adf05b5a-50d0-4c3c-8ead-e4321fbfb070",
   "metadata": {},
   "outputs": [],
   "source": [
    "l=[1,2,3,4,5]"
   ]
  },
  {
   "cell_type": "code",
   "execution_count": 3,
   "id": "6bdd5a6a-b887-415d-bde9-e0645cb7061d",
   "metadata": {},
   "outputs": [
    {
     "data": {
      "text/plain": [
       "[1, 2, 3, 4, 5]"
      ]
     },
     "execution_count": 3,
     "metadata": {},
     "output_type": "execute_result"
    }
   ],
   "source": [
    "l"
   ]
  },
  {
   "cell_type": "code",
   "execution_count": 6,
   "id": "93706bf6-2237-41d4-9370-348a7c98e0eb",
   "metadata": {},
   "outputs": [
    {
     "name": "stdout",
     "output_type": "stream",
     "text": [
      "1 <class 'int'>\n",
      "2 <class 'int'>\n",
      "3 <class 'int'>\n",
      "4 <class 'int'>\n",
      "5 <class 'int'>\n"
     ]
    }
   ],
   "source": [
    "for i in l :\n",
    "    print(i , type(i))\n",
    "    "
   ]
  },
  {
   "cell_type": "code",
   "execution_count": 7,
   "id": "441ade77-4827-4033-b9aa-55104f8de8a7",
   "metadata": {},
   "outputs": [],
   "source": [
    " l1=[\"hello\",\"hema\",\"mira\",\"kisuu\",\"banu\"]"
   ]
  },
  {
   "cell_type": "code",
   "execution_count": 8,
   "id": "f3bf00a8-319e-498b-ad88-42f9bc0ea1ec",
   "metadata": {},
   "outputs": [
    {
     "data": {
      "text/plain": [
       "['hello', 'hema', 'mira', 'kisuu', 'banu']"
      ]
     },
     "execution_count": 8,
     "metadata": {},
     "output_type": "execute_result"
    }
   ],
   "source": [
    "l1"
   ]
  },
  {
   "cell_type": "code",
   "execution_count": 9,
   "id": "5ca74fa7-c73a-48e0-9835-a8b1c4e7ac83",
   "metadata": {},
   "outputs": [
    {
     "name": "stdout",
     "output_type": "stream",
     "text": [
      "hello\n",
      "hema\n",
      "mira\n",
      "kisuu\n",
      "banu\n"
     ]
    }
   ],
   "source": [
    "for i in l1:\n",
    "    print(i)"
   ]
  },
  {
   "cell_type": "code",
   "execution_count": 10,
   "id": "c08ec86e-e387-4cd9-9742-02134041040d",
   "metadata": {},
   "outputs": [],
   "source": [
    "  ############### FOR ELSE ##################"
   ]
  },
  {
   "cell_type": "code",
   "execution_count": 11,
   "id": "44e1f93a-ee33-4375-98c0-5e7355250791",
   "metadata": {},
   "outputs": [
    {
     "name": "stdout",
     "output_type": "stream",
     "text": [
      "hello\n",
      "hema\n",
      "mira\n",
      "kisuu\n",
      "banu\n",
      "do something\n"
     ]
    }
   ],
   "source": [
    "for i in l1:                      ## while for loop completly execute after else statement print , \n",
    "                                    #if for loop is able to complete itself then only else will execut \n",
    "       print(i)\n",
    "else:\n",
    "    print(\"do something\")                              #if foor loop not succesfull run then else stattement not print\n",
    "       \n",
    "    "
   ]
  },
  {
   "cell_type": "code",
   "execution_count": 12,
   "id": "1dc48ae7-5cfc-4dab-ad26-8d6614504d7a",
   "metadata": {},
   "outputs": [
    {
     "name": "stdout",
     "output_type": "stream",
     "text": [
      "hello bansi , how are you !!\n"
     ]
    }
   ],
   "source": [
    "for i in l1:\n",
    "    if i == \"banu\":\n",
    "        print(\"hello bansi , how are you !!\")"
   ]
  },
  {
   "cell_type": "code",
   "execution_count": 16,
   "id": "aac1f018-ee0f-4ea6-9907-0dec555fda4a",
   "metadata": {},
   "outputs": [
    {
     "name": "stdout",
     "output_type": "stream",
     "text": [
      "hello\n",
      "hema\n"
     ]
    }
   ],
   "source": [
    "for i in l1:\n",
    "    if i == \"mira\":\n",
    "        break\n",
    "    print(i)"
   ]
  },
  {
   "cell_type": "code",
   "execution_count": 15,
   "id": "2437dfbc-076d-4ffc-a176-346c92714c7c",
   "metadata": {},
   "outputs": [
    {
     "name": "stdout",
     "output_type": "stream",
     "text": [
      "hello\n",
      "hema\n",
      "kisuu\n",
      "banu\n"
     ]
    }
   ],
   "source": [
    "for i in l1:\n",
    "    if i == \"mira\":\n",
    "        continue\n",
    "    print(i)"
   ]
  },
  {
   "cell_type": "code",
   "execution_count": 17,
   "id": "61143581-c9e3-4e1e-9710-30cbfd071dda",
   "metadata": {},
   "outputs": [
    {
     "data": {
      "text/plain": [
       "['hello', 'hema', 'mira', 'kisuu', 'banu']"
      ]
     },
     "execution_count": 17,
     "metadata": {},
     "output_type": "execute_result"
    }
   ],
   "source": [
    "l1"
   ]
  },
  {
   "cell_type": "code",
   "execution_count": 19,
   "id": "f58a30d3-d009-42e6-9596-0dd896c65b15",
   "metadata": {},
   "outputs": [
    {
     "name": "stdout",
     "output_type": "stream",
     "text": [
      "hello\n",
      "hema\n",
      "mira\n"
     ]
    }
   ],
   "source": [
    "for i in l1:\n",
    "    if i ==\"kisuu\":\n",
    "        break                        ## else print ny thy km k for loop complet nathi thyu break thy gyu 6 atle \n",
    "    print(i)\n",
    "else:\n",
    "     print(\"execute this if for loop is able to complet itself\")"
   ]
  },
  {
   "cell_type": "code",
   "execution_count": 20,
   "id": "ec076d75-f649-4de0-8ab9-48b629ac672a",
   "metadata": {},
   "outputs": [
    {
     "name": "stdout",
     "output_type": "stream",
     "text": [
      "hello\n",
      "mira\n",
      "kisuu\n",
      "banu\n"
     ]
    }
   ],
   "source": [
    "for i in l1:\n",
    "    if i == \"hema\":\n",
    "        continue                   ## control ko for ke pass bhej do \n",
    "    print(i)"
   ]
  },
  {
   "cell_type": "code",
   "execution_count": 21,
   "id": "b4f9bb6e-92ba-4305-a4d0-dead60c7c859",
   "metadata": {},
   "outputs": [
    {
     "name": "stdout",
     "output_type": "stream",
     "text": [
      "hello\n",
      "mira\n",
      "kisuu\n",
      "banu\n",
      "execute this if for loop is able to complet itself\n"
     ]
    }
   ],
   "source": [
    "for i in l1:\n",
    "    if i == \"hema\":\n",
    "        continue                   \n",
    "    print(i)\n",
    "else:\n",
    "     print(\"execute this if for loop is able to complet itself\")"
   ]
  },
  {
   "cell_type": "code",
   "execution_count": 22,
   "id": "ab67a21c-ddc5-4044-a2f0-ebf93102bbe6",
   "metadata": {},
   "outputs": [],
   "source": [
    " #################### RANGE FUNCTION (GENRETOR FUNTION) ##################"
   ]
  },
  {
   "cell_type": "code",
   "execution_count": 23,
   "id": "585658f5-2e7c-466a-8c46-86629e2e2f01",
   "metadata": {},
   "outputs": [
    {
     "data": {
      "text/plain": [
       "range(0, 10)"
      ]
     },
     "execution_count": 23,
     "metadata": {},
     "output_type": "execute_result"
    }
   ],
   "source": [
    "range(10)"
   ]
  },
  {
   "cell_type": "code",
   "execution_count": 24,
   "id": "c3314d8a-e90e-4ce1-b333-3055bfae89f8",
   "metadata": {},
   "outputs": [
    {
     "data": {
      "text/plain": [
       "[0, 1, 2, 3, 4, 5, 6, 7, 8, 9]"
      ]
     },
     "execution_count": 24,
     "metadata": {},
     "output_type": "execute_result"
    }
   ],
   "source": [
    "list(range(10))"
   ]
  },
  {
   "cell_type": "code",
   "execution_count": 26,
   "id": "aab57c92-e9ac-4f82-b228-b5522a8e0266",
   "metadata": {},
   "outputs": [
    {
     "data": {
      "text/plain": [
       "[0, 2, 4, 6, 8, 10, 12, 14, 16, 18, 20, 22, 24, 26, 28]"
      ]
     },
     "execution_count": 26,
     "metadata": {},
     "output_type": "execute_result"
    }
   ],
   "source": [
    "list(range(0,30,2))  ## even print mate 0 thi start karvu "
   ]
  },
  {
   "cell_type": "code",
   "execution_count": 27,
   "id": "0ce1eac3-46d6-4eec-9647-4fc752c3511b",
   "metadata": {},
   "outputs": [
    {
     "data": {
      "text/plain": [
       "[1, 3, 5, 7, 9, 11, 13, 15, 17, 19, 21, 23, 25, 27, 29]"
      ]
     },
     "execution_count": 27,
     "metadata": {},
     "output_type": "execute_result"
    }
   ],
   "source": [
    "list(range(1,30,2))   ## odd print mate 1 thi start karvu"
   ]
  },
  {
   "cell_type": "code",
   "execution_count": 29,
   "id": "7a48b129-8c49-4417-90c4-e6dabb83cbcf",
   "metadata": {},
   "outputs": [
    {
     "data": {
      "text/plain": [
       "[-20, -19, -18, -17, -16, -15, -14, -13, -12, -11]"
      ]
     },
     "execution_count": 29,
     "metadata": {},
     "output_type": "execute_result"
    }
   ],
   "source": [
    "list(range(-20,-10))"
   ]
  },
  {
   "cell_type": "code",
   "execution_count": 31,
   "id": "d66b70ae-09d1-4858-8f73-7a5c685ab481",
   "metadata": {},
   "outputs": [
    {
     "data": {
      "text/plain": [
       "['hello', 'hema', 'mira', 'kisuu', 'banu']"
      ]
     },
     "execution_count": 31,
     "metadata": {},
     "output_type": "execute_result"
    }
   ],
   "source": [
    "l1"
   ]
  },
  {
   "cell_type": "code",
   "execution_count": 32,
   "id": "0e54b51b-66fd-42fe-a422-abcd877425d1",
   "metadata": {},
   "outputs": [
    {
     "data": {
      "text/plain": [
       "5"
      ]
     },
     "execution_count": 32,
     "metadata": {},
     "output_type": "execute_result"
    }
   ],
   "source": [
    "len(l1)"
   ]
  },
  {
   "cell_type": "code",
   "execution_count": 33,
   "id": "2355dd3d-4dea-46be-bf8f-1959869df447",
   "metadata": {},
   "outputs": [
    {
     "data": {
      "text/plain": [
       "[0, 1, 2, 3, 4]"
      ]
     },
     "execution_count": 33,
     "metadata": {},
     "output_type": "execute_result"
    }
   ],
   "source": [
    "list(range(len(l1)))"
   ]
  },
  {
   "cell_type": "code",
   "execution_count": 34,
   "id": "b4447244-3154-442e-a243-139a8eaeeabf",
   "metadata": {},
   "outputs": [
    {
     "name": "stdout",
     "output_type": "stream",
     "text": [
      "hello\n",
      "hema\n",
      "mira\n",
      "kisuu\n",
      "banu\n"
     ]
    }
   ],
   "source": [
    "for i in range (len(l1)):\n",
    "    print(l1[i])"
   ]
  },
  {
   "cell_type": "code",
   "execution_count": 7,
   "id": "f9ce8c24-6853-4a19-b30b-50a089dca623",
   "metadata": {},
   "outputs": [],
   "source": [
    " l1=[\"hello\",\"hema\",\"mira\",\"kisuu\",\"banu\"]"
   ]
  },
  {
   "cell_type": "code",
   "execution_count": 8,
   "id": "2c7ddd81-8a76-4783-97c6-34c96bc0d7a0",
   "metadata": {},
   "outputs": [
    {
     "data": {
      "text/plain": [
       "['hello', 'hema', 'mira', 'kisuu', 'banu']"
      ]
     },
     "execution_count": 8,
     "metadata": {},
     "output_type": "execute_result"
    }
   ],
   "source": [
    "l1"
   ]
  },
  {
   "cell_type": "code",
   "execution_count": 9,
   "id": "6017e9d3-5c64-4c7a-86b5-e288374bab70",
   "metadata": {},
   "outputs": [
    {
     "data": {
      "text/plain": [
       "5"
      ]
     },
     "execution_count": 9,
     "metadata": {},
     "output_type": "execute_result"
    }
   ],
   "source": [
    "len(l1)"
   ]
  },
  {
   "cell_type": "code",
   "execution_count": 10,
   "id": "cfdd135f-e445-44aa-a309-6f4b24dcc476",
   "metadata": {},
   "outputs": [
    {
     "data": {
      "text/plain": [
       "[]"
      ]
     },
     "execution_count": 10,
     "metadata": {},
     "output_type": "execute_result"
    }
   ],
   "source": [
    "list(range(len(l1),0))"
   ]
  },
  {
   "cell_type": "code",
   "execution_count": 6,
   "id": "ebdc4a70-7e89-4989-9697-ef26891d34c2",
   "metadata": {},
   "outputs": [
    {
     "data": {
      "text/plain": [
       "[4, 3, 2, 1]"
      ]
     },
     "execution_count": 6,
     "metadata": {},
     "output_type": "execute_result"
    }
   ],
   "source": [
    "list (range (len(l1)-1,0,-1))"
   ]
  },
  {
   "cell_type": "code",
   "execution_count": 11,
   "id": "71ebe2e2-91f3-425a-ad48-993821e1e161",
   "metadata": {},
   "outputs": [
    {
     "name": "stdout",
     "output_type": "stream",
     "text": [
      "banu\n",
      "kisuu\n",
      "mira\n",
      "hema\n"
     ]
    }
   ],
   "source": [
    "for i in range(len(l1)-1,0,-1):\n",
    "    print(l1[i])\n",
    "    "
   ]
  },
  {
   "cell_type": "code",
   "execution_count": 13,
   "id": "7f64a9a7-1727-419d-b4eb-50156fe9aa0c",
   "metadata": {},
   "outputs": [
    {
     "data": {
      "text/plain": [
       "[4, 3, 2, 1, 0]"
      ]
     },
     "execution_count": 13,
     "metadata": {},
     "output_type": "execute_result"
    }
   ],
   "source": [
    "list(range(len(l1)-1,-1,-1))"
   ]
  },
  {
   "cell_type": "code",
   "execution_count": 12,
   "id": "13c58c93-cb43-4098-aff1-3d815bdd7c9d",
   "metadata": {},
   "outputs": [
    {
     "name": "stdout",
     "output_type": "stream",
     "text": [
      "banu\n",
      "kisuu\n",
      "mira\n",
      "hema\n",
      "hello\n"
     ]
    }
   ],
   "source": [
    "for i in range(len(l1)-1,-1,-1):\n",
    "    print(l1[i])"
   ]
  },
  {
   "cell_type": "code",
   "execution_count": 17,
   "id": "b9fbe0ab-7b3b-42ac-a524-485b838ed9e2",
   "metadata": {},
   "outputs": [],
   "source": [
    "l2 =[23,5,67,89,99,76,54,33,23,13]"
   ]
  },
  {
   "cell_type": "code",
   "execution_count": 26,
   "id": "c898af9a-b3c9-44ee-875f-11587e5195e7",
   "metadata": {},
   "outputs": [
    {
     "data": {
      "text/plain": [
       "[5, 89, 76, 33, 13]"
      ]
     },
     "execution_count": 26,
     "metadata": {},
     "output_type": "execute_result"
    }
   ],
   "source": [
    "l2[1::2]             ## metho 1 "
   ]
  },
  {
   "cell_type": "code",
   "execution_count": 27,
   "id": "0f2e2e1b-2d89-4621-92d7-1fc2161695ba",
   "metadata": {},
   "outputs": [
    {
     "data": {
      "text/plain": [
       "[0, 2, 4, 6, 8]"
      ]
     },
     "execution_count": 27,
     "metadata": {},
     "output_type": "execute_result"
    }
   ],
   "source": [
    "list(range(0,len(l2),2))"
   ]
  },
  {
   "cell_type": "code",
   "execution_count": 28,
   "id": "f4d00636-c440-44d9-8491-562b07905978",
   "metadata": {},
   "outputs": [
    {
     "name": "stdout",
     "output_type": "stream",
     "text": [
      "5\n",
      "89\n",
      "76\n",
      "33\n",
      "13\n"
     ]
    }
   ],
   "source": [
    "for i in range (1,len(l2),2):    ## metho 2\n",
    "    print(l2[i])"
   ]
  },
  {
   "cell_type": "code",
   "execution_count": 29,
   "id": "4e83aa53-14c4-43d0-9555-6122896c9581",
   "metadata": {},
   "outputs": [],
   "source": [
    "l3 = [1,2,3,4,7,8,99]"
   ]
  },
  {
   "cell_type": "code",
   "execution_count": 30,
   "id": "6d4f639a-a783-45e1-93d9-d04690a8aa1f",
   "metadata": {},
   "outputs": [
    {
     "data": {
      "text/plain": [
       "124"
      ]
     },
     "execution_count": 30,
     "metadata": {},
     "output_type": "execute_result"
    }
   ],
   "source": [
    "result=0                                       # r=0  , r=r+i == 0+1 == 1 , 1+2 == 3 , 3+3 == 6 ,6+4 ==10 ,10+7 ==17 , 17+8 == 25 ,25+99 == 124\n",
    "for i in l3:\n",
    "    result = result +i\n",
    "result\n",
    "    "
   ]
  },
  {
   "cell_type": "code",
   "execution_count": 31,
   "id": "35462c59-d737-437c-a3a9-264dd1342a07",
   "metadata": {},
   "outputs": [
    {
     "data": {
      "text/plain": [
       "124"
      ]
     },
     "execution_count": 31,
     "metadata": {},
     "output_type": "execute_result"
    }
   ],
   "source": [
    "sum(l3)     ## using function "
   ]
  },
  {
   "cell_type": "code",
   "execution_count": 32,
   "id": "955af926-df61-4246-a788-3eea2e5bb5f8",
   "metadata": {},
   "outputs": [],
   "source": [
    "t = (1,2,3,4,5,6,7,89)"
   ]
  },
  {
   "cell_type": "code",
   "execution_count": 33,
   "id": "f5fc709b-3be7-4807-800b-43fdb307808e",
   "metadata": {},
   "outputs": [
    {
     "name": "stdout",
     "output_type": "stream",
     "text": [
      "1\n",
      "2\n",
      "3\n",
      "4\n",
      "5\n",
      "6\n",
      "7\n",
      "89\n"
     ]
    }
   ],
   "source": [
    "for i in t:\n",
    "    print(i)"
   ]
  },
  {
   "cell_type": "code",
   "execution_count": 34,
   "id": "e683198e-2672-41f4-9c0b-221990bc34e9",
   "metadata": {},
   "outputs": [
    {
     "data": {
      "text/plain": [
       "117"
      ]
     },
     "execution_count": 34,
     "metadata": {},
     "output_type": "execute_result"
    }
   ],
   "source": [
    "result=0                                       # r=0  , r=r+i == 0+1 == 1 , 1+2 == 3 , 3+3 == 6 ,6+4 ==10 ,10+7 ==17 , 17+8 == 25 ,25+99 == 124\n",
    "for i in t:\n",
    "    result = result +i\n",
    "result\n",
    "    "
   ]
  },
  {
   "cell_type": "code",
   "execution_count": 35,
   "id": "6371613b-11b0-4175-8c86-14a1e687113a",
   "metadata": {},
   "outputs": [],
   "source": [
    "s = {1,2,3,4,5,6,\"hema\",\"pw\"}"
   ]
  },
  {
   "cell_type": "code",
   "execution_count": 36,
   "id": "b50a4bae-d1a7-4ff1-81fa-ebe4ca6eaaac",
   "metadata": {},
   "outputs": [
    {
     "name": "stdout",
     "output_type": "stream",
     "text": [
      "1\n",
      "2\n",
      "3\n",
      "4\n",
      "5\n",
      "6\n",
      "pw\n",
      "hema\n"
     ]
    }
   ],
   "source": [
    "for i in s:\n",
    "    print(i)"
   ]
  },
  {
   "cell_type": "code",
   "execution_count": 37,
   "id": "bc300eff-1a12-4994-90b2-142396a20804",
   "metadata": {},
   "outputs": [],
   "source": [
    "s1 = \"pwskills\""
   ]
  },
  {
   "cell_type": "code",
   "execution_count": 38,
   "id": "f0058db9-cdd3-4abe-93db-4d5524ca07b5",
   "metadata": {},
   "outputs": [
    {
     "name": "stdout",
     "output_type": "stream",
     "text": [
      "p\n",
      "w\n",
      "s\n",
      "k\n",
      "i\n",
      "l\n",
      "l\n",
      "s\n"
     ]
    }
   ],
   "source": [
    "for i in s1:\n",
    "    print(i)"
   ]
  },
  {
   "cell_type": "code",
   "execution_count": 40,
   "id": "7dbaab1d-835d-48cd-a644-00307d6539bf",
   "metadata": {},
   "outputs": [
    {
     "name": "stdout",
     "output_type": "stream",
     "text": [
      "s\n",
      "l\n",
      "l\n",
      "i\n",
      "k\n",
      "s\n",
      "w\n",
      "p\n"
     ]
    }
   ],
   "source": [
    "for i in range(len(s1)-1,-1,-1):\n",
    "    print(s1[i])"
   ]
  },
  {
   "cell_type": "code",
   "execution_count": 41,
   "id": "5f58d408-48d2-4181-9c9b-13a5c3f10efe",
   "metadata": {},
   "outputs": [],
   "source": [
    "d = {\"name\": \"hemangi\" , \"class\" : \"data science master\",\"topic\" :[\"pytho\",\"stat\",\"machine learning\",\"dl\",\"nlp\",\"resume\",\"interview\"]}"
   ]
  },
  {
   "cell_type": "code",
   "execution_count": 42,
   "id": "53d29c13-341b-4961-ba13-ba0f39833ccc",
   "metadata": {},
   "outputs": [
    {
     "data": {
      "text/plain": [
       "{'name': 'hemangi',\n",
       " 'class': 'data science master',\n",
       " 'topic': ['pytho',\n",
       "  'stat',\n",
       "  'machine learning',\n",
       "  'dl',\n",
       "  'nlp',\n",
       "  'resume',\n",
       "  'interview']}"
      ]
     },
     "execution_count": 42,
     "metadata": {},
     "output_type": "execute_result"
    }
   ],
   "source": [
    "d"
   ]
  },
  {
   "cell_type": "code",
   "execution_count": 43,
   "id": "959e61eb-2f34-4afd-b8bc-02bcbd4aee42",
   "metadata": {},
   "outputs": [
    {
     "data": {
      "text/plain": [
       "'hemangi'"
      ]
     },
     "execution_count": 43,
     "metadata": {},
     "output_type": "execute_result"
    }
   ],
   "source": [
    "d[\"name\"]"
   ]
  },
  {
   "cell_type": "code",
   "execution_count": 44,
   "id": "c46fce50-c831-46a7-9903-3367a2ecee61",
   "metadata": {},
   "outputs": [
    {
     "data": {
      "text/plain": [
       "dict_keys(['name', 'class', 'topic'])"
      ]
     },
     "execution_count": 44,
     "metadata": {},
     "output_type": "execute_result"
    }
   ],
   "source": [
    "d.keys()"
   ]
  },
  {
   "cell_type": "code",
   "execution_count": 49,
   "id": "1b38e62e-20a8-4c8f-8480-9b7c466711de",
   "metadata": {},
   "outputs": [
    {
     "name": "stdout",
     "output_type": "stream",
     "text": [
      "name\n",
      "class\n",
      "topic\n"
     ]
    }
   ],
   "source": [
    "for i in d.keys():\n",
    "    print(i)"
   ]
  },
  {
   "cell_type": "code",
   "execution_count": 46,
   "id": "56d1c1c3-4eda-4252-8e0c-e02f5e39bf2b",
   "metadata": {},
   "outputs": [
    {
     "name": "stdout",
     "output_type": "stream",
     "text": [
      "hemangi\n",
      "data science master\n",
      "['pytho', 'stat', 'machine learning', 'dl', 'nlp', 'resume', 'interview']\n"
     ]
    }
   ],
   "source": [
    "for i in d.keys():\n",
    "    print(d[i])"
   ]
  },
  {
   "cell_type": "code",
   "execution_count": 47,
   "id": "22f510be-e0cb-4471-9d3e-a0c1ac222409",
   "metadata": {},
   "outputs": [
    {
     "data": {
      "text/plain": [
       "dict_values(['hemangi', 'data science master', ['pytho', 'stat', 'machine learning', 'dl', 'nlp', 'resume', 'interview']])"
      ]
     },
     "execution_count": 47,
     "metadata": {},
     "output_type": "execute_result"
    }
   ],
   "source": [
    "d.values()"
   ]
  },
  {
   "cell_type": "code",
   "execution_count": 48,
   "id": "bc15c8c7-f79e-477c-be08-de03b6ec04d7",
   "metadata": {},
   "outputs": [
    {
     "name": "stdout",
     "output_type": "stream",
     "text": [
      "hemangi\n",
      "data science master\n",
      "['pytho', 'stat', 'machine learning', 'dl', 'nlp', 'resume', 'interview']\n"
     ]
    }
   ],
   "source": [
    "for i in d.values():\n",
    "    print(i)"
   ]
  },
  {
   "cell_type": "code",
   "execution_count": 50,
   "id": "9fe51cba-da21-44c6-aac0-0def1fb63d61",
   "metadata": {},
   "outputs": [
    {
     "name": "stdout",
     "output_type": "stream",
     "text": [
      "('name', 'hemangi')\n",
      "('class', 'data science master')\n",
      "('topic', ['pytho', 'stat', 'machine learning', 'dl', 'nlp', 'resume', 'interview'])\n"
     ]
    }
   ],
   "source": [
    "for i in d.items():\n",
    "    print(i)"
   ]
  },
  {
   "cell_type": "code",
   "execution_count": null,
   "id": "ce0bde64-a635-43d1-83bc-fd05dfd42b18",
   "metadata": {},
   "outputs": [],
   "source": []
  }
 ],
 "metadata": {
  "kernelspec": {
   "display_name": "Python 3 (ipykernel)",
   "language": "python",
   "name": "python3"
  },
  "language_info": {
   "codemirror_mode": {
    "name": "ipython",
    "version": 3
   },
   "file_extension": ".py",
   "mimetype": "text/x-python",
   "name": "python",
   "nbconvert_exporter": "python",
   "pygments_lexer": "ipython3",
   "version": "3.10.8"
  }
 },
 "nbformat": 4,
 "nbformat_minor": 5
}
