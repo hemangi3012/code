{
 "cells": [
  {
   "cell_type": "code",
   "execution_count": 1,
   "id": "fa0a6c18-d1b8-49c2-a7f8-5048fb81d6e2",
   "metadata": {},
   "outputs": [
    {
     "name": "stdout",
     "output_type": "stream",
     "text": [
      "division by zero\n"
     ]
    }
   ],
   "source": [
    "#use always a specific exception \n",
    "try:\n",
    "    10/0\n",
    "except Exception as e :\n",
    "    print(e)"
   ]
  },
  {
   "cell_type": "code",
   "execution_count": 2,
   "id": "7cc1fca0-52c7-4f75-886d-a533f66f3426",
   "metadata": {},
   "outputs": [
    {
     "name": "stdout",
     "output_type": "stream",
     "text": [
      "division by zero\n"
     ]
    }
   ],
   "source": [
    "try:\n",
    "    a=10/0\n",
    "except ZeroDivisionError as e:\n",
    "    print(e)\n",
    "    "
   ]
  },
  {
   "cell_type": "code",
   "execution_count": 3,
   "id": "ad004c2c-6f48-4f26-ab9f-2e238a86491b",
   "metadata": {},
   "outputs": [
    {
     "name": "stdout",
     "output_type": "stream",
     "text": [
      "i am trying to handle a zerodivision error division by zero\n"
     ]
    }
   ],
   "source": [
    "# print alway a proper message \n",
    "try:\n",
    "    a=10/0\n",
    "except ZeroDivisionError as e:\n",
    "    print(\"i am trying to handle a zerodivision error\",e)"
   ]
  },
  {
   "cell_type": "code",
   "execution_count": 4,
   "id": "00cbfbe4-701c-45fd-a61e-545b6567aebf",
   "metadata": {},
   "outputs": [],
   "source": [
    "#always try to log your error\n",
    "import logging\n",
    "logging.basicConfig(filename=\"error.log\",level=logging.ERROR)\n",
    "try:\n",
    "    a=10/0\n",
    "except ZeroDivisionError as e:\n",
    "    logging.error(\"i am trying to handle a serodivision error {}\".format(e))"
   ]
  },
  {
   "cell_type": "code",
   "execution_count": 5,
   "id": "17a7ef7d-6215-43e3-b184-08ed2dd6993c",
   "metadata": {},
   "outputs": [],
   "source": [
    "#alwaus avoid to write a multiple exception handling \n",
    "try:\n",
    "    10/0\n",
    "except FileNotFoundError as e:\n",
    "    logging.error(\"i am trying to handle file not found  error {}\".format(e))\n",
    "except AttributeError as e:\n",
    "    logging.error(\"i am trying to handle attributre  error {}\".format(e))\n",
    "except ZeroDivisionError as e:\n",
    "    logging.error(\"i am trying to handle a serodivision error {}\".format(e))"
   ]
  },
  {
   "cell_type": "code",
   "execution_count": null,
   "id": "bddc3305-d0d3-4834-82a5-c8365c89cc05",
   "metadata": {},
   "outputs": [],
   "source": [
    "# Document all the error \n",
    "# cleanup all the resources\n",
    "try:\n",
    "    with open(\"hema.txt\",\"w\")as f:\n",
    "        f.write(\"this is my data file \")\n",
    "except FileNotFoundError as e :\n",
    "         logging.error(\"i am trying to handle file not found  error {}\".format(e))\n",
    "finally:\n",
    "    f.close()"
   ]
  }
 ],
 "metadata": {
  "kernelspec": {
   "display_name": "Python 3 (ipykernel)",
   "language": "python",
   "name": "python3"
  },
  "language_info": {
   "codemirror_mode": {
    "name": "ipython",
    "version": 3
   },
   "file_extension": ".py",
   "mimetype": "text/x-python",
   "name": "python",
   "nbconvert_exporter": "python",
   "pygments_lexer": "ipython3",
   "version": "3.10.8"
  }
 },
 "nbformat": 4,
 "nbformat_minor": 5
}
