{
 "cells": [
  {
   "cell_type": "code",
   "execution_count": null,
   "id": "36062142-cac6-4af8-9a8c-e920f2e6f655",
   "metadata": {},
   "outputs": [],
   "source": []
  },
  {
   "cell_type": "code",
   "execution_count": 11,
   "id": "63aabe18-0ca0-4a8e-a145-961935717a5c",
   "metadata": {},
   "outputs": [
    {
     "name": "stdin",
     "output_type": "stream",
     "text": [
      "enter your age :=  63\n"
     ]
    }
   ],
   "source": [
    "age = int(input(\"enter your age := \"))"
   ]
  },
  {
   "cell_type": "code",
   "execution_count": 12,
   "id": "c8474946-d6bc-4741-8abf-e55fc62af596",
   "metadata": {},
   "outputs": [],
   "source": [
    "class validateage(Exception):\n",
    "    \n",
    "    def __init__(self,msg):\n",
    "        self.msg=msg"
   ]
  },
  {
   "cell_type": "code",
   "execution_count": 13,
   "id": "12a1197b-e0c1-4f48-b682-ce0cc2160f37",
   "metadata": {},
   "outputs": [],
   "source": [
    "def validateage (age):\n",
    "    if age < 0:\n",
    "        raise validateage(\"enter age is negative\")\n",
    "    elif age > 200:\n",
    "        raise validateage(\"enter age is very very high\")\n",
    "    else:\n",
    "        print(\"age is valid\")"
   ]
  },
  {
   "cell_type": "code",
   "execution_count": 16,
   "id": "fb0ea11b-4b6d-473a-9996-3fbbba462ef9",
   "metadata": {},
   "outputs": [
    {
     "name": "stdin",
     "output_type": "stream",
     "text": [
      "enter your age :=  100\n"
     ]
    },
    {
     "name": "stdout",
     "output_type": "stream",
     "text": [
      "age is valid\n"
     ]
    }
   ],
   "source": [
    "try:\n",
    "    age = int(input(\"enter your age := \"))\n",
    "    validateage(age)\n",
    "except validateage as e :\n",
    "    print(e)"
   ]
  },
  {
   "cell_type": "code",
   "execution_count": null,
   "id": "d2f78ba7-73ce-455e-b583-ac8a292c9fd2",
   "metadata": {},
   "outputs": [],
   "source": []
  }
 ],
 "metadata": {
  "kernelspec": {
   "display_name": "Python 3 (ipykernel)",
   "language": "python",
   "name": "python3"
  },
  "language_info": {
   "codemirror_mode": {
    "name": "ipython",
    "version": 3
   },
   "file_extension": ".py",
   "mimetype": "text/x-python",
   "name": "python",
   "nbconvert_exporter": "python",
   "pygments_lexer": "ipython3",
   "version": "3.10.8"
  }
 },
 "nbformat": 4,
 "nbformat_minor": 5
}
