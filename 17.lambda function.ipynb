{
 "cells": [
  {
   "cell_type": "code",
   "execution_count": 1,
   "id": "1cfa60d0-1493-4b8c-87dc-7f575a9d60a3",
   "metadata": {},
   "outputs": [],
   "source": [
    "n=3\n",
    "p=2"
   ]
  },
  {
   "cell_type": "code",
   "execution_count": 2,
   "id": "8e4879eb-c502-4036-b913-845df454ee3d",
   "metadata": {},
   "outputs": [],
   "source": [
    "def test(n,p):\n",
    "    return n**p\n",
    "    "
   ]
  },
  {
   "cell_type": "code",
   "execution_count": 11,
   "id": "970213c0-02b3-4bd3-b14a-14bd9bcd4c01",
   "metadata": {},
   "outputs": [
    {
     "data": {
      "text/plain": [
       "9"
      ]
     },
     "execution_count": 11,
     "metadata": {},
     "output_type": "execute_result"
    }
   ],
   "source": [
    "test(3,2)"
   ]
  },
  {
   "cell_type": "code",
   "execution_count": 12,
   "id": "97206265-b44d-4289-aec2-719822bb6a6d",
   "metadata": {},
   "outputs": [
    {
     "data": {
      "text/plain": [
       "64"
      ]
     },
     "execution_count": 12,
     "metadata": {},
     "output_type": "execute_result"
    }
   ],
   "source": [
    "test(4,3)"
   ]
  },
  {
   "cell_type": "code",
   "execution_count": 6,
   "id": "c234d4cc-ab10-4400-a8d5-fb33721d5d06",
   "metadata": {},
   "outputs": [
    {
     "data": {
      "text/plain": [
       "<function __main__.<lambda>(n, p)>"
      ]
     },
     "execution_count": 6,
     "metadata": {},
     "output_type": "execute_result"
    }
   ],
   "source": [
    " lambda n,p:n**p"
   ]
  },
  {
   "cell_type": "code",
   "execution_count": 7,
   "id": "20ede9af-049c-434e-b50b-85a9f0c0215a",
   "metadata": {},
   "outputs": [],
   "source": [
    "a= lambda n,p:n**p"
   ]
  },
  {
   "cell_type": "code",
   "execution_count": 8,
   "id": "5751a062-d95f-4e73-a6f8-14a91975db2b",
   "metadata": {},
   "outputs": [
    {
     "data": {
      "text/plain": [
       "10000000000"
      ]
     },
     "execution_count": 8,
     "metadata": {},
     "output_type": "execute_result"
    }
   ],
   "source": [
    "a(10,10)"
   ]
  },
  {
   "cell_type": "code",
   "execution_count": 9,
   "id": "10b00a2a-48e3-44d8-b9a6-008b981b64ad",
   "metadata": {},
   "outputs": [
    {
     "data": {
      "text/plain": [
       "25"
      ]
     },
     "execution_count": 9,
     "metadata": {},
     "output_type": "execute_result"
    }
   ],
   "source": [
    "a(5,2)"
   ]
  },
  {
   "cell_type": "code",
   "execution_count": 19,
   "id": "b068080d-0667-4a25-be4f-ecd44d342c95",
   "metadata": {},
   "outputs": [],
   "source": [
    "add =lambda x,y : x+y   ## ::::::::: must not ==== add is veriable to store lambda function value"
   ]
  },
  {
   "cell_type": "code",
   "execution_count": 20,
   "id": "52db2beb-559a-4839-8c12-2777e72b5031",
   "metadata": {},
   "outputs": [
    {
     "data": {
      "text/plain": [
       "90"
      ]
     },
     "execution_count": 20,
     "metadata": {},
     "output_type": "execute_result"
    }
   ],
   "source": [
    "add(10,80)"
   ]
  },
  {
   "cell_type": "code",
   "execution_count": 21,
   "id": "66079989-d7de-4fbe-a29e-8a6c7febc98e",
   "metadata": {},
   "outputs": [],
   "source": [
    "c_to_f = lambda c : (9/5)*c+32"
   ]
  },
  {
   "cell_type": "code",
   "execution_count": 22,
   "id": "ba3c20c8-1a42-423a-b800-c605817a56a2",
   "metadata": {},
   "outputs": [
    {
     "data": {
      "text/plain": [
       "41.0"
      ]
     },
     "execution_count": 22,
     "metadata": {},
     "output_type": "execute_result"
    }
   ],
   "source": [
    "c_to_f(5)"
   ]
  },
  {
   "cell_type": "code",
   "execution_count": 32,
   "id": "20c08dfb-f688-4b45-9823-4d832111e843",
   "metadata": {},
   "outputs": [],
   "source": [
    "finding_max = lambda x , y : x if x>y else y"
   ]
  },
  {
   "cell_type": "code",
   "execution_count": 33,
   "id": "2e8f9ae5-0009-4ad6-a776-f19332e6f4d9",
   "metadata": {},
   "outputs": [
    {
     "data": {
      "text/plain": [
       "99"
      ]
     },
     "execution_count": 33,
     "metadata": {},
     "output_type": "execute_result"
    }
   ],
   "source": [
    "finding_max(55,99)"
   ]
  },
  {
   "cell_type": "code",
   "execution_count": 34,
   "id": "02f7ac57-5481-45fe-a802-fa05be88b9f7",
   "metadata": {},
   "outputs": [],
   "source": [
    "s = \"pwskills\""
   ]
  },
  {
   "cell_type": "code",
   "execution_count": 35,
   "id": "c708cd48-2db9-4749-a37a-a802f5fd6e9a",
   "metadata": {},
   "outputs": [],
   "source": [
    "find_length = lambda s : len(s)"
   ]
  },
  {
   "cell_type": "code",
   "execution_count": 36,
   "id": "4f80d597-c3a3-48dc-9a14-4bf26fe4a1ad",
   "metadata": {},
   "outputs": [
    {
     "data": {
      "text/plain": [
       "8"
      ]
     },
     "execution_count": 36,
     "metadata": {},
     "output_type": "execute_result"
    }
   ],
   "source": [
    "find_length(s)"
   ]
  },
  {
   "cell_type": "code",
   "execution_count": 37,
   "id": "d57a56c8-d8d0-4c15-a97b-1d2945a0b96b",
   "metadata": {},
   "outputs": [],
   "source": [
    "finding_max = lambda x , y : x if x<y else y"
   ]
  },
  {
   "cell_type": "code",
   "execution_count": 38,
   "id": "a21b4e13-3982-4a69-bc68-227606f3e6fb",
   "metadata": {},
   "outputs": [
    {
     "data": {
      "text/plain": [
       "55"
      ]
     },
     "execution_count": 38,
     "metadata": {},
     "output_type": "execute_result"
    }
   ],
   "source": [
    "finding_max(55,99)"
   ]
  }
 ],
 "metadata": {
  "kernelspec": {
   "display_name": "Python 3 (ipykernel)",
   "language": "python",
   "name": "python3"
  },
  "language_info": {
   "codemirror_mode": {
    "name": "ipython",
    "version": 3
   },
   "file_extension": ".py",
   "mimetype": "text/x-python",
   "name": "python",
   "nbconvert_exporter": "python",
   "pygments_lexer": "ipython3",
   "version": "3.10.8"
  }
 },
 "nbformat": 4,
 "nbformat_minor": 5
}
