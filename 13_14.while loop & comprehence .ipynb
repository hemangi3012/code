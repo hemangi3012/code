{
 "cells": [
  {
   "cell_type": "code",
   "execution_count": 1,
   "id": "5c50ad48-6561-4528-b914-1dcef94d9485",
   "metadata": {},
   "outputs": [],
   "source": [
    " ##################  While Loop #########################"
   ]
  },
  {
   "cell_type": "code",
   "execution_count": 2,
   "id": "34594a52-3408-4c6d-9576-01f12d678dd3",
   "metadata": {},
   "outputs": [
    {
     "name": "stdout",
     "output_type": "stream",
     "text": [
      "1\n",
      "2\n",
      "3\n",
      "4\n",
      "5\n",
      "6\n",
      "7\n",
      "8\n",
      "9\n",
      "10\n"
     ]
    }
   ],
   "source": [
    "a=1\n",
    "                                            ## while loop phela condition check kre \n",
    "while a<= 10 :             # check 1<= 10 == true           check 2<=10==true\n",
    "    print(a)                    #print 1                        print=2\n",
    "    a=a+1                   # a=1+1==2                      a=2+1==3 "
   ]
  },
  {
   "cell_type": "markdown",
   "id": "aa5a5a27-14b8-4df1-b875-e305087a5a3b",
   "metadata": {},
   "source": [
    "# sumof the number till some point"
   ]
  },
  {
   "cell_type": "code",
   "execution_count": 6,
   "id": "bae12f58-3ffb-480c-b455-dd6edc156523",
   "metadata": {},
   "outputs": [
    {
     "name": "stdin",
     "output_type": "stream",
     "text": [
      "enter your limit :=  5\n"
     ]
    },
    {
     "data": {
      "text/plain": [
       "15"
      ]
     },
     "execution_count": 6,
     "metadata": {},
     "output_type": "execute_result"
    }
   ],
   "source": [
    "n= int(input(\"enter your limit := \"))\n",
    "starting_point =0 \n",
    "counter = 1\n",
    "\n",
    "while counter <= n:\n",
    "    starting_point = starting_point + counter\n",
    "    counter = counter + 1\n",
    "starting_point "
   ]
  },
  {
   "cell_type": "markdown",
   "id": "bb9943ce-25c6-4e2b-a8a8-254a7bc73e78",
   "metadata": {},
   "source": [
    "factorial"
   ]
  },
  {
   "cell_type": "code",
   "execution_count": 3,
   "id": "016325ca-486f-4572-8122-4d1ecc7ddc36",
   "metadata": {},
   "outputs": [
    {
     "name": "stdin",
     "output_type": "stream",
     "text": [
      "enter your number :=  5\n"
     ]
    },
    {
     "data": {
      "text/plain": [
       "120"
      ]
     },
     "execution_count": 3,
     "metadata": {},
     "output_type": "execute_result"
    }
   ],
   "source": [
    "number=int(input(\"enter your number := \"))          # 3!= 3*2*1               fact =3  \n",
    "fact = 1                                             #fact =1                  n=2 \n",
    "while number > 0:                                       #3>0== TRUE           2>0==true\n",
    "    fact = fact * number                             # FACT = 1*3 =3          fact=2*3=6\n",
    "    number = number-1                                 # N = 3-1==2            n=2-1==1 \n",
    "fact"
   ]
  },
  {
   "cell_type": "markdown",
   "id": "7ffef8b3-da7c-492e-b086-be31c7e79cac",
   "metadata": {},
   "source": [
    "fibonacci series "
   ]
  },
  {
   "cell_type": "code",
   "execution_count": 6,
   "id": "7fccd999-80b0-4d51-90cf-749901efda82",
   "metadata": {},
   "outputs": [
    {
     "name": "stdin",
     "output_type": "stream",
     "text": [
      "enter the  number of element you are looking for :=  10\n"
     ]
    },
    {
     "name": "stdout",
     "output_type": "stream",
     "text": [
      "0\n",
      "1\n",
      "1\n",
      "2\n",
      "3\n",
      "5\n",
      "8\n",
      "13\n",
      "21\n",
      "34\n"
     ]
    }
   ],
   "source": [
    "number=int(input(\"enter the  number of element you are looking for := \"))\n",
    "a,b=0,1\n",
    "counter=0\n",
    "while counter < number :\n",
    "    print(a)\n",
    "    c = a+b\n",
    "    a=b\n",
    "    b=c\n",
    "    counter = counter + 1"
   ]
  },
  {
   "cell_type": "code",
   "execution_count": 7,
   "id": "290925dc-352c-4351-ba93-e00080ef232e",
   "metadata": {},
   "outputs": [
    {
     "name": "stdout",
     "output_type": "stream",
     "text": [
      "0\n",
      "1\n",
      "1\n",
      "2\n",
      "3\n",
      "5\n",
      "8\n",
      "13\n",
      "21\n",
      "34\n"
     ]
    }
   ],
   "source": [
    "a,b=0,1\n",
    "for i in range(10):\n",
    "    print(a)\n",
    "    c=a+b\n",
    "    a=b\n",
    "    b=c"
   ]
  },
  {
   "cell_type": "code",
   "execution_count": 8,
   "id": "21193040-3303-46b5-a1f1-7cd0f8607bab",
   "metadata": {},
   "outputs": [],
   "source": [
    "s= \"hemangi\""
   ]
  },
  {
   "cell_type": "code",
   "execution_count": 9,
   "id": "0c432a59-9a95-44e0-a4b5-aca8dec8643d",
   "metadata": {},
   "outputs": [
    {
     "data": {
      "text/plain": [
       "'ignameh'"
      ]
     },
     "execution_count": 9,
     "metadata": {},
     "output_type": "execute_result"
    }
   ],
   "source": [
    "s[::-1]"
   ]
  },
  {
   "cell_type": "code",
   "execution_count": 12,
   "id": "9fcf116f-ca6e-4c82-87bb-a73afa30935e",
   "metadata": {},
   "outputs": [
    {
     "data": {
      "text/plain": [
       "7"
      ]
     },
     "execution_count": 12,
     "metadata": {},
     "output_type": "execute_result"
    }
   ],
   "source": [
    "len(s)"
   ]
  },
  {
   "cell_type": "code",
   "execution_count": 10,
   "id": "6a57aa3c-f038-45d1-9250-1cfd5b3d23ec",
   "metadata": {},
   "outputs": [
    {
     "name": "stdin",
     "output_type": "stream",
     "text": [
      "\n",
      " enter your string for reversal :=  hemangi\n"
     ]
    }
   ],
   "source": [
    "word=input(\"\\n enter your string for reversal := \")"
   ]
  },
  {
   "cell_type": "code",
   "execution_count": 11,
   "id": "bd8619c0-2454-4952-9fad-f962bc9ad863",
   "metadata": {},
   "outputs": [
    {
     "name": "stdout",
     "output_type": "stream",
     "text": [
      "ignameh\n"
     ]
    }
   ],
   "source": [
    "revers = \"\"\n",
    "length = len(word) # 7\n",
    "while length > 0:  # 7>0 == t\n",
    "    revers = revers + word[length -1]  # r = \"\" + word[7-1=6(i)]\n",
    "    length = length - 1\n",
    "print(revers)"
   ]
  },
  {
   "cell_type": "markdown",
   "id": "0ab86d64-0e3a-4b91-b19a-27e39d0c41fa",
   "metadata": {},
   "source": [
    " #############################   Print table of number  ##################"
   ]
  },
  {
   "cell_type": "code",
   "execution_count": 14,
   "id": "c49a3874-6f0f-41a5-a608-df55ffa86ef9",
   "metadata": {},
   "outputs": [
    {
     "name": "stdin",
     "output_type": "stream",
     "text": [
      "enter your number :=  21\n"
     ]
    },
    {
     "name": "stdout",
     "output_type": "stream",
     "text": [
      "21 * 1 = 21\n",
      "21 * 2 = 42\n",
      "21 * 3 = 63\n",
      "21 * 4 = 84\n",
      "21 * 5 = 105\n",
      "21 * 6 = 126\n",
      "21 * 7 = 147\n",
      "21 * 8 = 168\n",
      "21 * 9 = 189\n",
      "21 * 10 = 210\n"
     ]
    }
   ],
   "source": [
    "n = int (input (\"enter your number := \"))\n",
    "i=1\n",
    "while i <= 10 :\n",
    "    result = n * i\n",
    "    print(n, \"*\" , i ,\"=\",result)\n",
    "    i= i+1\n",
    "     "
   ]
  },
  {
   "cell_type": "code",
   "execution_count": 15,
   "id": "2beddbc4-efa3-4045-93a0-4c47203261dd",
   "metadata": {},
   "outputs": [
    {
     "name": "stdin",
     "output_type": "stream",
     "text": [
      "enter your number :=  12\n"
     ]
    },
    {
     "name": "stdout",
     "output_type": "stream",
     "text": [
      "12 * 1 = 12\n",
      "12 * 2 = 24\n",
      "12 * 3 = 36\n",
      "12 * 4 = 48\n",
      "12 * 5 = 60\n",
      "12 * 6 = 72\n",
      "12 * 7 = 84\n",
      "12 * 8 = 96\n",
      "12 * 9 = 108\n",
      "12 * 10 = 120\n",
      "12 * 11 = 132\n",
      "12 * 12 = 144\n",
      "12 * 13 = 156\n",
      "12 * 14 = 168\n",
      "12 * 15 = 180\n",
      "12 * 16 = 192\n",
      "12 * 17 = 204\n",
      "12 * 18 = 216\n",
      "12 * 19 = 228\n",
      "12 * 20 = 240\n"
     ]
    }
   ],
   "source": [
    "n = int (input (\"enter your number := \"))\n",
    "i=1\n",
    "while i <= 20 :\n",
    "    result = n * i\n",
    "    print(n, \"*\" , i ,\"=\",result)\n",
    "    i= i+1\n",
    "     "
   ]
  },
  {
   "cell_type": "code",
   "execution_count": 27,
   "id": "8c8527a0-503f-4fea-8f3f-6e125508c005",
   "metadata": {},
   "outputs": [
    {
     "name": "stdin",
     "output_type": "stream",
     "text": [
      "enter your number :=  3\n"
     ]
    },
    {
     "name": "stdout",
     "output_type": "stream",
     "text": [
      "3 * 1 = 3\n",
      "3 * 2 = 6\n",
      "3 * 3 = 9\n",
      "3 * 4 = 12\n",
      "3 * 5 = 15\n",
      "3 * 6 = 18\n",
      "3 * 7 = 21\n",
      "3 * 8 = 24\n",
      "3 * 9 = 27\n",
      "3 * 10 = 30\n"
     ]
    }
   ],
   "source": [
    "n = int (input (\"enter your number := \"))\n",
    "for i in range(10):\n",
    "    print(n , \"*\" , i+1 , \"=\",n*(i+1))"
   ]
  },
  {
   "cell_type": "code",
   "execution_count": 28,
   "id": "af26d78a-e5e0-4869-b734-119a21e536ab",
   "metadata": {},
   "outputs": [
    {
     "name": "stdout",
     "output_type": "stream",
     "text": [
      "1\n",
      "2\n",
      "3\n",
      "4\n",
      "this will be executed once your while will complete it succesfully \n"
     ]
    }
   ],
   "source": [
    "n = 5\n",
    "i = 1\n",
    "while i < 5:\n",
    "    print(i)\n",
    "    i=i+1\n",
    "else:\n",
    "    print(\"this will be executed once your while will complete it succesfully \")"
   ]
  },
  {
   "cell_type": "code",
   "execution_count": 29,
   "id": "337b1f4e-918b-41b1-8408-2db8a329b559",
   "metadata": {},
   "outputs": [
    {
     "name": "stdout",
     "output_type": "stream",
     "text": [
      "1\n",
      "2\n",
      "3\n"
     ]
    }
   ],
   "source": [
    "n = 5\n",
    "i = 1\n",
    "while i < 5:\n",
    "    print(i)\n",
    "    if i == 3:\n",
    "        break\n",
    "    i=i+1\n",
    "else:\n",
    "    print(\"this will be executed once your while will complete it succesfully \")"
   ]
  },
  {
   "cell_type": "markdown",
   "id": "c5ae0247-4490-4362-8ef1-f08f4c89e2ea",
   "metadata": {},
   "source": [
    " ##########################  comprehence ###########################"
   ]
  },
  {
   "cell_type": "code",
   "execution_count": 1,
   "id": "ee0b5300-5285-47f5-bb82-5de7973adb97",
   "metadata": {},
   "outputs": [],
   "source": [
    "l=[1,2,3,4,5,6,7,8,9]\n",
    "l1=[]\n",
    "for i in l:\n",
    "    l1.append(i*i*i)"
   ]
  },
  {
   "cell_type": "code",
   "execution_count": 2,
   "id": "eb10867d-616a-4171-8cc6-0bae92371350",
   "metadata": {},
   "outputs": [
    {
     "data": {
      "text/plain": [
       "[1, 8, 27, 64, 125, 216, 343, 512, 729]"
      ]
     },
     "execution_count": 2,
     "metadata": {},
     "output_type": "execute_result"
    }
   ],
   "source": [
    "l1"
   ]
  },
  {
   "cell_type": "code",
   "execution_count": 32,
   "id": "03b04547-985b-420d-a784-c38734e52e03",
   "metadata": {},
   "outputs": [
    {
     "data": {
      "text/plain": [
       "[1, 2, 3, 4, 5, 6, 7, 8, 9]"
      ]
     },
     "execution_count": 32,
     "metadata": {},
     "output_type": "execute_result"
    }
   ],
   "source": [
    "l"
   ]
  },
  {
   "cell_type": "code",
   "execution_count": 33,
   "id": "ff619de9-eab3-420f-b3be-59914fae61d0",
   "metadata": {},
   "outputs": [
    {
     "data": {
      "text/plain": [
       "[1, 4, 9, 16, 25, 36, 49, 64, 81]"
      ]
     },
     "execution_count": 33,
     "metadata": {},
     "output_type": "execute_result"
    }
   ],
   "source": [
    "[i**2 for i in l] "
   ]
  },
  {
   "cell_type": "code",
   "execution_count": 37,
   "id": "d0b8a2eb-b809-4715-815f-a1a416291f5a",
   "metadata": {},
   "outputs": [
    {
     "ename": "SyntaxError",
     "evalue": "expected 'else' after 'if' expression (3169540554.py, line 1)",
     "output_type": "error",
     "traceback": [
      "\u001b[0;36m  Cell \u001b[0;32mIn[37], line 1\u001b[0;36m\u001b[0m\n\u001b[0;31m    [i if i % 2 == 0 for i in l]\u001b[0m\n\u001b[0m     ^\u001b[0m\n\u001b[0;31mSyntaxError\u001b[0m\u001b[0;31m:\u001b[0m expected 'else' after 'if' expression\n"
     ]
    }
   ],
   "source": [
    "[i if i % 2 == 0 for i in l]"
   ]
  },
  {
   "cell_type": "code",
   "execution_count": 4,
   "id": "d0370289-7830-4928-bc69-fc0ddd0c2d61",
   "metadata": {},
   "outputs": [
    {
     "data": {
      "text/plain": [
       "[2, 4, 6, 8]"
      ]
     },
     "execution_count": 4,
     "metadata": {},
     "output_type": "execute_result"
    }
   ],
   "source": [
    "[i for i in l if i % 2 == 0]"
   ]
  },
  {
   "cell_type": "code",
   "execution_count": 38,
   "id": "c8e8d1a3-c1b8-4ea2-81c9-9f8e514035dc",
   "metadata": {},
   "outputs": [],
   "source": [
    "l2=[\"hello\" , \"hema\" , \"mira\" ,\"kisuu\"]"
   ]
  },
  {
   "cell_type": "code",
   "execution_count": 39,
   "id": "e941483d-26da-4b4f-9b10-891136d1d4ee",
   "metadata": {},
   "outputs": [
    {
     "data": {
      "text/plain": [
       "['HELLO', 'HEMA', 'MIRA', 'KISUU']"
      ]
     },
     "execution_count": 39,
     "metadata": {},
     "output_type": "execute_result"
    }
   ],
   "source": [
    "[i.upper() for i in l2]"
   ]
  },
  {
   "cell_type": "code",
   "execution_count": 40,
   "id": "cace89cc-0296-452a-bfa2-5821d82c8300",
   "metadata": {},
   "outputs": [
    {
     "data": {
      "text/plain": [
       "[1, 2, 3, 4, 5, 6, 7, 8, 9]"
      ]
     },
     "execution_count": 40,
     "metadata": {},
     "output_type": "execute_result"
    }
   ],
   "source": [
    "l"
   ]
  },
  {
   "cell_type": "code",
   "execution_count": 43,
   "id": "ebc85d4b-6e91-4c9c-a0f9-2e95f018f7c1",
   "metadata": {},
   "outputs": [
    {
     "data": {
      "text/plain": [
       "[1, 4, 9, 16, 25, 36, 49, 64, 81]"
      ]
     },
     "execution_count": 43,
     "metadata": {},
     "output_type": "execute_result"
    }
   ],
   "source": [
    "list(i**2 for i in l)"
   ]
  },
  {
   "cell_type": "code",
   "execution_count": 44,
   "id": "a611307a-c197-4491-bd08-b35114dc1706",
   "metadata": {},
   "outputs": [],
   "source": [
    "d ={\"key1\" : 1 , \"key2\" : 2 , \"key3\" : 8 , \"key4\" : 11}"
   ]
  },
  {
   "cell_type": "code",
   "execution_count": 46,
   "id": "4b939d5d-bdad-42f8-b94d-35201dd9bbaa",
   "metadata": {},
   "outputs": [
    {
     "data": {
      "text/plain": [
       "dict_items([('key1', 1), ('key2', 2), ('key3', 8), ('key4', 11)])"
      ]
     },
     "execution_count": 46,
     "metadata": {},
     "output_type": "execute_result"
    }
   ],
   "source": [
    "d.items()"
   ]
  },
  {
   "cell_type": "code",
   "execution_count": 45,
   "id": "af655267-233f-4bf7-9e45-6e664ee24c1f",
   "metadata": {},
   "outputs": [
    {
     "data": {
      "text/plain": [
       "{'key1': 1, 'key2': 4, 'key3': 64, 'key4': 121}"
      ]
     },
     "execution_count": 45,
     "metadata": {},
     "output_type": "execute_result"
    }
   ],
   "source": [
    "{k:v**2 for k , v in d.items()}"
   ]
  },
  {
   "cell_type": "code",
   "execution_count": 47,
   "id": "ef773eca-8b7c-4a4f-9d40-c52229409826",
   "metadata": {},
   "outputs": [
    {
     "data": {
      "text/plain": [
       "{'key1': 1, 'key2': 2, 'key3': 8, 'key4': 11}"
      ]
     },
     "execution_count": 47,
     "metadata": {},
     "output_type": "execute_result"
    }
   ],
   "source": [
    "d"
   ]
  },
  {
   "cell_type": "code",
   "execution_count": 50,
   "id": "f57eaea1-7b14-4f89-9b36-e271fd4dc488",
   "metadata": {},
   "outputs": [
    {
     "data": {
      "text/plain": [
       "{'key2': 2, 'key3': 8, 'key4': 11}"
      ]
     },
     "execution_count": 50,
     "metadata": {},
     "output_type": "execute_result"
    }
   ],
   "source": [
    "{k:v for k , v in d.items() if v>1}"
   ]
  },
  {
   "cell_type": "code",
   "execution_count": null,
   "id": "8a071c27-6be9-40e4-a3f3-c7410322246b",
   "metadata": {},
   "outputs": [],
   "source": []
  }
 ],
 "metadata": {
  "kernelspec": {
   "display_name": "Python 3 (ipykernel)",
   "language": "python",
   "name": "python3"
  },
  "language_info": {
   "codemirror_mode": {
    "name": "ipython",
    "version": 3
   },
   "file_extension": ".py",
   "mimetype": "text/x-python",
   "name": "python",
   "nbconvert_exporter": "python",
   "pygments_lexer": "ipython3",
   "version": "3.10.8"
  }
 },
 "nbformat": 4,
 "nbformat_minor": 5
}
