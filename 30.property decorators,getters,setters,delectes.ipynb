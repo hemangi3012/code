{
 "cells": [
  {
   "cell_type": "code",
   "execution_count": 1,
   "id": "7b23d955-890c-4784-9604-f5aa00f7a0d5",
   "metadata": {},
   "outputs": [],
   "source": [
    "class pwskills:\n",
    "    def __init__(self,C_price,C_name): \n",
    "        self.__C_price=C_price\n",
    "        self.C_name=C_name"
   ]
  },
  {
   "cell_type": "code",
   "execution_count": 2,
   "id": "95a6f279-18dc-4849-9327-f2031ae559b7",
   "metadata": {},
   "outputs": [],
   "source": [
    "pw=pwskills(3200,\"data science \")"
   ]
  },
  {
   "cell_type": "code",
   "execution_count": 3,
   "id": "33481c79-1f3f-4194-be66-1025831f8fda",
   "metadata": {},
   "outputs": [
    {
     "ename": "AttributeError",
     "evalue": "'pwskills' object has no attribute '__C_price'",
     "output_type": "error",
     "traceback": [
      "\u001b[0;31m---------------------------------------------------------------------------\u001b[0m",
      "\u001b[0;31mAttributeError\u001b[0m                            Traceback (most recent call last)",
      "Cell \u001b[0;32mIn[3], line 1\u001b[0m\n\u001b[0;32m----> 1\u001b[0m \u001b[43mpw\u001b[49m\u001b[38;5;241;43m.\u001b[39;49m\u001b[43m__C_price\u001b[49m\n",
      "\u001b[0;31mAttributeError\u001b[0m: 'pwskills' object has no attribute '__C_price'"
     ]
    }
   ],
   "source": [
    "pw.__C_price"
   ]
  },
  {
   "cell_type": "code",
   "execution_count": 6,
   "id": "8a1287f3-71df-41a2-a211-81deace015b3",
   "metadata": {},
   "outputs": [
    {
     "data": {
      "text/plain": [
       "3200"
      ]
     },
     "execution_count": 6,
     "metadata": {},
     "output_type": "execute_result"
    }
   ],
   "source": [
    "pw._pwskills__C_price            ## class name must define "
   ]
  },
  {
   "cell_type": "code",
   "execution_count": 7,
   "id": "68930163-1177-415e-bd8e-12fd93dbe23c",
   "metadata": {},
   "outputs": [
    {
     "data": {
      "text/plain": [
       "'data science '"
      ]
     },
     "execution_count": 7,
     "metadata": {},
     "output_type": "execute_result"
    }
   ],
   "source": [
    "pw.C_name"
   ]
  },
  {
   "cell_type": "code",
   "execution_count": 18,
   "id": "b64b2c7c-a054-4dfa-8d00-ff41d8e74e64",
   "metadata": {},
   "outputs": [],
   "source": [
    "class pwskills:\n",
    "    def __init__(self,C_price,C_name): \n",
    "        \n",
    "        self.__C_price=C_price\n",
    "        self.C_name=C_name\n",
    "        \n",
    "    @property\n",
    "    def C_price_access(self):\n",
    "        return self.__C_price\n",
    "    \n",
    "    @C_price_access.setter\n",
    "    def C_price_set(self,price):\n",
    "        if price <= 3500:\n",
    "            pass\n",
    "        else:\n",
    "            self.__C_price=price\n",
    "            \n",
    "    @C_price_access.deleter\n",
    "    def delete_C_price(self):\n",
    "        del self.__C_price"
   ]
  },
  {
   "cell_type": "code",
   "execution_count": 19,
   "id": "1a6d6ac0-9665-4dbb-b7e0-0dd383d74dfb",
   "metadata": {},
   "outputs": [],
   "source": [
    "pw=pwskills(3200,\"data science\")"
   ]
  },
  {
   "cell_type": "code",
   "execution_count": 20,
   "id": "109ec640-8201-4be4-a86d-000689bd72ef",
   "metadata": {},
   "outputs": [
    {
     "data": {
      "text/plain": [
       "3200"
      ]
     },
     "execution_count": 20,
     "metadata": {},
     "output_type": "execute_result"
    }
   ],
   "source": [
    "pw.C_price_access"
   ]
  },
  {
   "cell_type": "code",
   "execution_count": 21,
   "id": "6231e705-d9ab-4532-9954-7d2f17999941",
   "metadata": {},
   "outputs": [],
   "source": [
    "pw.C_price_set=4500"
   ]
  },
  {
   "cell_type": "code",
   "execution_count": 22,
   "id": "4ba01aa8-8cbc-436a-8b79-36b30fcdf5c0",
   "metadata": {},
   "outputs": [
    {
     "data": {
      "text/plain": [
       "4500"
      ]
     },
     "execution_count": 22,
     "metadata": {},
     "output_type": "execute_result"
    }
   ],
   "source": [
    "pw.C_price_access"
   ]
  },
  {
   "cell_type": "code",
   "execution_count": 23,
   "id": "c23b8823-3c38-454e-a908-9eb72368eaab",
   "metadata": {},
   "outputs": [],
   "source": [
    "del pw.delete_C_price"
   ]
  },
  {
   "cell_type": "code",
   "execution_count": 24,
   "id": "db1a0554-263e-44b6-a02e-4583a0f22667",
   "metadata": {},
   "outputs": [
    {
     "ename": "AttributeError",
     "evalue": "'pwskills' object has no attribute '_pwskills__C_price'",
     "output_type": "error",
     "traceback": [
      "\u001b[0;31m---------------------------------------------------------------------------\u001b[0m",
      "\u001b[0;31mAttributeError\u001b[0m                            Traceback (most recent call last)",
      "Cell \u001b[0;32mIn[24], line 1\u001b[0m\n\u001b[0;32m----> 1\u001b[0m \u001b[43mpw\u001b[49m\u001b[38;5;241;43m.\u001b[39;49m\u001b[43mdelete_C_price\u001b[49m\n",
      "Cell \u001b[0;32mIn[18], line 9\u001b[0m, in \u001b[0;36mpwskills.C_price_access\u001b[0;34m(self)\u001b[0m\n\u001b[1;32m      7\u001b[0m \u001b[38;5;129m@property\u001b[39m\n\u001b[1;32m      8\u001b[0m \u001b[38;5;28;01mdef\u001b[39;00m \u001b[38;5;21mC_price_access\u001b[39m(\u001b[38;5;28mself\u001b[39m):\n\u001b[0;32m----> 9\u001b[0m     \u001b[38;5;28;01mreturn\u001b[39;00m \u001b[38;5;28;43mself\u001b[39;49m\u001b[38;5;241;43m.\u001b[39;49m\u001b[43m__C_price\u001b[49m\n",
      "\u001b[0;31mAttributeError\u001b[0m: 'pwskills' object has no attribute '_pwskills__C_price'"
     ]
    }
   ],
   "source": [
    "pw.delete_C_price"
   ]
  },
  {
   "cell_type": "code",
   "execution_count": null,
   "id": "1d0dc9b3-bb07-4cf1-872f-b80a3fd87d20",
   "metadata": {},
   "outputs": [],
   "source": []
  }
 ],
 "metadata": {
  "kernelspec": {
   "display_name": "Python 3 (ipykernel)",
   "language": "python",
   "name": "python3"
  },
  "language_info": {
   "codemirror_mode": {
    "name": "ipython",
    "version": 3
   },
   "file_extension": ".py",
   "mimetype": "text/x-python",
   "name": "python",
   "nbconvert_exporter": "python",
   "pygments_lexer": "ipython3",
   "version": "3.10.8"
  }
 },
 "nbformat": 4,
 "nbformat_minor": 5
}
