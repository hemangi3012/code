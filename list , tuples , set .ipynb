{
 "cells": [
  {
   "cell_type": "code",
   "execution_count": 3,
   "id": "e35e8955-7f02-4575-b578-d61378ea9b5d",
   "metadata": {},
   "outputs": [],
   "source": [
    "l = [1,345,45,\"hema\",True,325.412]"
   ]
  },
  {
   "cell_type": "code",
   "execution_count": 5,
   "id": "b69813e4-e3d7-413d-849f-3631c39f0d04",
   "metadata": {},
   "outputs": [
    {
     "data": {
      "text/plain": [
       "list"
      ]
     },
     "execution_count": 5,
     "metadata": {},
     "output_type": "execute_result"
    }
   ],
   "source": [
    "type(l)"
   ]
  },
  {
   "cell_type": "code",
   "execution_count": 6,
   "id": "b251bfcd-4d4b-4edd-bc29-dbdd20355646",
   "metadata": {},
   "outputs": [
    {
     "data": {
      "text/plain": [
       "1"
      ]
     },
     "execution_count": 6,
     "metadata": {},
     "output_type": "execute_result"
    }
   ],
   "source": [
    "l[0]"
   ]
  },
  {
   "cell_type": "code",
   "execution_count": 7,
   "id": "e16b3f16-2b93-4fb1-83ff-32c3ef5b774c",
   "metadata": {},
   "outputs": [
    {
     "ename": "IndexError",
     "evalue": "list index out of range",
     "output_type": "error",
     "traceback": [
      "\u001b[0;31m---------------------------------------------------------------------------\u001b[0m",
      "\u001b[0;31mIndexError\u001b[0m                                Traceback (most recent call last)",
      "Cell \u001b[0;32mIn[7], line 1\u001b[0m\n\u001b[0;32m----> 1\u001b[0m \u001b[43ml\u001b[49m\u001b[43m[\u001b[49m\u001b[38;5;241;43m6\u001b[39;49m\u001b[43m]\u001b[49m\n",
      "\u001b[0;31mIndexError\u001b[0m: list index out of range"
     ]
    }
   ],
   "source": [
    "l[6]"
   ]
  },
  {
   "cell_type": "code",
   "execution_count": 8,
   "id": "e7601007-46fc-499c-ba0c-75045763a147",
   "metadata": {},
   "outputs": [
    {
     "data": {
      "text/plain": [
       "325.412"
      ]
     },
     "execution_count": 8,
     "metadata": {},
     "output_type": "execute_result"
    }
   ],
   "source": [
    "l[5]"
   ]
  },
  {
   "cell_type": "code",
   "execution_count": 9,
   "id": "3cd4d6c2-d327-4e61-a8c4-53e33c59e60e",
   "metadata": {},
   "outputs": [
    {
     "name": "stdout",
     "output_type": "stream",
     "text": [
      "[1, 345, 45, 'hema', True, 325.412]\n"
     ]
    }
   ],
   "source": [
    "print(l)"
   ]
  },
  {
   "cell_type": "code",
   "execution_count": 10,
   "id": "30916e67-3466-4849-a176-9182f650ef48",
   "metadata": {},
   "outputs": [
    {
     "data": {
      "text/plain": [
       "[1, 345, 45, 'hema', True, 325.412]"
      ]
     },
     "execution_count": 10,
     "metadata": {},
     "output_type": "execute_result"
    }
   ],
   "source": [
    "l"
   ]
  },
  {
   "cell_type": "code",
   "execution_count": 11,
   "id": "5b5a8bd6-d483-4b77-a8bb-caa8ec093f2f",
   "metadata": {},
   "outputs": [
    {
     "data": {
      "text/plain": [
       "[1, 345, 45]"
      ]
     },
     "execution_count": 11,
     "metadata": {},
     "output_type": "execute_result"
    }
   ],
   "source": [
    "l[0:3]"
   ]
  },
  {
   "cell_type": "code",
   "execution_count": 12,
   "id": "f003727d-e505-40e1-8e07-b152ad5a5408",
   "metadata": {},
   "outputs": [
    {
     "data": {
      "text/plain": [
       "325.412"
      ]
     },
     "execution_count": 12,
     "metadata": {},
     "output_type": "execute_result"
    }
   ],
   "source": [
    "l[-1]"
   ]
  },
  {
   "cell_type": "code",
   "execution_count": 13,
   "id": "fd3f2a9e-d5f5-4b61-b8c4-1f6193c78fa0",
   "metadata": {},
   "outputs": [
    {
     "data": {
      "text/plain": [
       "[325.412, True, 'hema', 45, 345, 1]"
      ]
     },
     "execution_count": 13,
     "metadata": {},
     "output_type": "execute_result"
    }
   ],
   "source": [
    "l[::-1]"
   ]
  },
  {
   "cell_type": "code",
   "execution_count": 14,
   "id": "be4b3a6b-965b-4597-a4f5-421eec354318",
   "metadata": {},
   "outputs": [
    {
     "data": {
      "text/plain": [
       "[1, 45, True]"
      ]
     },
     "execution_count": 14,
     "metadata": {},
     "output_type": "execute_result"
    }
   ],
   "source": [
    "l[::2]"
   ]
  },
  {
   "cell_type": "code",
   "execution_count": 15,
   "id": "efd193de-4939-4098-89f0-f3426572a62e",
   "metadata": {},
   "outputs": [
    {
     "data": {
      "text/plain": [
       "[1, 345, 45, 'hema', True, 325.412]"
      ]
     },
     "execution_count": 15,
     "metadata": {},
     "output_type": "execute_result"
    }
   ],
   "source": [
    "l"
   ]
  },
  {
   "cell_type": "code",
   "execution_count": 16,
   "id": "1ccd8fb5-6921-4dfe-ae10-72fbed461358",
   "metadata": {},
   "outputs": [],
   "source": [
    "s = \"pwskills\""
   ]
  },
  {
   "cell_type": "code",
   "execution_count": 17,
   "id": "bda5f2bb-d71c-4ca8-b2e1-5e0654c91698",
   "metadata": {},
   "outputs": [
    {
     "ename": "TypeError",
     "evalue": "can only concatenate list (not \"str\") to list",
     "output_type": "error",
     "traceback": [
      "\u001b[0;31m---------------------------------------------------------------------------\u001b[0m",
      "\u001b[0;31mTypeError\u001b[0m                                 Traceback (most recent call last)",
      "Cell \u001b[0;32mIn[17], line 1\u001b[0m\n\u001b[0;32m----> 1\u001b[0m \u001b[43ml\u001b[49m\u001b[38;5;241;43m+\u001b[39;49m\u001b[43ms\u001b[49m\n",
      "\u001b[0;31mTypeError\u001b[0m: can only concatenate list (not \"str\") to list"
     ]
    }
   ],
   "source": [
    "l+s"
   ]
  },
  {
   "cell_type": "code",
   "execution_count": 18,
   "id": "be5c0f74-846d-4afc-9c7e-ff0652a334f9",
   "metadata": {},
   "outputs": [
    {
     "data": {
      "text/plain": [
       "['p', 'w', 's', 'k', 'i', 'l', 'l', 's']"
      ]
     },
     "execution_count": 18,
     "metadata": {},
     "output_type": "execute_result"
    }
   ],
   "source": [
    "list(s)"
   ]
  },
  {
   "cell_type": "code",
   "execution_count": 19,
   "id": "18b94474-1273-47ba-93d0-9f7d5bc65faf",
   "metadata": {},
   "outputs": [],
   "source": [
    "l.append(s)"
   ]
  },
  {
   "cell_type": "code",
   "execution_count": 20,
   "id": "9c1c9eb8-117d-4f20-a71a-affedf175999",
   "metadata": {},
   "outputs": [
    {
     "data": {
      "text/plain": [
       "[1, 345, 45, 'hema', True, 325.412, 'pwskills']"
      ]
     },
     "execution_count": 20,
     "metadata": {},
     "output_type": "execute_result"
    }
   ],
   "source": [
    "l"
   ]
  },
  {
   "cell_type": "code",
   "execution_count": 21,
   "id": "fb116b4e-3d3f-4ae0-99db-c0c5ad158d33",
   "metadata": {},
   "outputs": [
    {
     "data": {
      "text/plain": [
       "'hema'"
      ]
     },
     "execution_count": 21,
     "metadata": {},
     "output_type": "execute_result"
    }
   ],
   "source": [
    "l[3]"
   ]
  },
  {
   "cell_type": "code",
   "execution_count": 22,
   "id": "eeb17755-a089-4c06-80b9-83312cefab4f",
   "metadata": {},
   "outputs": [
    {
     "data": {
      "text/plain": [
       "'hem'"
      ]
     },
     "execution_count": 22,
     "metadata": {},
     "output_type": "execute_result"
    }
   ],
   "source": [
    "l[3][0:3]"
   ]
  },
  {
   "cell_type": "code",
   "execution_count": 23,
   "id": "941cb227-11c2-4f18-8261-dbc9a57081bd",
   "metadata": {},
   "outputs": [
    {
     "ename": "TypeError",
     "evalue": "'bool' object is not subscriptable",
     "output_type": "error",
     "traceback": [
      "\u001b[0;31m---------------------------------------------------------------------------\u001b[0m",
      "\u001b[0;31mTypeError\u001b[0m                                 Traceback (most recent call last)",
      "Cell \u001b[0;32mIn[23], line 1\u001b[0m\n\u001b[0;32m----> 1\u001b[0m \u001b[43ml\u001b[49m\u001b[43m[\u001b[49m\u001b[38;5;241;43m4\u001b[39;49m\u001b[43m]\u001b[49m\u001b[43m[\u001b[49m\u001b[38;5;241;43m0\u001b[39;49m\u001b[43m:\u001b[49m\u001b[38;5;241;43m3\u001b[39;49m\u001b[43m]\u001b[49m\n",
      "\u001b[0;31mTypeError\u001b[0m: 'bool' object is not subscriptable"
     ]
    }
   ],
   "source": [
    "l[4][0:3]"
   ]
  },
  {
   "cell_type": "code",
   "execution_count": 24,
   "id": "9516e5a7-8a68-4b25-b8ab-25d2de2d567e",
   "metadata": {},
   "outputs": [
    {
     "data": {
      "text/plain": [
       "True"
      ]
     },
     "execution_count": 24,
     "metadata": {},
     "output_type": "execute_result"
    }
   ],
   "source": [
    "l[4]"
   ]
  },
  {
   "cell_type": "code",
   "execution_count": 25,
   "id": "19604fb1-489e-441f-b31e-c22986e3f676",
   "metadata": {},
   "outputs": [
    {
     "ename": "TypeError",
     "evalue": "'bool' object is not subscriptable",
     "output_type": "error",
     "traceback": [
      "\u001b[0;31m---------------------------------------------------------------------------\u001b[0m",
      "\u001b[0;31mTypeError\u001b[0m                                 Traceback (most recent call last)",
      "Cell \u001b[0;32mIn[25], line 1\u001b[0m\n\u001b[0;32m----> 1\u001b[0m \u001b[43ml\u001b[49m\u001b[43m[\u001b[49m\u001b[38;5;241;43m4\u001b[39;49m\u001b[43m]\u001b[49m\u001b[43m[\u001b[49m\u001b[38;5;241;43m0\u001b[39;49m\u001b[43m:\u001b[49m\u001b[38;5;241;43m3\u001b[39;49m\u001b[43m]\u001b[49m\n",
      "\u001b[0;31mTypeError\u001b[0m: 'bool' object is not subscriptable"
     ]
    }
   ],
   "source": [
    "l[4][0:3]"
   ]
  },
  {
   "cell_type": "code",
   "execution_count": 26,
   "id": "1de5220f-07a0-4ef0-b7f9-53183a36f2e9",
   "metadata": {},
   "outputs": [
    {
     "data": {
      "text/plain": [
       "'Tr'"
      ]
     },
     "execution_count": 26,
     "metadata": {},
     "output_type": "execute_result"
    }
   ],
   "source": [
    "str(l[4])[0:2]"
   ]
  },
  {
   "cell_type": "code",
   "execution_count": 27,
   "id": "a5882eba-825a-4be4-8d6c-f1d5fd972350",
   "metadata": {},
   "outputs": [
    {
     "data": {
      "text/plain": [
       "[1, 345, 45, 'hema', True, 325.412, 'pwskills']"
      ]
     },
     "execution_count": 27,
     "metadata": {},
     "output_type": "execute_result"
    }
   ],
   "source": [
    "l"
   ]
  },
  {
   "cell_type": "code",
   "execution_count": 28,
   "id": "d8d537cb-b7fb-4bd4-adec-696f167bcfc9",
   "metadata": {},
   "outputs": [
    {
     "ename": "TypeError",
     "evalue": "can only concatenate list (not \"int\") to list",
     "output_type": "error",
     "traceback": [
      "\u001b[0;31m---------------------------------------------------------------------------\u001b[0m",
      "\u001b[0;31mTypeError\u001b[0m                                 Traceback (most recent call last)",
      "Cell \u001b[0;32mIn[28], line 1\u001b[0m\n\u001b[0;32m----> 1\u001b[0m \u001b[43ml\u001b[49m\u001b[38;5;241;43m+\u001b[39;49m\u001b[38;5;241;43m5\u001b[39;49m\n",
      "\u001b[0;31mTypeError\u001b[0m: can only concatenate list (not \"int\") to list"
     ]
    }
   ],
   "source": [
    "l+5"
   ]
  },
  {
   "cell_type": "code",
   "execution_count": 29,
   "id": "b9056124-c5ee-41b0-bc26-8a26be7c699f",
   "metadata": {},
   "outputs": [],
   "source": [
    "l1 =[3,4,5]"
   ]
  },
  {
   "cell_type": "code",
   "execution_count": 30,
   "id": "c5974fed-7c7c-481f-82b2-19b3ff92c0ee",
   "metadata": {},
   "outputs": [
    {
     "data": {
      "text/plain": [
       "[1, 345, 45, 'hema', True, 325.412, 'pwskills', 3, 4, 5]"
      ]
     },
     "execution_count": 30,
     "metadata": {},
     "output_type": "execute_result"
    }
   ],
   "source": [
    "l+l1"
   ]
  },
  {
   "cell_type": "code",
   "execution_count": 31,
   "id": "4df7128d-3e56-4f3a-914e-0607895908ca",
   "metadata": {},
   "outputs": [
    {
     "data": {
      "text/plain": [
       "[3, 4, 5]"
      ]
     },
     "execution_count": 31,
     "metadata": {},
     "output_type": "execute_result"
    }
   ],
   "source": [
    "l1"
   ]
  },
  {
   "cell_type": "code",
   "execution_count": 32,
   "id": "20721948-c0c9-4234-bcdb-d016b5b9d208",
   "metadata": {},
   "outputs": [
    {
     "data": {
      "text/plain": [
       "[3, 4, 5, 3, 4, 5, 3, 4, 5]"
      ]
     },
     "execution_count": 32,
     "metadata": {},
     "output_type": "execute_result"
    }
   ],
   "source": [
    "l1*3"
   ]
  },
  {
   "cell_type": "code",
   "execution_count": 33,
   "id": "f6a568e8-5989-4c63-9695-47be82827dff",
   "metadata": {},
   "outputs": [
    {
     "data": {
      "text/plain": [
       "[1, 345, 45, 'hema', True, 325.412, 'pwskills']"
      ]
     },
     "execution_count": 33,
     "metadata": {},
     "output_type": "execute_result"
    }
   ],
   "source": [
    "l"
   ]
  },
  {
   "cell_type": "code",
   "execution_count": 34,
   "id": "b2ca421d-da4b-490f-bb0f-c8cc049156ac",
   "metadata": {},
   "outputs": [
    {
     "data": {
      "text/plain": [
       "7"
      ]
     },
     "execution_count": 34,
     "metadata": {},
     "output_type": "execute_result"
    }
   ],
   "source": [
    "len(l)"
   ]
  },
  {
   "cell_type": "code",
   "execution_count": 35,
   "id": "bbf36b30-4b65-412e-b11a-2627ea4f5c02",
   "metadata": {},
   "outputs": [
    {
     "data": {
      "text/plain": [
       "[1, 345, 45, 'hema', True, 325.412, 'pwskills']"
      ]
     },
     "execution_count": 35,
     "metadata": {},
     "output_type": "execute_result"
    }
   ],
   "source": [
    "l"
   ]
  },
  {
   "cell_type": "code",
   "execution_count": 36,
   "id": "5d8e98f6-2b46-4e63-bacc-fde133342539",
   "metadata": {},
   "outputs": [],
   "source": [
    "l.append(5)"
   ]
  },
  {
   "cell_type": "code",
   "execution_count": 37,
   "id": "682c2b69-3944-4811-8b91-822a66389e13",
   "metadata": {},
   "outputs": [
    {
     "data": {
      "text/plain": [
       "[1, 345, 45, 'hema', True, 325.412, 'pwskills', 5]"
      ]
     },
     "execution_count": 37,
     "metadata": {},
     "output_type": "execute_result"
    }
   ],
   "source": [
    "l"
   ]
  },
  {
   "cell_type": "code",
   "execution_count": 38,
   "id": "e35da52b-05a7-4eb5-b34a-110379909200",
   "metadata": {},
   "outputs": [
    {
     "data": {
      "text/plain": [
       "'pwskills'"
      ]
     },
     "execution_count": 38,
     "metadata": {},
     "output_type": "execute_result"
    }
   ],
   "source": [
    "s"
   ]
  },
  {
   "cell_type": "code",
   "execution_count": 39,
   "id": "6c263a7b-8052-4367-806f-4a32fa38a0ce",
   "metadata": {},
   "outputs": [
    {
     "data": {
      "text/plain": [
       "[1, 345, 45, 'hema', True, 325.412, 'pwskills', 5]"
      ]
     },
     "execution_count": 39,
     "metadata": {},
     "output_type": "execute_result"
    }
   ],
   "source": [
    "l"
   ]
  },
  {
   "cell_type": "code",
   "execution_count": 40,
   "id": "dfc229c7-df26-437d-8223-21e7b4a08802",
   "metadata": {},
   "outputs": [
    {
     "data": {
      "text/plain": [
       "[3, 4, 5]"
      ]
     },
     "execution_count": 40,
     "metadata": {},
     "output_type": "execute_result"
    }
   ],
   "source": [
    "l1"
   ]
  },
  {
   "cell_type": "code",
   "execution_count": 41,
   "id": "641e8683-8f5a-4afd-ae3d-87de39eb97ad",
   "metadata": {},
   "outputs": [],
   "source": [
    "l.append(l1)"
   ]
  },
  {
   "cell_type": "code",
   "execution_count": 42,
   "id": "c0511297-fcce-4394-9173-534d0763ddbc",
   "metadata": {},
   "outputs": [
    {
     "data": {
      "text/plain": [
       "[1, 345, 45, 'hema', True, 325.412, 'pwskills', 5, [3, 4, 5]]"
      ]
     },
     "execution_count": 42,
     "metadata": {},
     "output_type": "execute_result"
    }
   ],
   "source": [
    "l"
   ]
  },
  {
   "cell_type": "code",
   "execution_count": 43,
   "id": "0bbec213-d5ae-4eba-aec6-520731ec12b3",
   "metadata": {},
   "outputs": [
    {
     "data": {
      "text/plain": [
       "[3, 4, 5]"
      ]
     },
     "execution_count": 43,
     "metadata": {},
     "output_type": "execute_result"
    }
   ],
   "source": [
    "l[-1]"
   ]
  },
  {
   "cell_type": "code",
   "execution_count": 45,
   "id": "a2cb0892-3ebc-4fe6-9f6e-2a9aa5aec46f",
   "metadata": {},
   "outputs": [
    {
     "data": {
      "text/plain": [
       "4"
      ]
     },
     "execution_count": 45,
     "metadata": {},
     "output_type": "execute_result"
    }
   ],
   "source": [
    "l[-1][1]"
   ]
  },
  {
   "cell_type": "code",
   "execution_count": 46,
   "id": "37a7a559-0c16-431a-824b-4fbb06cf69c0",
   "metadata": {},
   "outputs": [
    {
     "data": {
      "text/plain": [
       "[1, 345, 45, 'hema', True, 325.412, 'pwskills', 5, [3, 4, 5]]"
      ]
     },
     "execution_count": 46,
     "metadata": {},
     "output_type": "execute_result"
    }
   ],
   "source": [
    "l"
   ]
  },
  {
   "cell_type": "code",
   "execution_count": 47,
   "id": "68bb1783-6ee6-4e32-9ca9-bf45c092b4ec",
   "metadata": {},
   "outputs": [
    {
     "ename": "TypeError",
     "evalue": "'int' object is not iterable",
     "output_type": "error",
     "traceback": [
      "\u001b[0;31m---------------------------------------------------------------------------\u001b[0m",
      "\u001b[0;31mTypeError\u001b[0m                                 Traceback (most recent call last)",
      "Cell \u001b[0;32mIn[47], line 1\u001b[0m\n\u001b[0;32m----> 1\u001b[0m \u001b[43ml\u001b[49m\u001b[38;5;241;43m.\u001b[39;49m\u001b[43mextend\u001b[49m\u001b[43m(\u001b[49m\u001b[38;5;241;43m4\u001b[39;49m\u001b[43m)\u001b[49m\n",
      "\u001b[0;31mTypeError\u001b[0m: 'int' object is not iterable"
     ]
    }
   ],
   "source": [
    "l.extend(4)"
   ]
  },
  {
   "cell_type": "code",
   "execution_count": 48,
   "id": "ccf48708-9738-41e8-9a62-5156487047a0",
   "metadata": {},
   "outputs": [],
   "source": [
    "l.extend(\"hema\")  ## string "
   ]
  },
  {
   "cell_type": "code",
   "execution_count": 49,
   "id": "1b68ddd0-f6bd-452e-b74f-012dc5d7b83c",
   "metadata": {},
   "outputs": [
    {
     "data": {
      "text/plain": [
       "[1,\n",
       " 345,\n",
       " 45,\n",
       " 'hema',\n",
       " True,\n",
       " 325.412,\n",
       " 'pwskills',\n",
       " 5,\n",
       " [3, 4, 5],\n",
       " 'h',\n",
       " 'e',\n",
       " 'm',\n",
       " 'a']"
      ]
     },
     "execution_count": 49,
     "metadata": {},
     "output_type": "execute_result"
    }
   ],
   "source": [
    "l"
   ]
  },
  {
   "cell_type": "code",
   "execution_count": 50,
   "id": "096b1cd4-ea12-431b-bf65-e36f1445d113",
   "metadata": {},
   "outputs": [],
   "source": [
    "l.extend([3,6,7])    "
   ]
  },
  {
   "cell_type": "code",
   "execution_count": 51,
   "id": "ef3a58ec-dedb-4166-9aa5-747ba02ced51",
   "metadata": {},
   "outputs": [
    {
     "data": {
      "text/plain": [
       "[1,\n",
       " 345,\n",
       " 45,\n",
       " 'hema',\n",
       " True,\n",
       " 325.412,\n",
       " 'pwskills',\n",
       " 5,\n",
       " [3, 4, 5],\n",
       " 'h',\n",
       " 'e',\n",
       " 'm',\n",
       " 'a',\n",
       " 3,\n",
       " 6,\n",
       " 7]"
      ]
     },
     "execution_count": 51,
     "metadata": {},
     "output_type": "execute_result"
    }
   ],
   "source": [
    "l"
   ]
  },
  {
   "cell_type": "code",
   "execution_count": 52,
   "id": "3e36c0c3-682c-4dbc-956c-334d77e2d716",
   "metadata": {},
   "outputs": [
    {
     "data": {
      "text/plain": [
       "[3, 4, 5]"
      ]
     },
     "execution_count": 52,
     "metadata": {},
     "output_type": "execute_result"
    }
   ],
   "source": [
    "l1"
   ]
  },
  {
   "cell_type": "code",
   "execution_count": 53,
   "id": "f140af29-5353-4299-b56e-8e2fba386d6f",
   "metadata": {},
   "outputs": [],
   "source": [
    "l1.insert(1,455)"
   ]
  },
  {
   "cell_type": "code",
   "execution_count": 54,
   "id": "6084f712-6370-4c50-88d8-ce3bf1880a05",
   "metadata": {},
   "outputs": [
    {
     "data": {
      "text/plain": [
       "[3, 455, 4, 5]"
      ]
     },
     "execution_count": 54,
     "metadata": {},
     "output_type": "execute_result"
    }
   ],
   "source": [
    "l1"
   ]
  },
  {
   "cell_type": "code",
   "execution_count": 55,
   "id": "e6437da4-b943-41d8-a712-439b7eb31e8c",
   "metadata": {},
   "outputs": [],
   "source": [
    "l1.insert(1,\"hemngi\")"
   ]
  },
  {
   "cell_type": "code",
   "execution_count": 56,
   "id": "ec738d90-354e-4365-86f9-b25153e850dd",
   "metadata": {},
   "outputs": [
    {
     "data": {
      "text/plain": [
       "[3, 'hemngi', 455, 4, 5]"
      ]
     },
     "execution_count": 56,
     "metadata": {},
     "output_type": "execute_result"
    }
   ],
   "source": [
    "l1"
   ]
  },
  {
   "cell_type": "code",
   "execution_count": 57,
   "id": "380ae8b6-0d08-4f94-baf6-b86a2cf7dcf1",
   "metadata": {},
   "outputs": [],
   "source": [
    "l1.insert(3,[45,78,90])"
   ]
  },
  {
   "cell_type": "code",
   "execution_count": 58,
   "id": "2c571da2-9b57-4b6c-bd0b-4ab1f51bf484",
   "metadata": {},
   "outputs": [
    {
     "data": {
      "text/plain": [
       "[3, 'hemngi', 455, [45, 78, 90], 4, 5]"
      ]
     },
     "execution_count": 58,
     "metadata": {},
     "output_type": "execute_result"
    }
   ],
   "source": [
    "l1"
   ]
  },
  {
   "cell_type": "code",
   "execution_count": 59,
   "id": "24e59d3c-64bb-40ee-ad4e-2d89eb239ff8",
   "metadata": {},
   "outputs": [],
   "source": [
    "l1.insert(-1,99)         ## data input -1 but 5 sift hua pachhal "
   ]
  },
  {
   "cell_type": "code",
   "execution_count": 60,
   "id": "b156377b-4e4b-4cb1-945c-c8a410f940e3",
   "metadata": {},
   "outputs": [
    {
     "data": {
      "text/plain": [
       "[3, 'hemngi', 455, [45, 78, 90], 4, 99, 5]"
      ]
     },
     "execution_count": 60,
     "metadata": {},
     "output_type": "execute_result"
    }
   ],
   "source": [
    "l1"
   ]
  },
  {
   "cell_type": "code",
   "execution_count": 61,
   "id": "b5109a37-beec-4fd1-8412-40f4010558b7",
   "metadata": {},
   "outputs": [],
   "source": [
    "l1.insert(0,99)         "
   ]
  },
  {
   "cell_type": "code",
   "execution_count": 62,
   "id": "681a4bba-3073-4ba9-8dc4-a0a04df7b294",
   "metadata": {},
   "outputs": [
    {
     "data": {
      "text/plain": [
       "[99, 3, 'hemngi', 455, [45, 78, 90], 4, 99, 5]"
      ]
     },
     "execution_count": 62,
     "metadata": {},
     "output_type": "execute_result"
    }
   ],
   "source": [
    "l1"
   ]
  },
  {
   "cell_type": "code",
   "execution_count": 63,
   "id": "9955628a-571c-4574-9a23-049f5ed4dd1a",
   "metadata": {},
   "outputs": [
    {
     "data": {
      "text/plain": [
       "5"
      ]
     },
     "execution_count": 63,
     "metadata": {},
     "output_type": "execute_result"
    }
   ],
   "source": [
    "l1.pop()                                                     ## last data delete "
   ]
  },
  {
   "cell_type": "code",
   "execution_count": 64,
   "id": "f35f8e9c-ef8f-43dc-ac20-b6edfd785005",
   "metadata": {},
   "outputs": [
    {
     "data": {
      "text/plain": [
       "[99, 3, 'hemngi', 455, [45, 78, 90], 4, 99]"
      ]
     },
     "execution_count": 64,
     "metadata": {},
     "output_type": "execute_result"
    }
   ],
   "source": [
    "l1"
   ]
  },
  {
   "cell_type": "code",
   "execution_count": 65,
   "id": "42dab860-0b0f-411e-b3b9-64d7393331c4",
   "metadata": {},
   "outputs": [
    {
     "data": {
      "text/plain": [
       "99"
      ]
     },
     "execution_count": 65,
     "metadata": {},
     "output_type": "execute_result"
    }
   ],
   "source": [
    "l1.pop()"
   ]
  },
  {
   "cell_type": "code",
   "execution_count": 66,
   "id": "3bfc8f37-8d21-448f-9f2e-aaaa953ac0fa",
   "metadata": {},
   "outputs": [
    {
     "data": {
      "text/plain": [
       "[99, 3, 'hemngi', 455, [45, 78, 90], 4]"
      ]
     },
     "execution_count": 66,
     "metadata": {},
     "output_type": "execute_result"
    }
   ],
   "source": [
    "l1"
   ]
  },
  {
   "cell_type": "code",
   "execution_count": 67,
   "id": "f31a16e3-8e0c-4206-ba02-413bca6b3a0a",
   "metadata": {},
   "outputs": [
    {
     "data": {
      "text/plain": [
       "455"
      ]
     },
     "execution_count": 67,
     "metadata": {},
     "output_type": "execute_result"
    }
   ],
   "source": [
    "l1.pop(3)                                         ## 3 index ni  value delete kre"
   ]
  },
  {
   "cell_type": "code",
   "execution_count": 68,
   "id": "9b8360a5-34f8-4cb2-8bcb-7b056dfb9344",
   "metadata": {},
   "outputs": [
    {
     "data": {
      "text/plain": [
       "[99, 3, 'hemngi', [45, 78, 90], 4]"
      ]
     },
     "execution_count": 68,
     "metadata": {},
     "output_type": "execute_result"
    }
   ],
   "source": [
    "l1"
   ]
  },
  {
   "cell_type": "code",
   "execution_count": 69,
   "id": "87c7019d-d9a9-4d42-9d8b-327782ce880f",
   "metadata": {},
   "outputs": [],
   "source": [
    "l1.remove(3)                                    ## value delete "
   ]
  },
  {
   "cell_type": "code",
   "execution_count": 70,
   "id": "e9412468-5091-4d77-afc2-3cb573e6e83e",
   "metadata": {},
   "outputs": [
    {
     "data": {
      "text/plain": [
       "[99, 'hemngi', [45, 78, 90], 4]"
      ]
     },
     "execution_count": 70,
     "metadata": {},
     "output_type": "execute_result"
    }
   ],
   "source": [
    "l1"
   ]
  },
  {
   "cell_type": "code",
   "execution_count": 71,
   "id": "39fc3ee5-e4aa-4baa-b66b-3bcda3816bb9",
   "metadata": {},
   "outputs": [
    {
     "ename": "ValueError",
     "evalue": "list.remove(x): x not in list",
     "output_type": "error",
     "traceback": [
      "\u001b[0;31m---------------------------------------------------------------------------\u001b[0m",
      "\u001b[0;31mValueError\u001b[0m                                Traceback (most recent call last)",
      "Cell \u001b[0;32mIn[71], line 1\u001b[0m\n\u001b[0;32m----> 1\u001b[0m \u001b[43ml1\u001b[49m\u001b[38;5;241;43m.\u001b[39;49m\u001b[43mremove\u001b[49m\u001b[43m(\u001b[49m\u001b[38;5;241;43m33\u001b[39;49m\u001b[43m)\u001b[49m    \n",
      "\u001b[0;31mValueError\u001b[0m: list.remove(x): x not in list"
     ]
    }
   ],
   "source": [
    "l1.remove(33)    "
   ]
  },
  {
   "cell_type": "code",
   "execution_count": 72,
   "id": "b5258622-a6c8-4c8d-b370-4b715f25be31",
   "metadata": {},
   "outputs": [
    {
     "data": {
      "text/plain": [
       "[45, 78, 90]"
      ]
     },
     "execution_count": 72,
     "metadata": {},
     "output_type": "execute_result"
    }
   ],
   "source": [
    "l1[2]"
   ]
  },
  {
   "cell_type": "code",
   "execution_count": 73,
   "id": "8ed92353-64a9-4161-8305-a65270f867f2",
   "metadata": {},
   "outputs": [],
   "source": [
    "l1[2].remove(78)"
   ]
  },
  {
   "cell_type": "code",
   "execution_count": 74,
   "id": "94985946-d681-40a2-8c16-dfbb43e85aaa",
   "metadata": {},
   "outputs": [
    {
     "data": {
      "text/plain": [
       "[99, 'hemngi', [45, 90], 4]"
      ]
     },
     "execution_count": 74,
     "metadata": {},
     "output_type": "execute_result"
    }
   ],
   "source": [
    "l1"
   ]
  },
  {
   "cell_type": "code",
   "execution_count": 75,
   "id": "f49958ed-66ed-4840-9756-a70b2f40d19e",
   "metadata": {},
   "outputs": [
    {
     "data": {
      "text/plain": [
       "'hemngi'"
      ]
     },
     "execution_count": 75,
     "metadata": {},
     "output_type": "execute_result"
    }
   ],
   "source": [
    "l1[1]"
   ]
  },
  {
   "cell_type": "code",
   "execution_count": 76,
   "id": "d525c77e-52d8-4745-9184-f230bc590c9d",
   "metadata": {},
   "outputs": [
    {
     "ename": "AttributeError",
     "evalue": "'str' object has no attribute 'remove'",
     "output_type": "error",
     "traceback": [
      "\u001b[0;31m---------------------------------------------------------------------------\u001b[0m",
      "\u001b[0;31mAttributeError\u001b[0m                            Traceback (most recent call last)",
      "Cell \u001b[0;32mIn[76], line 1\u001b[0m\n\u001b[0;32m----> 1\u001b[0m \u001b[43ml1\u001b[49m\u001b[43m[\u001b[49m\u001b[38;5;241;43m1\u001b[39;49m\u001b[43m]\u001b[49m\u001b[38;5;241;43m.\u001b[39;49m\u001b[43mremove\u001b[49m(\u001b[38;5;124m'\u001b[39m\u001b[38;5;124mgi\u001b[39m\u001b[38;5;124m'\u001b[39m)\n",
      "\u001b[0;31mAttributeError\u001b[0m: 'str' object has no attribute 'remove'"
     ]
    }
   ],
   "source": [
    "l1[1].remove('gi')    ## string na alpha delete no kari sakay "
   ]
  },
  {
   "cell_type": "code",
   "execution_count": 77,
   "id": "3a06a470-a863-43b6-aa8e-3700a7af1062",
   "metadata": {},
   "outputs": [],
   "source": [
    "l1.append(4)      ## last ma value enter kre "
   ]
  },
  {
   "cell_type": "code",
   "execution_count": 78,
   "id": "16913c93-7a58-4cc7-8ba4-0767d1b34744",
   "metadata": {},
   "outputs": [
    {
     "data": {
      "text/plain": [
       "[99, 'hemngi', [45, 90], 4, 4]"
      ]
     },
     "execution_count": 78,
     "metadata": {},
     "output_type": "execute_result"
    }
   ],
   "source": [
    "l1"
   ]
  },
  {
   "cell_type": "code",
   "execution_count": 79,
   "id": "b75cc106-a358-4b90-badd-1a12ec0e9621",
   "metadata": {},
   "outputs": [],
   "source": [
    "l1.remove(4)"
   ]
  },
  {
   "cell_type": "code",
   "execution_count": 80,
   "id": "7c6c99cd-1ea4-4cf0-abb9-35f89f1afe22",
   "metadata": {},
   "outputs": [
    {
     "data": {
      "text/plain": [
       "[99, 'hemngi', [45, 90], 4]"
      ]
     },
     "execution_count": 80,
     "metadata": {},
     "output_type": "execute_result"
    }
   ],
   "source": [
    "l1"
   ]
  },
  {
   "cell_type": "code",
   "execution_count": 81,
   "id": "bf9ba1ca-a021-4dd2-86d3-76216f467382",
   "metadata": {},
   "outputs": [
    {
     "data": {
      "text/plain": [
       "[99, 'hemngi', [45, 90], 4]"
      ]
     },
     "execution_count": 81,
     "metadata": {},
     "output_type": "execute_result"
    }
   ],
   "source": [
    "l1"
   ]
  },
  {
   "cell_type": "code",
   "execution_count": 82,
   "id": "76d802fc-60e4-4677-9418-3b71dc52d62c",
   "metadata": {},
   "outputs": [
    {
     "data": {
      "text/plain": [
       "[4, [45, 90], 'hemngi', 99]"
      ]
     },
     "execution_count": 82,
     "metadata": {},
     "output_type": "execute_result"
    }
   ],
   "source": [
    "l1[::-1]                       ## tampary reverse "
   ]
  },
  {
   "cell_type": "code",
   "execution_count": 84,
   "id": "1b481b33-48c9-4b9a-b6b9-2fb8fbd73957",
   "metadata": {},
   "outputs": [],
   "source": [
    "l1.reverse()                   ## original list reverse "
   ]
  },
  {
   "cell_type": "code",
   "execution_count": 85,
   "id": "0682b0bc-dfa7-49d9-885a-96c1a3698010",
   "metadata": {},
   "outputs": [
    {
     "data": {
      "text/plain": [
       "[4, [45, 90], 'hemngi', 99]"
      ]
     },
     "execution_count": 85,
     "metadata": {},
     "output_type": "execute_result"
    }
   ],
   "source": [
    "l1"
   ]
  },
  {
   "cell_type": "code",
   "execution_count": 86,
   "id": "aef0782d-7192-49dc-8c38-3632e1aa5a2c",
   "metadata": {},
   "outputs": [
    {
     "data": {
      "text/plain": [
       "[4, [45, 90], 'hemngi', 99]"
      ]
     },
     "execution_count": 86,
     "metadata": {},
     "output_type": "execute_result"
    }
   ],
   "source": [
    "l1"
   ]
  },
  {
   "cell_type": "code",
   "execution_count": 87,
   "id": "411affcc-79d1-47db-a7c1-9ce907ed5b3d",
   "metadata": {},
   "outputs": [
    {
     "ename": "TypeError",
     "evalue": "'<' not supported between instances of 'list' and 'int'",
     "output_type": "error",
     "traceback": [
      "\u001b[0;31m---------------------------------------------------------------------------\u001b[0m",
      "\u001b[0;31mTypeError\u001b[0m                                 Traceback (most recent call last)",
      "Cell \u001b[0;32mIn[87], line 1\u001b[0m\n\u001b[0;32m----> 1\u001b[0m \u001b[43ml1\u001b[49m\u001b[38;5;241;43m.\u001b[39;49m\u001b[43msort\u001b[49m\u001b[43m(\u001b[49m\u001b[43m)\u001b[49m\n",
      "\u001b[0;31mTypeError\u001b[0m: '<' not supported between instances of 'list' and 'int'"
     ]
    }
   ],
   "source": [
    "l1.sort()"
   ]
  },
  {
   "cell_type": "code",
   "execution_count": 88,
   "id": "a57771a3-3489-4e5a-84b1-7542c636c2ea",
   "metadata": {},
   "outputs": [],
   "source": [
    "l2=[3,89,76,45,32,2,34,999]"
   ]
  },
  {
   "cell_type": "code",
   "execution_count": 89,
   "id": "4a2daf70-0733-4d11-b579-de1c0c77e84d",
   "metadata": {},
   "outputs": [
    {
     "data": {
      "text/plain": [
       "[3, 89, 76, 45, 32, 2, 34, 999]"
      ]
     },
     "execution_count": 89,
     "metadata": {},
     "output_type": "execute_result"
    }
   ],
   "source": [
    "l2"
   ]
  },
  {
   "cell_type": "code",
   "execution_count": 90,
   "id": "88786732-9c07-455f-948e-ad2480f23e0b",
   "metadata": {},
   "outputs": [],
   "source": [
    "l2.sort()                            ## accending order "
   ]
  },
  {
   "cell_type": "code",
   "execution_count": 91,
   "id": "d1d5e4e6-ed13-4ae7-92a1-36c75abd3e92",
   "metadata": {},
   "outputs": [
    {
     "data": {
      "text/plain": [
       "[2, 3, 32, 34, 45, 76, 89, 999]"
      ]
     },
     "execution_count": 91,
     "metadata": {},
     "output_type": "execute_result"
    }
   ],
   "source": [
    "l2"
   ]
  },
  {
   "cell_type": "code",
   "execution_count": 92,
   "id": "9b664941-ab6a-42e5-aa36-1aff61e92ddb",
   "metadata": {},
   "outputs": [],
   "source": [
    "l2.sort(reverse = True)              ## discending order "
   ]
  },
  {
   "cell_type": "code",
   "execution_count": 93,
   "id": "a500f2e0-872b-4d23-bfe6-da5e5d2931fe",
   "metadata": {},
   "outputs": [
    {
     "data": {
      "text/plain": [
       "[999, 89, 76, 45, 34, 32, 3, 2]"
      ]
     },
     "execution_count": 93,
     "metadata": {},
     "output_type": "execute_result"
    }
   ],
   "source": [
    "l2"
   ]
  },
  {
   "cell_type": "code",
   "execution_count": 94,
   "id": "699089cb-c66f-4628-8451-8c3bbe136f6e",
   "metadata": {},
   "outputs": [],
   "source": [
    "l3=[34,\"hello\",99.36,\"hema\"] ## multiple datatype sort ny kre "
   ]
  },
  {
   "cell_type": "code",
   "execution_count": 95,
   "id": "8439285f-b377-4968-bb0b-31624eed9342",
   "metadata": {},
   "outputs": [
    {
     "ename": "TypeError",
     "evalue": "'<' not supported between instances of 'str' and 'int'",
     "output_type": "error",
     "traceback": [
      "\u001b[0;31m---------------------------------------------------------------------------\u001b[0m",
      "\u001b[0;31mTypeError\u001b[0m                                 Traceback (most recent call last)",
      "Cell \u001b[0;32mIn[95], line 1\u001b[0m\n\u001b[0;32m----> 1\u001b[0m \u001b[43ml3\u001b[49m\u001b[38;5;241;43m.\u001b[39;49m\u001b[43msort\u001b[49m\u001b[43m(\u001b[49m\u001b[43m)\u001b[49m\n",
      "\u001b[0;31mTypeError\u001b[0m: '<' not supported between instances of 'str' and 'int'"
     ]
    }
   ],
   "source": [
    "l3.sort()"
   ]
  },
  {
   "cell_type": "code",
   "execution_count": 96,
   "id": "116072d1-a10d-4521-81a6-952696559867",
   "metadata": {},
   "outputs": [],
   "source": [
    "l4=[\"hello\",\"ahemdabad\",\"zero\",\"jeni\"]     ## alphabetically sorting "
   ]
  },
  {
   "cell_type": "code",
   "execution_count": 97,
   "id": "f44adc4f-34a9-4bf8-9fa8-56d715751237",
   "metadata": {},
   "outputs": [],
   "source": [
    "l4.sort()"
   ]
  },
  {
   "cell_type": "code",
   "execution_count": 98,
   "id": "7444b586-cfb2-444b-ade6-cddb80f56ee4",
   "metadata": {},
   "outputs": [
    {
     "data": {
      "text/plain": [
       "['ahemdabad', 'hello', 'jeni', 'zero']"
      ]
     },
     "execution_count": 98,
     "metadata": {},
     "output_type": "execute_result"
    }
   ],
   "source": [
    "l4"
   ]
  },
  {
   "cell_type": "code",
   "execution_count": 99,
   "id": "aa871dbb-1c1e-4edd-bc77-59370e904079",
   "metadata": {},
   "outputs": [
    {
     "ename": "ValueError",
     "evalue": "3 is not in list",
     "output_type": "error",
     "traceback": [
      "\u001b[0;31m---------------------------------------------------------------------------\u001b[0m",
      "\u001b[0;31mValueError\u001b[0m                                Traceback (most recent call last)",
      "Cell \u001b[0;32mIn[99], line 1\u001b[0m\n\u001b[0;32m----> 1\u001b[0m \u001b[43ml4\u001b[49m\u001b[38;5;241;43m.\u001b[39;49m\u001b[43mindex\u001b[49m\u001b[43m(\u001b[49m\u001b[38;5;241;43m3\u001b[39;49m\u001b[43m)\u001b[49m\n",
      "\u001b[0;31mValueError\u001b[0m: 3 is not in list"
     ]
    }
   ],
   "source": [
    "l4.index(3)"
   ]
  },
  {
   "cell_type": "code",
   "execution_count": 100,
   "id": "fc9147a6-32a4-40fc-b193-07d2f89371d9",
   "metadata": {},
   "outputs": [
    {
     "data": {
      "text/plain": [
       "2"
      ]
     },
     "execution_count": 100,
     "metadata": {},
     "output_type": "execute_result"
    }
   ],
   "source": [
    "l4.index(\"jeni\")"
   ]
  },
  {
   "cell_type": "code",
   "execution_count": 101,
   "id": "de4fc995-3cb1-49d8-9289-3f649cd48f6a",
   "metadata": {},
   "outputs": [
    {
     "data": {
      "text/plain": [
       "1"
      ]
     },
     "execution_count": 101,
     "metadata": {},
     "output_type": "execute_result"
    }
   ],
   "source": [
    "l4.count(\"hello\")  ## ketli var hello aave 6 e btave list ma"
   ]
  },
  {
   "cell_type": "code",
   "execution_count": 102,
   "id": "81640349-1c94-4ee2-9907-5a3b2f6e2526",
   "metadata": {},
   "outputs": [],
   "source": [
    "k=\"hemangi\""
   ]
  },
  {
   "cell_type": "code",
   "execution_count": 103,
   "id": "f1659f06-ab41-4c23-9542-29d5a90532ee",
   "metadata": {},
   "outputs": [],
   "source": [
    "l5=[3,4,5,6]"
   ]
  },
  {
   "cell_type": "code",
   "execution_count": 104,
   "id": "cdb325a3-5bd8-418f-86fd-975e644e8731",
   "metadata": {},
   "outputs": [
    {
     "data": {
      "text/plain": [
       "'h'"
      ]
     },
     "execution_count": 104,
     "metadata": {},
     "output_type": "execute_result"
    }
   ],
   "source": [
    "k[0]"
   ]
  },
  {
   "cell_type": "code",
   "execution_count": 105,
   "id": "85ba246c-818e-4e24-82dc-44fc896953e1",
   "metadata": {},
   "outputs": [
    {
     "ename": "TypeError",
     "evalue": "'str' object does not support item assignment",
     "output_type": "error",
     "traceback": [
      "\u001b[0;31m---------------------------------------------------------------------------\u001b[0m",
      "\u001b[0;31mTypeError\u001b[0m                                 Traceback (most recent call last)",
      "Cell \u001b[0;32mIn[105], line 1\u001b[0m\n\u001b[0;32m----> 1\u001b[0m \u001b[43mk\u001b[49m\u001b[43m[\u001b[49m\u001b[38;5;241;43m0\u001b[39;49m\u001b[43m]\u001b[49m\u001b[38;5;241m=\u001b[39m\u001b[38;5;124m'\u001b[39m\u001b[38;5;124ml\u001b[39m\u001b[38;5;124m'\u001b[39m\n",
      "\u001b[0;31mTypeError\u001b[0m: 'str' object does not support item assignment"
     ]
    }
   ],
   "source": [
    "k[0]='l'  ## string are unmutebility we can't change particular element using assignment "
   ]
  },
  {
   "cell_type": "code",
   "execution_count": 106,
   "id": "b1d48b04-d469-424c-83fb-4ab441967b2a",
   "metadata": {},
   "outputs": [],
   "source": [
    "l5[0]=99    ## mutebility = same place me uske index ko assces krin change kari skay "
   ]
  },
  {
   "cell_type": "code",
   "execution_count": 107,
   "id": "db461508-7c3b-4684-8035-425be221dbec",
   "metadata": {},
   "outputs": [
    {
     "data": {
      "text/plain": [
       "[99, 4, 5, 6]"
      ]
     },
     "execution_count": 107,
     "metadata": {},
     "output_type": "execute_result"
    }
   ],
   "source": [
    "l5"
   ]
  },
  {
   "cell_type": "code",
   "execution_count": 108,
   "id": "75046d50-9476-47a6-8d6f-67ba266211b5",
   "metadata": {},
   "outputs": [
    {
     "data": {
      "text/plain": [
       "'kemangi'"
      ]
     },
     "execution_count": 108,
     "metadata": {},
     "output_type": "execute_result"
    }
   ],
   "source": [
    "k.replace('h','k')"
   ]
  },
  {
   "cell_type": "code",
   "execution_count": 109,
   "id": "b9d84169-9857-4916-afc9-f0e8a6ca0ee7",
   "metadata": {},
   "outputs": [],
   "source": [
    "#################################### TUPLES ################################################"
   ]
  },
  {
   "cell_type": "code",
   "execution_count": 110,
   "id": "1460e4b8-2bcf-43e4-a68b-abc6497e3156",
   "metadata": {},
   "outputs": [],
   "source": [
    "t = (2,3,4,5,\"hema\",45.63,False,45+52j,[3,4,5])"
   ]
  },
  {
   "cell_type": "code",
   "execution_count": 111,
   "id": "963dd1cc-39f9-4066-a0e6-409fe5f8f3ee",
   "metadata": {},
   "outputs": [
    {
     "data": {
      "text/plain": [
       "(2, 3, 4, 5, 'hema', 45.63, False, (45+52j), [3, 4, 5])"
      ]
     },
     "execution_count": 111,
     "metadata": {},
     "output_type": "execute_result"
    }
   ],
   "source": [
    "t"
   ]
  },
  {
   "cell_type": "code",
   "execution_count": 112,
   "id": "3dbe01d5-7bf5-4a47-87c6-5944609650e2",
   "metadata": {},
   "outputs": [
    {
     "data": {
      "text/plain": [
       "tuple"
      ]
     },
     "execution_count": 112,
     "metadata": {},
     "output_type": "execute_result"
    }
   ],
   "source": [
    "type(t)"
   ]
  },
  {
   "cell_type": "code",
   "execution_count": 113,
   "id": "ddc3ef77-b0f3-47f0-9dd4-44f6a87b84de",
   "metadata": {},
   "outputs": [
    {
     "data": {
      "text/plain": [
       "9"
      ]
     },
     "execution_count": 113,
     "metadata": {},
     "output_type": "execute_result"
    }
   ],
   "source": [
    "len(t)"
   ]
  },
  {
   "cell_type": "code",
   "execution_count": 114,
   "id": "b9edee81-9b25-4a1f-b5f2-fd054d0fcf8b",
   "metadata": {},
   "outputs": [
    {
     "data": {
      "text/plain": [
       "5"
      ]
     },
     "execution_count": 114,
     "metadata": {},
     "output_type": "execute_result"
    }
   ],
   "source": [
    "t[3]"
   ]
  },
  {
   "cell_type": "code",
   "execution_count": 115,
   "id": "18918afb-f901-4373-8f43-a1b0d4dc8131",
   "metadata": {},
   "outputs": [
    {
     "data": {
      "text/plain": [
       "[3, 4, 5]"
      ]
     },
     "execution_count": 115,
     "metadata": {},
     "output_type": "execute_result"
    }
   ],
   "source": [
    "t[-1]"
   ]
  },
  {
   "cell_type": "code",
   "execution_count": 116,
   "id": "b8e0682c-c3af-4bc6-b173-e86ce4d45877",
   "metadata": {},
   "outputs": [
    {
     "data": {
      "text/plain": [
       "([3, 4, 5], (45+52j), False, 45.63, 'hema', 5, 4, 3, 2)"
      ]
     },
     "execution_count": 116,
     "metadata": {},
     "output_type": "execute_result"
    }
   ],
   "source": [
    "t[::-1]"
   ]
  },
  {
   "cell_type": "code",
   "execution_count": 117,
   "id": "073d0ccc-d86f-4601-b502-a068bb0d68f6",
   "metadata": {},
   "outputs": [
    {
     "data": {
      "text/plain": [
       "(2, 3, 4, 5, 'hema', 45.63, False, (45+52j), [3, 4, 5])"
      ]
     },
     "execution_count": 117,
     "metadata": {},
     "output_type": "execute_result"
    }
   ],
   "source": [
    "t"
   ]
  },
  {
   "cell_type": "code",
   "execution_count": 118,
   "id": "d3bc52e8-69f6-4462-868d-50c281965099",
   "metadata": {},
   "outputs": [
    {
     "ename": "TypeError",
     "evalue": "'tuple' object does not support item assignment",
     "output_type": "error",
     "traceback": [
      "\u001b[0;31m---------------------------------------------------------------------------\u001b[0m",
      "\u001b[0;31mTypeError\u001b[0m                                 Traceback (most recent call last)",
      "Cell \u001b[0;32mIn[118], line 1\u001b[0m\n\u001b[0;32m----> 1\u001b[0m \u001b[43mt\u001b[49m\u001b[43m[\u001b[49m\u001b[38;5;241;43m4\u001b[39;49m\u001b[43m]\u001b[49m\u001b[38;5;241m=\u001b[39m\u001b[38;5;124m\"\u001b[39m\u001b[38;5;124mhema\u001b[39m\u001b[38;5;124m\"\u001b[39m\n",
      "\u001b[0;31mTypeError\u001b[0m: 'tuple' object does not support item assignment"
     ]
    }
   ],
   "source": [
    "t[4]=\"hema\""
   ]
  },
  {
   "cell_type": "code",
   "execution_count": 119,
   "id": "2920c023-46f5-48c2-8ba0-f2b6f31d2eb4",
   "metadata": {},
   "outputs": [
    {
     "ename": "TypeError",
     "evalue": "tuple.count() takes exactly one argument (0 given)",
     "output_type": "error",
     "traceback": [
      "\u001b[0;31m---------------------------------------------------------------------------\u001b[0m",
      "\u001b[0;31mTypeError\u001b[0m                                 Traceback (most recent call last)",
      "Cell \u001b[0;32mIn[119], line 1\u001b[0m\n\u001b[0;32m----> 1\u001b[0m \u001b[43mt\u001b[49m\u001b[38;5;241;43m.\u001b[39;49m\u001b[43mcount\u001b[49m\u001b[43m(\u001b[49m\u001b[43m)\u001b[49m\n",
      "\u001b[0;31mTypeError\u001b[0m: tuple.count() takes exactly one argument (0 given)"
     ]
    }
   ],
   "source": [
    "t.count()"
   ]
  },
  {
   "cell_type": "code",
   "execution_count": 120,
   "id": "841aa107-662d-4f5d-a769-c789b9e92146",
   "metadata": {},
   "outputs": [
    {
     "data": {
      "text/plain": [
       "1"
      ]
     },
     "execution_count": 120,
     "metadata": {},
     "output_type": "execute_result"
    }
   ],
   "source": [
    "t.count(5)       ## 5 num ketli var 6 tuple ma te count thy "
   ]
  },
  {
   "cell_type": "code",
   "execution_count": 121,
   "id": "2994f0e2-9cc5-4908-9622-78c3b8258854",
   "metadata": {},
   "outputs": [
    {
     "data": {
      "text/plain": [
       "5"
      ]
     },
     "execution_count": 121,
     "metadata": {},
     "output_type": "execute_result"
    }
   ],
   "source": [
    "t.index(45.63)"
   ]
  },
  {
   "cell_type": "code",
   "execution_count": 122,
   "id": "7e241632-08fb-4755-9123-33db167f7826",
   "metadata": {},
   "outputs": [],
   "source": [
    "s1={}  ## this is set "
   ]
  },
  {
   "cell_type": "code",
   "execution_count": 123,
   "id": "c519126d-adf3-47f3-bebc-b691ed17c317",
   "metadata": {},
   "outputs": [
    {
     "data": {
      "text/plain": [
       "dict"
      ]
     },
     "execution_count": 123,
     "metadata": {},
     "output_type": "execute_result"
    }
   ],
   "source": [
    "type(s1)"
   ]
  },
  {
   "cell_type": "code",
   "execution_count": 124,
   "id": "5986a9cc-fc64-4235-bd34-a732d21d2c33",
   "metadata": {},
   "outputs": [],
   "source": [
    "s2={4,5,8,9}"
   ]
  },
  {
   "cell_type": "code",
   "execution_count": 125,
   "id": "6ba35fe1-c0a7-4229-b158-92cbdd874f5a",
   "metadata": {},
   "outputs": [
    {
     "data": {
      "text/plain": [
       "set"
      ]
     },
     "execution_count": 125,
     "metadata": {},
     "output_type": "execute_result"
    }
   ],
   "source": [
    "type(s2)"
   ]
  },
  {
   "cell_type": "code",
   "execution_count": 126,
   "id": "bdcb7799-b21f-44b3-8c5e-475f6e779c8a",
   "metadata": {},
   "outputs": [
    {
     "ename": "TypeError",
     "evalue": "unhashable type: 'list'",
     "output_type": "error",
     "traceback": [
      "\u001b[0;31m---------------------------------------------------------------------------\u001b[0m",
      "\u001b[0;31mTypeError\u001b[0m                                 Traceback (most recent call last)",
      "Cell \u001b[0;32mIn[126], line 1\u001b[0m\n\u001b[0;32m----> 1\u001b[0m s3\u001b[38;5;241m=\u001b[39m{\u001b[38;5;241m2\u001b[39m,\u001b[38;5;241m4\u001b[39m,\u001b[38;5;241m6\u001b[39m,\u001b[38;5;124m\"\u001b[39m\u001b[38;5;124mhema\u001b[39m\u001b[38;5;124m\"\u001b[39m,[\u001b[38;5;241m34\u001b[39m,\u001b[38;5;241m67\u001b[39m,\u001b[38;5;241m89\u001b[39m],(\u001b[38;5;241m56\u001b[39m,\u001b[38;5;124m\"\u001b[39m\u001b[38;5;124mhello\u001b[39m\u001b[38;5;124m\"\u001b[39m,\u001b[38;5;241m9\u001b[39m)}\n",
      "\u001b[0;31mTypeError\u001b[0m: unhashable type: 'list'"
     ]
    }
   ],
   "source": [
    "s3={2,4,6,\"hema\",[34,67,89],(56,\"hello\",9)}"
   ]
  },
  {
   "cell_type": "code",
   "execution_count": 127,
   "id": "02a4402c-b047-48d9-9f7e-377794e68837",
   "metadata": {},
   "outputs": [],
   "source": [
    "s4={(3,4,5,6,7),897,'hema'}   ## set spport tuples but not support list "
   ]
  },
  {
   "cell_type": "code",
   "execution_count": 128,
   "id": "4b5acfcd-d3ed-4866-a6fb-5554092523a8",
   "metadata": {},
   "outputs": [
    {
     "data": {
      "text/plain": [
       "{(3, 4, 5, 6, 7), 897, 'hema'}"
      ]
     },
     "execution_count": 128,
     "metadata": {},
     "output_type": "execute_result"
    }
   ],
   "source": [
    "s4"
   ]
  },
  {
   "cell_type": "code",
   "execution_count": 131,
   "id": "8c8506e5-de9a-4d2f-937b-09f4f7da919d",
   "metadata": {},
   "outputs": [],
   "source": [
    "s4={2,3,4,5,65,3,2,4,5,67,65,4,9,99,7,7,7,7,99,\"hemngi\",\"Hemangi\"}       ## give unique  value , tuples is  (casesensitive ), remove dublicate value"
   ]
  },
  {
   "cell_type": "code",
   "execution_count": 132,
   "id": "96ad6afc-ace5-49d4-9347-952807f2e1a1",
   "metadata": {},
   "outputs": [
    {
     "data": {
      "text/plain": [
       "{2, 3, 4, 5, 65, 67, 7, 9, 99, 'Hemangi', 'hemngi'}"
      ]
     },
     "execution_count": 132,
     "metadata": {},
     "output_type": "execute_result"
    }
   ],
   "source": [
    "s4"
   ]
  },
  {
   "cell_type": "code",
   "execution_count": 133,
   "id": "28bdbadc-e11e-4b52-9c74-6cedc31e2952",
   "metadata": {},
   "outputs": [],
   "source": [
    "s4.add(4)"
   ]
  },
  {
   "cell_type": "code",
   "execution_count": 134,
   "id": "590c79aa-76ff-419b-88ef-b3dd78138a4c",
   "metadata": {},
   "outputs": [
    {
     "data": {
      "text/plain": [
       "{2, 3, 4, 5, 65, 67, 7, 9, 99, 'Hemangi', 'hemngi'}"
      ]
     },
     "execution_count": 134,
     "metadata": {},
     "output_type": "execute_result"
    }
   ],
   "source": [
    "s4"
   ]
  },
  {
   "cell_type": "code",
   "execution_count": null,
   "id": "33db6c29-bfab-4b11-8be6-70309506ca2f",
   "metadata": {},
   "outputs": [],
   "source": []
  }
 ],
 "metadata": {
  "kernelspec": {
   "display_name": "Python 3 (ipykernel)",
   "language": "python",
   "name": "python3"
  },
  "language_info": {
   "codemirror_mode": {
    "name": "ipython",
    "version": 3
   },
   "file_extension": ".py",
   "mimetype": "text/x-python",
   "name": "python",
   "nbconvert_exporter": "python",
   "pygments_lexer": "ipython3",
   "version": "3.10.8"
  }
 },
 "nbformat": 4,
 "nbformat_minor": 5
}
