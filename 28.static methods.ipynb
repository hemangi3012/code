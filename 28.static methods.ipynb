{
 "cells": [
  {
   "cell_type": "code",
   "execution_count": 1,
   "id": "5bd70e0f-fa36-454c-a92f-ba8b70544249",
   "metadata": {},
   "outputs": [],
   "source": [
    "class pwskills:\n",
    "    \n",
    "    def student_details(self,name,mail,mo_no):\n",
    "        print(name,mail,mo_no)"
   ]
  },
  {
   "cell_type": "code",
   "execution_count": 2,
   "id": "3e8aa00f-f43e-4f32-b23b-a62f416ffe58",
   "metadata": {},
   "outputs": [],
   "source": [
    "pw=pwskills()"
   ]
  },
  {
   "cell_type": "code",
   "execution_count": 3,
   "id": "dd6b9f83-c29f-4069-8f4c-ec3df80c0602",
   "metadata": {},
   "outputs": [
    {
     "name": "stdout",
     "output_type": "stream",
     "text": [
      "hemangi hemangi@123.com 6353115351\n"
     ]
    }
   ],
   "source": [
    "pw.student_details(\"hemangi\",\"hemangi@123.com\",6353115351)"
   ]
  },
  {
   "cell_type": "code",
   "execution_count": 11,
   "id": "57e34394-2a18-43db-9d28-e0b558e9d58a",
   "metadata": {},
   "outputs": [],
   "source": [
    "class pwskills1:\n",
    "    \n",
    "    def student_details(self,name,mail,mo_no):\n",
    "        print(name,mail,mo_no)\n",
    "        \n",
    "    @staticmethod\n",
    "    def mentor_class(list_mentor):\n",
    "        print(list_mentor)\n",
    "        \n",
    "    def mentor(self,list_mantor):\n",
    "        print(list_mantor)"
   ]
  },
  {
   "cell_type": "code",
   "execution_count": 12,
   "id": "4374cb88-f98c-45b5-89c0-a8251dd63f45",
   "metadata": {},
   "outputs": [
    {
     "name": "stdout",
     "output_type": "stream",
     "text": [
      "['hemA', 'KHIDD']\n"
     ]
    }
   ],
   "source": [
    "pwskills1.mentor_class([\"hemA\",\"KHIDD\"])"
   ]
  },
  {
   "cell_type": "code",
   "execution_count": 13,
   "id": "53507cd0-99d1-4de3-9abf-1f8d0d65fc3b",
   "metadata": {},
   "outputs": [],
   "source": [
    "std1=pwskills1()"
   ]
  },
  {
   "cell_type": "code",
   "execution_count": 14,
   "id": "cfa1deb7-3420-428a-b67a-f72abec1e497",
   "metadata": {},
   "outputs": [],
   "source": [
    "std2=pwskills1()"
   ]
  },
  {
   "cell_type": "code",
   "execution_count": 15,
   "id": "9e4e7df2-c739-4da3-927d-1f63e9d70c7f",
   "metadata": {},
   "outputs": [],
   "source": [
    "std3=pwskills1()"
   ]
  },
  {
   "cell_type": "code",
   "execution_count": 16,
   "id": "e45c9b99-d385-4ffc-a961-d075b9907b3d",
   "metadata": {},
   "outputs": [
    {
     "name": "stdout",
     "output_type": "stream",
     "text": [
      "['sudha', 'krish']\n"
     ]
    }
   ],
   "source": [
    "std1.mentor([\"sudha\",\"krish\"])"
   ]
  },
  {
   "cell_type": "code",
   "execution_count": 27,
   "id": "d9d1c49f-3d9b-45c1-9652-0e018d6227c0",
   "metadata": {},
   "outputs": [],
   "source": [
    "class pwskills2:\n",
    "    \n",
    "    def student_details(self,name,mail,mo_no):\n",
    "        print(name,mail,mo_no)\n",
    "        \n",
    "    @staticmethod\n",
    "    def mentor_mail_id(list_mentor_mail_id):\n",
    "        print(list_mentor_mail_id)\n",
    "        \n",
    "        \n",
    "    @staticmethod\n",
    "    def mentor_class(list_mentor):\n",
    "        pwskills2.mentor_mail_id([\"sudha@123.com\",\"krish@123.com\"])\n",
    "        print(list_mentor)\n",
    "        \n",
    "    @classmethod\n",
    "    def class_name(cls):\n",
    "        cls.mentor_class([\"sudha \",\"krish\"])\n",
    "        \n",
    "    def mentor(self,list_mantor):\n",
    "        print(list_mantor)\n",
    "        self.mentor_class([\"hema\",\"mira\"])"
   ]
  },
  {
   "cell_type": "code",
   "execution_count": 28,
   "id": "94f07e28-e973-4be6-80ed-d3a96aed22a5",
   "metadata": {},
   "outputs": [
    {
     "name": "stdout",
     "output_type": "stream",
     "text": [
      "['sudha@123.com', 'krish@123.com']\n",
      "['sudha ', 'krish']\n"
     ]
    }
   ],
   "source": [
    "pwskills2.class_name()"
   ]
  },
  {
   "cell_type": "code",
   "execution_count": 30,
   "id": "1b672e59-71cc-4318-905f-caf8ca8f4d0a",
   "metadata": {},
   "outputs": [],
   "source": [
    "pw=pwskills2()"
   ]
  },
  {
   "cell_type": "code",
   "execution_count": 32,
   "id": "3f1ff123-5b34-4069-976e-ebd361e144f8",
   "metadata": {},
   "outputs": [
    {
     "ename": "TypeError",
     "evalue": "pwskills2.mentor() missing 1 required positional argument: 'list_mantor'",
     "output_type": "error",
     "traceback": [
      "\u001b[0;31m---------------------------------------------------------------------------\u001b[0m",
      "\u001b[0;31mTypeError\u001b[0m                                 Traceback (most recent call last)",
      "Cell \u001b[0;32mIn[32], line 1\u001b[0m\n\u001b[0;32m----> 1\u001b[0m \u001b[43mpw\u001b[49m\u001b[38;5;241;43m.\u001b[39;49m\u001b[43mmentor\u001b[49m\u001b[43m(\u001b[49m\u001b[43m)\u001b[49m\n",
      "\u001b[0;31mTypeError\u001b[0m: pwskills2.mentor() missing 1 required positional argument: 'list_mantor'"
     ]
    }
   ],
   "source": [
    "pw.mentor()"
   ]
  },
  {
   "cell_type": "code",
   "execution_count": 34,
   "id": "5a2b4e04-5ed9-48b9-ac15-c39d075f8b6f",
   "metadata": {},
   "outputs": [
    {
     "name": "stdout",
     "output_type": "stream",
     "text": [
      "['hemA', 'JHAH']\n",
      "['sudha@123.com', 'krish@123.com']\n",
      "['hema', 'mira']\n"
     ]
    }
   ],
   "source": [
    "pw.mentor([\"hemA\",\"JHAH\"])"
   ]
  },
  {
   "cell_type": "code",
   "execution_count": null,
   "id": "060647a4-1feb-41e3-8043-bfd6cefd3d87",
   "metadata": {},
   "outputs": [],
   "source": []
  }
 ],
 "metadata": {
  "kernelspec": {
   "display_name": "Python 3 (ipykernel)",
   "language": "python",
   "name": "python3"
  },
  "language_info": {
   "codemirror_mode": {
    "name": "ipython",
    "version": 3
   },
   "file_extension": ".py",
   "mimetype": "text/x-python",
   "name": "python",
   "nbconvert_exporter": "python",
   "pygments_lexer": "ipython3",
   "version": "3.10.8"
  }
 },
 "nbformat": 4,
 "nbformat_minor": 5
}
