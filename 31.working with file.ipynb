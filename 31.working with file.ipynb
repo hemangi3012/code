{
 "cells": [
  {
   "cell_type": "code",
   "execution_count": 1,
   "id": "fb36e4db-032c-4f42-acfb-838e93ecbd35",
   "metadata": {},
   "outputs": [],
   "source": [
    "f = open (\"test.txt\",\"w\")"
   ]
  },
  {
   "cell_type": "code",
   "execution_count": 2,
   "id": "ff2acb23-d057-4f9b-8681-5cf4187790f8",
   "metadata": {},
   "outputs": [
    {
     "data": {
      "text/plain": [
       "'/home/jovyan/work'"
      ]
     },
     "execution_count": 2,
     "metadata": {},
     "output_type": "execute_result"
    }
   ],
   "source": [
    "pwd"
   ]
  },
  {
   "cell_type": "code",
   "execution_count": 3,
   "id": "eee64a19-e62e-4775-8a67-af4017d551d7",
   "metadata": {},
   "outputs": [
    {
     "name": "stdout",
     "output_type": "stream",
     "text": [
      "'10.list , tuples , set .ipynb'\n",
      "'11.disnary,conditional loop.ipynb'\n",
      "'12.for loop.ipynb'\n",
      "'13_14.while loop & comprehence .ipynb'\n",
      "'15.function part 1.ipynb'\n",
      "'16.Generator function.ipynb'\n",
      "'17.lambda function.ipynb'\n",
      "'18.map,reduce & filter function.ipynb'\n",
      " 1.assignment-1.ipynb\n",
      "'20.Oops part 1.ipynb'\n",
      " 21.polumorphism.ipynb\n",
      " 23.Encapsulation.ipynb\n",
      " 24.Inheritance.ipynb\n",
      " 26.decorators.ipynb\n",
      "'27.class methods.ipynb'\n",
      "'28.static methods.ipynb'\n",
      "'29.special methods.ipynb'\n",
      " 2.assignment.ipynb\n",
      "'30.property decorators,getters,setters,delectes.ipynb'\n",
      "'31.working with file.ipynb'\n",
      "'32.reading and writing file.ipynb'\n",
      "'33.buffered read and write & other file method.ipynb'\n",
      "'34.logging & debugger.ipynb'\n",
      "'35.modules and import statements.ipynb'\n",
      "'3.assignment .ipynb'\n",
      " 4.assingment.ipynb\n",
      " 5.assignment.ipynb\n",
      " 6.assignment.ipynb\n",
      "'7th_date assignment.ipynb'\n",
      " 9.python.ipynb\n",
      " README.md\n",
      " sample-code.ipynb\n",
      " test.txt\n",
      "\u001b[0m\u001b[01;34m'Untitled Folder'\u001b[0m/\n"
     ]
    }
   ],
   "source": [
    "ls"
   ]
  },
  {
   "cell_type": "code",
   "execution_count": 4,
   "id": "b673bf4a-6cfe-4dea-be25-57c15a9057b0",
   "metadata": {},
   "outputs": [
    {
     "name": "stdout",
     "output_type": "stream",
     "text": [
      "[Errno 2] No such file or directory: 'work'\n",
      "/home/jovyan/work\n"
     ]
    }
   ],
   "source": [
    "cd work"
   ]
  },
  {
   "cell_type": "code",
   "execution_count": 5,
   "id": "fef06dac-f766-446a-905a-8fc9ce6ff35c",
   "metadata": {},
   "outputs": [
    {
     "name": "stdout",
     "output_type": "stream",
     "text": [
      "'10.list , tuples , set .ipynb'\n",
      "'11.disnary,conditional loop.ipynb'\n",
      "'12.for loop.ipynb'\n",
      "'13_14.while loop & comprehence .ipynb'\n",
      "'15.function part 1.ipynb'\n",
      "'16.Generator function.ipynb'\n",
      "'17.lambda function.ipynb'\n",
      "'18.map,reduce & filter function.ipynb'\n",
      " 1.assignment-1.ipynb\n",
      "'20.Oops part 1.ipynb'\n",
      " 21.polumorphism.ipynb\n",
      " 23.Encapsulation.ipynb\n",
      " 24.Inheritance.ipynb\n",
      " 26.decorators.ipynb\n",
      "'27.class methods.ipynb'\n",
      "'28.static methods.ipynb'\n",
      "'29.special methods.ipynb'\n",
      " 2.assignment.ipynb\n",
      "'30.property decorators,getters,setters,delectes.ipynb'\n",
      "'31.working with file.ipynb'\n",
      "'32.reading and writing file.ipynb'\n",
      "'33.buffered read and write & other file method.ipynb'\n",
      "'34.logging & debugger.ipynb'\n",
      "'35.modules and import statements.ipynb'\n",
      "'3.assignment .ipynb'\n",
      " 4.assingment.ipynb\n",
      " 5.assignment.ipynb\n",
      " 6.assignment.ipynb\n",
      "'7th_date assignment.ipynb'\n",
      " 9.python.ipynb\n",
      " \u001b[0m\u001b[01;34mpython\u001b[0m/\n",
      " README.md\n",
      " sample-code.ipynb\n",
      " test.txt\n"
     ]
    }
   ],
   "source": [
    "ls"
   ]
  },
  {
   "cell_type": "code",
   "execution_count": 11,
   "id": "fadc7f76-ccdf-4737-a9d7-7e77ba658b35",
   "metadata": {},
   "outputs": [
    {
     "data": {
      "text/plain": [
       "30"
      ]
     },
     "execution_count": 11,
     "metadata": {},
     "output_type": "execute_result"
    }
   ],
   "source": [
    "f.write(\"this is my first file to write\")"
   ]
  },
  {
   "cell_type": "code",
   "execution_count": 12,
   "id": "e39c75e3-3de9-49cc-a21a-b05c31207c71",
   "metadata": {},
   "outputs": [],
   "source": [
    "f.close()"
   ]
  },
  {
   "cell_type": "code",
   "execution_count": 13,
   "id": "bbaada88-9e29-4814-9c8e-70ed0b185950",
   "metadata": {},
   "outputs": [],
   "source": [
    "f=open(\"test.txt\",\"w\")"
   ]
  },
  {
   "cell_type": "code",
   "execution_count": 14,
   "id": "9f783b90-18e9-4af0-9a25-5cd24304d3e9",
   "metadata": {},
   "outputs": [
    {
     "data": {
      "text/plain": [
       "10"
      ]
     },
     "execution_count": 14,
     "metadata": {},
     "output_type": "execute_result"
    }
   ],
   "source": [
    "f.write(\"hy hemangi\")"
   ]
  },
  {
   "cell_type": "code",
   "execution_count": 25,
   "id": "da478aa1-3725-412c-ba5a-64eb8c57a908",
   "metadata": {},
   "outputs": [],
   "source": [
    "f.close()"
   ]
  },
  {
   "cell_type": "code",
   "execution_count": 26,
   "id": "097c8e29-af6d-4750-8896-cefa813231b3",
   "metadata": {},
   "outputs": [],
   "source": [
    "f=open(\"test.txt\",\"a\")"
   ]
  },
  {
   "cell_type": "code",
   "execution_count": 27,
   "id": "516ef214-27be-40c3-9871-6672b105efc6",
   "metadata": {},
   "outputs": [
    {
     "data": {
      "text/plain": [
       "719"
      ]
     },
     "execution_count": 27,
     "metadata": {},
     "output_type": "execute_result"
    }
   ],
   "source": [
    "f.write(\"Data Science Masters course is highly curated and uniquely designed according to the latest industry standards. This program instills students the skills essential to knowledge discovery efforts to identify standard, novel, and truly differentiated solutions and decision-making, including skills in managing, querying, analyzing, visualizing, and extracting meaning from extremely large data sets. This trending program provides students with the statistical, mathematical and computational skills needed to meet the large-scale data science challenges of today's professional world. You will learn all the stack required to work in data science industry including cloud infrastructure and real-time industry projects.\")"
   ]
  },
  {
   "cell_type": "code",
   "execution_count": 28,
   "id": "d3e74cc5-1368-440e-ae7f-f0a46c3590d6",
   "metadata": {},
   "outputs": [],
   "source": [
    "f.close()"
   ]
  },
  {
   "cell_type": "code",
   "execution_count": 29,
   "id": "31340847-d943-4ead-b029-4c951e936c4e",
   "metadata": {},
   "outputs": [],
   "source": [
    "f= open (\"test.txt\",\"r\")"
   ]
  },
  {
   "cell_type": "code",
   "execution_count": 30,
   "id": "2889a4ff-d16c-4735-a138-a6f65231e299",
   "metadata": {},
   "outputs": [
    {
     "data": {
      "text/plain": [
       "\"hy hemangiData Science Masters course is highly curated and uniquely designed according to the latest industry standards. This program instills students the skills essential to knowledge discovery efforts to identify standard, novel, and truly differentiated solutions and decision-making, including skills in managing, querying, analyzing, visualizing, and extracting meaning from extremely large data sets. This trending program provides students with the statistical, mathematical and computational skills needed to meet the large-scale data science challenges of today's professional world. You will learn all the stack required to work in data science industry including cloud infrastructure and real-time industry projects.Data Science Masters course is highly curated and uniquely designed according to the latest industry standards. This program instills students the skills essential to knowledge discovery efforts to identify standard, novel, and truly differentiated solutions and decision-making, including skills in managing, querying, analyzing, visualizing, and extracting meaning from extremely large data sets. This trending program provides students with the statistical, mathematical and computational skills needed to meet the large-scale data science challenges of today's professional world. You will learn all the stack required to work in data science industry including cloud infrastructure and real-time industry projects.\""
      ]
     },
     "execution_count": 30,
     "metadata": {},
     "output_type": "execute_result"
    }
   ],
   "source": [
    "f.read()"
   ]
  },
  {
   "cell_type": "code",
   "execution_count": 31,
   "id": "1da059f0-cc1f-481c-8ad4-8240b6d45562",
   "metadata": {},
   "outputs": [],
   "source": [
    "data = open (\"test.txt\",\"r\")"
   ]
  },
  {
   "cell_type": "code",
   "execution_count": 32,
   "id": "e04cd27f-5443-4821-8b4f-322a72b46601",
   "metadata": {},
   "outputs": [
    {
     "data": {
      "text/plain": [
       "\"hy hemangiData Science Masters course is highly curated and uniquely designed according to the latest industry standards. This program instills students the skills essential to knowledge discovery efforts to identify standard, novel, and truly differentiated solutions and decision-making, including skills in managing, querying, analyzing, visualizing, and extracting meaning from extremely large data sets. This trending program provides students with the statistical, mathematical and computational skills needed to meet the large-scale data science challenges of today's professional world. You will learn all the stack required to work in data science industry including cloud infrastructure and real-time industry projects.Data Science Masters course is highly curated and uniquely designed according to the latest industry standards. This program instills students the skills essential to knowledge discovery efforts to identify standard, novel, and truly differentiated solutions and decision-making, including skills in managing, querying, analyzing, visualizing, and extracting meaning from extremely large data sets. This trending program provides students with the statistical, mathematical and computational skills needed to meet the large-scale data science challenges of today's professional world. You will learn all the stack required to work in data science industry including cloud infrastructure and real-time industry projects.\""
      ]
     },
     "execution_count": 32,
     "metadata": {},
     "output_type": "execute_result"
    }
   ],
   "source": [
    "data.read()"
   ]
  },
  {
   "cell_type": "code",
   "execution_count": 35,
   "id": "d7604a5c-801d-4c62-8c47-c112df0d0e9b",
   "metadata": {},
   "outputs": [
    {
     "data": {
      "text/plain": [
       "\"hy hemangiData Science Masters course is highly curated and uniquely designed according to the latest industry standards. This program instills students the skills essential to knowledge discovery efforts to identify standard, novel, and truly differentiated solutions and decision-making, including skills in managing, querying, analyzing, visualizing, and extracting meaning from extremely large data sets. This trending program provides students with the statistical, mathematical and computational skills needed to meet the large-scale data science challenges of today's professional world. You will learn all the stack required to work in data science industry including cloud infrastructure and real-time industry projects.Data Science Masters course is highly curated and uniquely designed according to the latest industry standards. This program instills students the skills essential to knowledge discovery efforts to identify standard, novel, and truly differentiated solutions and decision-making, including skills in managing, querying, analyzing, visualizing, and extracting meaning from extremely large data sets. This trending program provides students with the statistical, mathematical and computational skills needed to meet the large-scale data science challenges of today's professional world. You will learn all the stack required to work in data science industry including cloud infrastructure and real-time industry projects.\""
      ]
     },
     "execution_count": 35,
     "metadata": {},
     "output_type": "execute_result"
    }
   ],
   "source": [
    "data.readline()"
   ]
  },
  {
   "cell_type": "code",
   "execution_count": 34,
   "id": "17842c0b-4b66-414b-894e-05502be2b4de",
   "metadata": {},
   "outputs": [
    {
     "data": {
      "text/plain": [
       "0"
      ]
     },
     "execution_count": 34,
     "metadata": {},
     "output_type": "execute_result"
    }
   ],
   "source": [
    "data.seek(0)   ## pointer ko 0 position pr dal do "
   ]
  },
  {
   "cell_type": "code",
   "execution_count": 36,
   "id": "b0d1d284-6d5a-430c-88ec-dd7f2f3a4d2d",
   "metadata": {},
   "outputs": [
    {
     "data": {
      "text/plain": [
       "''"
      ]
     },
     "execution_count": 36,
     "metadata": {},
     "output_type": "execute_result"
    }
   ],
   "source": [
    "data.readline()"
   ]
  },
  {
   "cell_type": "code",
   "execution_count": 37,
   "id": "f84e3dd9-5228-4bb5-a8ff-0c725a1ada29",
   "metadata": {},
   "outputs": [
    {
     "data": {
      "text/plain": [
       "20"
      ]
     },
     "execution_count": 37,
     "metadata": {},
     "output_type": "execute_result"
    }
   ],
   "source": [
    "data.seek(20)"
   ]
  },
  {
   "cell_type": "code",
   "execution_count": 38,
   "id": "6f5fb020-762b-43cc-9d84-01ccf30c5efd",
   "metadata": {},
   "outputs": [
    {
     "data": {
      "text/plain": [
       "\"ce Masters course is highly curated and uniquely designed according to the latest industry standards. This program instills students the skills essential to knowledge discovery efforts to identify standard, novel, and truly differentiated solutions and decision-making, including skills in managing, querying, analyzing, visualizing, and extracting meaning from extremely large data sets. This trending program provides students with the statistical, mathematical and computational skills needed to meet the large-scale data science challenges of today's professional world. You will learn all the stack required to work in data science industry including cloud infrastructure and real-time industry projects.Data Science Masters course is highly curated and uniquely designed according to the latest industry standards. This program instills students the skills essential to knowledge discovery efforts to identify standard, novel, and truly differentiated solutions and decision-making, including skills in managing, querying, analyzing, visualizing, and extracting meaning from extremely large data sets. This trending program provides students with the statistical, mathematical and computational skills needed to meet the large-scale data science challenges of today's professional world. You will learn all the stack required to work in data science industry including cloud infrastructure and real-time industry projects.\""
      ]
     },
     "execution_count": 38,
     "metadata": {},
     "output_type": "execute_result"
    }
   ],
   "source": [
    "data.readline()"
   ]
  },
  {
   "cell_type": "code",
   "execution_count": 43,
   "id": "f1f07cdf-19f4-43ab-a8f4-768d288c595f",
   "metadata": {},
   "outputs": [],
   "source": [
    "data1 = open (\"test.txt\",\"r\")"
   ]
  },
  {
   "cell_type": "code",
   "execution_count": 45,
   "id": "be32071f-3ca1-42d6-9219-996f8bb1a8c1",
   "metadata": {},
   "outputs": [
    {
     "name": "stdout",
     "output_type": "stream",
     "text": [
      "hy hemangiData Science Masters course is highly curated and uniquely designed according to the latest industry standards. This program instills students the skills essential to knowledge discovery efforts to identify standard, novel, and truly differentiated solutions and decision-making, including skills in managing, querying, analyzing, visualizing, and extracting meaning from extremely large data sets. This trending program provides students with the statistical, mathematical and computational skills needed to meet the large-scale data science challenges of today's professional world. You will learn all the stack required to work in data science industry including cloud infrastructure and real-time industry projects.Data Science Masters course is highly curated and uniquely designed according to the latest industry standards. This program instills students the skills essential to knowledge discovery efforts to identify standard, novel, and truly differentiated solutions and decision-making, including skills in managing, querying, analyzing, visualizing, and extracting meaning from extremely large data sets. This trending program provides students with the statistical, mathematical and computational skills needed to meet the large-scale data science challenges of today's professional world. You will learn all the stack required to work in data science industry including cloud infrastructure and real-time industry projects.\n"
     ]
    }
   ],
   "source": [
    "for i in data1:\n",
    "    print(i)"
   ]
  },
  {
   "cell_type": "code",
   "execution_count": 46,
   "id": "a761146b-eab6-4a0c-9829-5a30588b913d",
   "metadata": {},
   "outputs": [],
   "source": [
    "import os "
   ]
  },
  {
   "cell_type": "code",
   "execution_count": 47,
   "id": "89ed75a1-ef3f-483e-aedc-aa9426dcd50f",
   "metadata": {},
   "outputs": [
    {
     "data": {
      "text/plain": [
       "1448"
      ]
     },
     "execution_count": 47,
     "metadata": {},
     "output_type": "execute_result"
    }
   ],
   "source": [
    "os.path.getsize(\"test.txt\")"
   ]
  },
  {
   "cell_type": "code",
   "execution_count": 48,
   "id": "2edd5412-a8f8-43a8-ae45-36b1abfcb23e",
   "metadata": {},
   "outputs": [],
   "source": [
    "os.remove(\"test.txt\")"
   ]
  },
  {
   "cell_type": "code",
   "execution_count": 49,
   "id": "8dae2c21-5a4e-42b2-87b4-57397172b05f",
   "metadata": {},
   "outputs": [],
   "source": [
    "f= open (\"test1.txt\",\"w\")"
   ]
  },
  {
   "cell_type": "code",
   "execution_count": 50,
   "id": "ab95a403-0146-4012-b1c3-12670ccf1f61",
   "metadata": {},
   "outputs": [
    {
     "data": {
      "text/plain": [
       "719"
      ]
     },
     "execution_count": 50,
     "metadata": {},
     "output_type": "execute_result"
    }
   ],
   "source": [
    "f.write(\"Data Science Masters course is highly curated and uniquely designed according to the latest industry standards. This program instills students the skills essential to knowledge discovery efforts to identify standard, novel, and truly differentiated solutions and decision-making, including skills in managing, querying, analyzing, visualizing, and extracting meaning from extremely large data sets. This trending program provides students with the statistical, mathematical and computational skills needed to meet the large-scale data science challenges of today's professional world. You will learn all the stack required to work in data science industry including cloud infrastructure and real-time industry projects.\")"
   ]
  },
  {
   "cell_type": "code",
   "execution_count": 51,
   "id": "b4c2e0f3-dca0-4eab-93a0-accc487e85c8",
   "metadata": {},
   "outputs": [],
   "source": [
    "f.close()"
   ]
  },
  {
   "cell_type": "code",
   "execution_count": 52,
   "id": "5efae20b-5840-4d87-bd93-9f5eca0d175b",
   "metadata": {},
   "outputs": [],
   "source": [
    "os.rename(\"test1.txt\",\"new.txt\")"
   ]
  },
  {
   "cell_type": "code",
   "execution_count": 53,
   "id": "fc119769-4566-4e9b-85a0-585448736dc2",
   "metadata": {},
   "outputs": [],
   "source": [
    "import shutil"
   ]
  },
  {
   "cell_type": "code",
   "execution_count": 54,
   "id": "56b85aa0-0e3d-478a-a27a-708e4ae7174f",
   "metadata": {},
   "outputs": [
    {
     "data": {
      "text/plain": [
       "'copy_new.txt'"
      ]
     },
     "execution_count": 54,
     "metadata": {},
     "output_type": "execute_result"
    }
   ],
   "source": [
    "shutil.copy(\"new.txt\",\"copy_new.txt\")"
   ]
  },
  {
   "cell_type": "code",
   "execution_count": 59,
   "id": "80af4ff5-6b24-49fa-9be2-0d42f3966010",
   "metadata": {},
   "outputs": [
    {
     "name": "stdout",
     "output_type": "stream",
     "text": [
      "Data Science Masters course is highly curated and uniquely designed according to the latest industry standards. This program instills students the skills essential to knowledge discovery efforts to identify standard, novel, and truly differentiated solutions and decision-making, including skills in managing, querying, analyzing, visualizing, and extracting meaning from extremely large data sets. This trending program provides students with the statistical, mathematical and computational skills needed to meet the large-scale data science challenges of today's professional world. You will learn all the stack required to work in data science industry including cloud infrastructure and real-time industry projects.\n"
     ]
    }
   ],
   "source": [
    "with open(\"new.txt\",\"r\") as f :\n",
    "    print(f.read())"
   ]
  },
  {
   "cell_type": "code",
   "execution_count": null,
   "id": "80f9d911-ad23-402d-8952-d9ec7d78e2e3",
   "metadata": {},
   "outputs": [],
   "source": []
  }
 ],
 "metadata": {
  "kernelspec": {
   "display_name": "Python 3 (ipykernel)",
   "language": "python",
   "name": "python3"
  },
  "language_info": {
   "codemirror_mode": {
    "name": "ipython",
    "version": 3
   },
   "file_extension": ".py",
   "mimetype": "text/x-python",
   "name": "python",
   "nbconvert_exporter": "python",
   "pygments_lexer": "ipython3",
   "version": "3.10.8"
  }
 },
 "nbformat": 4,
 "nbformat_minor": 5
}
